{
 "cells": [
  {
   "cell_type": "code",
   "execution_count": 1,
   "id": "62e4202c",
   "metadata": {},
   "outputs": [],
   "source": [
    "#!pip3 install vaderSentiment"
   ]
  },
  {
   "cell_type": "code",
   "execution_count": 1,
   "id": "430a7700",
   "metadata": {},
   "outputs": [],
   "source": [
    "import nltk\n",
    "# nltk.download()\n",
    "\n",
    "import numpy as np\n",
    "import pandas as pd\n",
    "import requests\n",
    "import seaborn as sns\n",
    "#import matplotlib.pyplot as plt\n",
    "#from wordcloud import wordcloud, STOPWORDS\n",
    "import os\n",
    "import itertools\n",
    "\n",
    "from nltk import sent_tokenize, word_tokenize, FreqDist\n",
    "from nltk.data import load\n",
    "from wordcloud import WordCloud, STOPWORDS\n",
    "from langdetect import detect\n",
    "#!pip install deep-translator\n",
    "from deep_translator import GoogleTranslator\n",
    "\n",
    "from vaderSentiment.vaderSentiment import SentimentIntensityAnalyzer\n",
    "import warnings\n",
    "warnings.filterwarnings(\"ignore\")"
   ]
  },
  {
   "cell_type": "markdown",
   "id": "2d5bc50e",
   "metadata": {},
   "source": [
    "<h1> Staging the Data </h1>"
   ]
  },
  {
   "cell_type": "markdown",
   "id": "c5ee9bd9",
   "metadata": {},
   "source": [
    "<h2> Read the data files and concatenate </h2>"
   ]
  },
  {
   "cell_type": "code",
   "execution_count": 1,
   "id": "e30c2294",
   "metadata": {},
   "outputs": [],
   "source": [
    "df1 = pd.read_csv('7282_1.csv')\n",
    "df2 = pd.read_csv('Datafiniti_Hotel_Reviews_Jun19.csv')\n",
    "df3 = pd.read_csv('Datafiniti_Hotel_Reviews.csv')"
   ]
  },
  {
   "cell_type": "code",
   "execution_count": 62,
   "id": "94fe1ae8",
   "metadata": {
    "scrolled": true
   },
   "outputs": [
    {
     "name": "stdout",
     "output_type": "stream",
     "text": [
      "Number of observations in df1:  35912\n",
      "Number of observations in df2:  10000\n",
      "Number of observations in df3:  10000\n",
      "Total number of observations in the raw dataset should then be:  55912\n"
     ]
    }
   ],
   "source": [
    "print('Number of observations in df1: ', len(df1))\n",
    "print('Number of observations in df2: ', len(df2))\n",
    "print('Number of observations in df3: ', len(df3))\n",
    "print('Total number of observations in the raw dataset should then be: ', len(df1)+len(df2)+len(df3))"
   ]
  },
  {
   "cell_type": "markdown",
   "id": "4c6df160",
   "metadata": {},
   "source": [
    "<h4> Examine the raw, concatinated dataset </h4>"
   ]
  },
  {
   "cell_type": "code",
   "execution_count": 63,
   "id": "75f072f5",
   "metadata": {},
   "outputs": [
    {
     "name": "stdout",
     "output_type": "stream",
     "text": [
      "<class 'pandas.core.frame.DataFrame'>\n",
      "RangeIndex: 55912 entries, 0 to 55911\n",
      "Data columns (total 28 columns):\n",
      " #   Column                Non-Null Count  Dtype  \n",
      "---  ------                --------------  -----  \n",
      " 0   address               55912 non-null  object \n",
      " 1   categories            55912 non-null  object \n",
      " 2   city                  55912 non-null  object \n",
      " 3   country               55912 non-null  object \n",
      " 4   latitude              55826 non-null  float64\n",
      " 5   longitude             55826 non-null  float64\n",
      " 6   name                  55912 non-null  object \n",
      " 7   postalCode            55857 non-null  object \n",
      " 8   province              55912 non-null  object \n",
      " 9   reviews.date          55653 non-null  object \n",
      " 10  reviews.dateAdded     35912 non-null  object \n",
      " 11  reviews.doRecommend   0 non-null      float64\n",
      " 12  reviews.id            0 non-null      float64\n",
      " 13  reviews.rating        55050 non-null  float64\n",
      " 14  reviews.text          55889 non-null  object \n",
      " 15  reviews.title         54288 non-null  object \n",
      " 16  reviews.userCity      30427 non-null  object \n",
      " 17  reviews.username      55869 non-null  object \n",
      " 18  reviews.userProvince  30221 non-null  object \n",
      " 19  id                    20000 non-null  object \n",
      " 20  dateAdded             20000 non-null  object \n",
      " 21  dateUpdated           20000 non-null  object \n",
      " 22  primaryCategories     20000 non-null  object \n",
      " 23  keys                  20000 non-null  object \n",
      " 24  reviews.dateSeen      20000 non-null  object \n",
      " 25  reviews.sourceURLs    20000 non-null  object \n",
      " 26  sourceURLs            20000 non-null  object \n",
      " 27  websites              20000 non-null  object \n",
      "dtypes: float64(5), object(23)\n",
      "memory usage: 11.9+ MB\n"
     ]
    }
   ],
   "source": [
    "df4=pd.concat([df1,df2,df3],ignore_index=True)\n",
    "df4.info()"
   ]
  },
  {
   "cell_type": "markdown",
   "id": "140dc99d",
   "metadata": {},
   "source": [
    "Several data columns are such that only 20,000 observations are non-null values, which is the total size of df2 and df3 together. This is indicative that these columns are not present in df1. More, many of these columns are extraneous as the information is already captured in the columns that they have in common with df1."
   ]
  },
  {
   "cell_type": "code",
   "execution_count": 64,
   "id": "bfb71bc6",
   "metadata": {},
   "outputs": [
    {
     "data": {
      "text/plain": [
       "55911"
      ]
     },
     "execution_count": 64,
     "metadata": {},
     "output_type": "execute_result"
    }
   ],
   "source": [
    "max(df4.index)"
   ]
  },
  {
   "cell_type": "markdown",
   "id": "7df62574",
   "metadata": {},
   "source": [
    "Concatenating each dataframe such that only common columns are present in the resulting dataset. In other words, we will concatenate using an innner join."
   ]
  },
  {
   "cell_type": "code",
   "execution_count": 65,
   "id": "e77ff333",
   "metadata": {},
   "outputs": [],
   "source": [
    "df = pd.concat([df1, df2, df3],join='inner',ignore_index=True)"
   ]
  },
  {
   "cell_type": "code",
   "execution_count": 66,
   "id": "9971b7d8",
   "metadata": {},
   "outputs": [
    {
     "data": {
      "text/plain": [
       "55911"
      ]
     },
     "execution_count": 66,
     "metadata": {},
     "output_type": "execute_result"
    }
   ],
   "source": [
    "max(df.index)"
   ]
  },
  {
   "cell_type": "markdown",
   "id": "6c902b4b",
   "metadata": {},
   "source": [
    "<h3> We can print out the info of the dataframe, and some sample rows to check </h3>"
   ]
  },
  {
   "cell_type": "code",
   "execution_count": 67,
   "id": "e9e66a44",
   "metadata": {},
   "outputs": [
    {
     "name": "stdout",
     "output_type": "stream",
     "text": [
      "<class 'pandas.core.frame.DataFrame'>\n",
      "RangeIndex: 55912 entries, 0 to 55911\n",
      "Data columns (total 16 columns):\n",
      " #   Column                Non-Null Count  Dtype  \n",
      "---  ------                --------------  -----  \n",
      " 0   address               55912 non-null  object \n",
      " 1   categories            55912 non-null  object \n",
      " 2   city                  55912 non-null  object \n",
      " 3   country               55912 non-null  object \n",
      " 4   latitude              55826 non-null  float64\n",
      " 5   longitude             55826 non-null  float64\n",
      " 6   name                  55912 non-null  object \n",
      " 7   postalCode            55857 non-null  object \n",
      " 8   province              55912 non-null  object \n",
      " 9   reviews.date          55653 non-null  object \n",
      " 10  reviews.rating        55050 non-null  float64\n",
      " 11  reviews.text          55889 non-null  object \n",
      " 12  reviews.title         54288 non-null  object \n",
      " 13  reviews.userCity      30427 non-null  object \n",
      " 14  reviews.username      55869 non-null  object \n",
      " 15  reviews.userProvince  30221 non-null  object \n",
      "dtypes: float64(3), object(13)\n",
      "memory usage: 6.8+ MB\n"
     ]
    }
   ],
   "source": [
    "df.info()"
   ]
  },
  {
   "cell_type": "code",
   "execution_count": 68,
   "id": "6219c011",
   "metadata": {},
   "outputs": [
    {
     "data": {
      "text/plain": [
       "2976"
      ]
     },
     "execution_count": 68,
     "metadata": {},
     "output_type": "execute_result"
    }
   ],
   "source": [
    "len(df4['id'].unique())"
   ]
  },
  {
   "cell_type": "code",
   "execution_count": 69,
   "id": "950bf047",
   "metadata": {},
   "outputs": [
    {
     "data": {
      "text/html": [
       "<div>\n",
       "<style scoped>\n",
       "    .dataframe tbody tr th:only-of-type {\n",
       "        vertical-align: middle;\n",
       "    }\n",
       "\n",
       "    .dataframe tbody tr th {\n",
       "        vertical-align: top;\n",
       "    }\n",
       "\n",
       "    .dataframe thead th {\n",
       "        text-align: right;\n",
       "    }\n",
       "</style>\n",
       "<table border=\"1\" class=\"dataframe\">\n",
       "  <thead>\n",
       "    <tr style=\"text-align: right;\">\n",
       "      <th></th>\n",
       "      <th>address (object)</th>\n",
       "      <th>categories (object)</th>\n",
       "      <th>city (object)</th>\n",
       "      <th>country (object)</th>\n",
       "      <th>latitude (float64)</th>\n",
       "      <th>longitude (float64)</th>\n",
       "      <th>name (object)</th>\n",
       "      <th>postalCode (object)</th>\n",
       "      <th>province (object)</th>\n",
       "      <th>reviews.date (object)</th>\n",
       "      <th>reviews.rating (float64)</th>\n",
       "      <th>reviews.text (object)</th>\n",
       "      <th>reviews.title (object)</th>\n",
       "      <th>reviews.userCity (object)</th>\n",
       "      <th>reviews.username (object)</th>\n",
       "      <th>reviews.userProvince (object)</th>\n",
       "    </tr>\n",
       "  </thead>\n",
       "  <tbody>\n",
       "    <tr>\n",
       "      <th>12857</th>\n",
       "      <td>1071 E El Camino Real</td>\n",
       "      <td>Hotels</td>\n",
       "      <td>Sunnyvale</td>\n",
       "      <td>US</td>\n",
       "      <td>37.352307</td>\n",
       "      <td>-122.003242</td>\n",
       "      <td>Cherry Orchard Inn</td>\n",
       "      <td>94087</td>\n",
       "      <td>CA</td>\n",
       "      <td>2015-08-23T00:00:00Z</td>\n",
       "      <td>3.0</td>\n",
       "      <td>Arrived in our room to find hair in the bathtu...</td>\n",
       "      <td>OK stay for what was needed good be better.</td>\n",
       "      <td>NaN</td>\n",
       "      <td>TINA</td>\n",
       "      <td>NaN</td>\n",
       "    </tr>\n",
       "    <tr>\n",
       "      <th>31351</th>\n",
       "      <td>35 Via Pico Plz</td>\n",
       "      <td>Hotels</td>\n",
       "      <td>San Clemente</td>\n",
       "      <td>US</td>\n",
       "      <td>33.437538</td>\n",
       "      <td>-117.621732</td>\n",
       "      <td>Holiday Inn Express San Clemente</td>\n",
       "      <td>92672</td>\n",
       "      <td>CA</td>\n",
       "      <td>2016-03-25T00:00:00Z</td>\n",
       "      <td>4.0</td>\n",
       "      <td>Good convenient location. Very nice hotel.</td>\n",
       "      <td>This is an okay hotel.</td>\n",
       "      <td>West Columbia</td>\n",
       "      <td>A Traveler</td>\n",
       "      <td>SC</td>\n",
       "    </tr>\n",
       "    <tr>\n",
       "      <th>11350</th>\n",
       "      <td>741 E Washington St</td>\n",
       "      <td>Cocktail Lounges,Restaurants,Hotels,Casinos,Lo...</td>\n",
       "      <td>Charles Town</td>\n",
       "      <td>US</td>\n",
       "      <td>39.293040</td>\n",
       "      <td>-77.850866</td>\n",
       "      <td>Turf Motel</td>\n",
       "      <td>25414</td>\n",
       "      <td>WV</td>\n",
       "      <td>2016-03-12T00:00:00Z</td>\n",
       "      <td>4.0</td>\n",
       "      <td>My husband and I have stayed at the Turf sever...</td>\n",
       "      <td>Turf Motel</td>\n",
       "      <td>Virginia</td>\n",
       "      <td>BettyKVirginia</td>\n",
       "      <td>VA</td>\n",
       "    </tr>\n",
       "    <tr>\n",
       "      <th>38032</th>\n",
       "      <td>100 Colleton Ave SW</td>\n",
       "      <td>Hotels,Hotel,Restaurants</td>\n",
       "      <td>Aiken</td>\n",
       "      <td>US</td>\n",
       "      <td>33.557110</td>\n",
       "      <td>-81.721620</td>\n",
       "      <td>The Willcox</td>\n",
       "      <td>29801</td>\n",
       "      <td>SC</td>\n",
       "      <td>2016-04-30T00:00:00Z</td>\n",
       "      <td>1.0</td>\n",
       "      <td>I made a guaranteed reservation in October for...</td>\n",
       "      <td>Unilaterally cancelled my reservation...</td>\n",
       "      <td>Lewiston</td>\n",
       "      <td>barolobrunello</td>\n",
       "      <td>NY</td>\n",
       "    </tr>\n",
       "    <tr>\n",
       "      <th>12359</th>\n",
       "      <td>7070 Poe Ave</td>\n",
       "      <td>Hotels</td>\n",
       "      <td>Dayton</td>\n",
       "      <td>US</td>\n",
       "      <td>39.849845</td>\n",
       "      <td>-84.189419</td>\n",
       "      <td>Hawthorn Suites Dayton North</td>\n",
       "      <td>45414</td>\n",
       "      <td>OH</td>\n",
       "      <td>2016-06-15T00:00:00Z</td>\n",
       "      <td>4.0</td>\n",
       "      <td>It was very clean (fresh)and quiet, staff was ...</td>\n",
       "      <td>WOW</td>\n",
       "      <td>NaN</td>\n",
       "      <td>michelle</td>\n",
       "      <td>NaN</td>\n",
       "    </tr>\n",
       "  </tbody>\n",
       "</table>\n",
       "</div>"
      ],
      "text/plain": [
       "            address (object)  \\\n",
       "12857  1071 E El Camino Real   \n",
       "31351        35 Via Pico Plz   \n",
       "11350    741 E Washington St   \n",
       "38032    100 Colleton Ave SW   \n",
       "12359           7070 Poe Ave   \n",
       "\n",
       "                                     categories (object) city (object)  \\\n",
       "12857                                             Hotels     Sunnyvale   \n",
       "31351                                             Hotels  San Clemente   \n",
       "11350  Cocktail Lounges,Restaurants,Hotels,Casinos,Lo...  Charles Town   \n",
       "38032                           Hotels,Hotel,Restaurants         Aiken   \n",
       "12359                                             Hotels        Dayton   \n",
       "\n",
       "      country (object)  latitude (float64)  longitude (float64)  \\\n",
       "12857               US           37.352307          -122.003242   \n",
       "31351               US           33.437538          -117.621732   \n",
       "11350               US           39.293040           -77.850866   \n",
       "38032               US           33.557110           -81.721620   \n",
       "12359               US           39.849845           -84.189419   \n",
       "\n",
       "                          name (object) postalCode (object) province (object)  \\\n",
       "12857                Cherry Orchard Inn               94087                CA   \n",
       "31351  Holiday Inn Express San Clemente               92672                CA   \n",
       "11350                        Turf Motel               25414                WV   \n",
       "38032                       The Willcox               29801                SC   \n",
       "12359      Hawthorn Suites Dayton North               45414                OH   \n",
       "\n",
       "      reviews.date (object)  reviews.rating (float64)  \\\n",
       "12857  2015-08-23T00:00:00Z                       3.0   \n",
       "31351  2016-03-25T00:00:00Z                       4.0   \n",
       "11350  2016-03-12T00:00:00Z                       4.0   \n",
       "38032  2016-04-30T00:00:00Z                       1.0   \n",
       "12359  2016-06-15T00:00:00Z                       4.0   \n",
       "\n",
       "                                   reviews.text (object)  \\\n",
       "12857  Arrived in our room to find hair in the bathtu...   \n",
       "31351         Good convenient location. Very nice hotel.   \n",
       "11350  My husband and I have stayed at the Turf sever...   \n",
       "38032  I made a guaranteed reservation in October for...   \n",
       "12359  It was very clean (fresh)and quiet, staff was ...   \n",
       "\n",
       "                            reviews.title (object) reviews.userCity (object)  \\\n",
       "12857  OK stay for what was needed good be better.                       NaN   \n",
       "31351                       This is an okay hotel.             West Columbia   \n",
       "11350                                   Turf Motel                  Virginia   \n",
       "38032     Unilaterally cancelled my reservation...                  Lewiston   \n",
       "12359                                          WOW                       NaN   \n",
       "\n",
       "      reviews.username (object) reviews.userProvince (object)  \n",
       "12857                      TINA                           NaN  \n",
       "31351                A Traveler                            SC  \n",
       "11350            BettyKVirginia                            VA  \n",
       "38032            barolobrunello                            NY  \n",
       "12359                  michelle                           NaN  "
      ]
     },
     "execution_count": 69,
     "metadata": {},
     "output_type": "execute_result"
    }
   ],
   "source": [
    "df.rename(columns = {\n",
    "    col : f\"{col} ({dtype})\"\n",
    "    for col, dtype in df.dtypes.to_dict().items()\n",
    "}).sample(5, random_state = 0)"
   ]
  },
  {
   "cell_type": "markdown",
   "id": "797d4b86",
   "metadata": {},
   "source": [
    "<h2> Initial Data Cleaning </h2>"
   ]
  },
  {
   "cell_type": "markdown",
   "id": "b3267d49",
   "metadata": {},
   "source": [
    "<li> Drop the columns with no observations \n",
    "<li> Rename the reviews columns\n",
    "<li> Drop the rows where review ratings or review texts are not available\n",
    "<li> Replace the empty titles with an empty string instead of NaN"
   ]
  },
  {
   "cell_type": "code",
   "execution_count": 70,
   "id": "dccc4a34",
   "metadata": {},
   "outputs": [],
   "source": [
    "df.dropna(axis = 'columns', how = 'all', inplace = True)"
   ]
  },
  {
   "cell_type": "markdown",
   "id": "8411d071",
   "metadata": {},
   "source": [
    "Check out the reviews columns in more detail"
   ]
  },
  {
   "cell_type": "code",
   "execution_count": 71,
   "id": "13811e97",
   "metadata": {},
   "outputs": [
    {
     "data": {
      "text/html": [
       "<div>\n",
       "<style scoped>\n",
       "    .dataframe tbody tr th:only-of-type {\n",
       "        vertical-align: middle;\n",
       "    }\n",
       "\n",
       "    .dataframe tbody tr th {\n",
       "        vertical-align: top;\n",
       "    }\n",
       "\n",
       "    .dataframe thead th {\n",
       "        text-align: right;\n",
       "    }\n",
       "</style>\n",
       "<table border=\"1\" class=\"dataframe\">\n",
       "  <thead>\n",
       "    <tr style=\"text-align: right;\">\n",
       "      <th></th>\n",
       "      <th>reviews.date</th>\n",
       "      <th>reviews.rating</th>\n",
       "      <th>reviews.text</th>\n",
       "      <th>reviews.title</th>\n",
       "      <th>reviews.userCity</th>\n",
       "      <th>reviews.username</th>\n",
       "      <th>reviews.userProvince</th>\n",
       "    </tr>\n",
       "  </thead>\n",
       "  <tbody>\n",
       "    <tr>\n",
       "      <th>0</th>\n",
       "      <td>2013-09-22T00:00:00Z</td>\n",
       "      <td>4.0</td>\n",
       "      <td>Pleasant 10 min walk along the sea front to th...</td>\n",
       "      <td>Good location away from the crouds</td>\n",
       "      <td>NaN</td>\n",
       "      <td>Russ (kent)</td>\n",
       "      <td>NaN</td>\n",
       "    </tr>\n",
       "    <tr>\n",
       "      <th>1</th>\n",
       "      <td>2015-04-03T00:00:00Z</td>\n",
       "      <td>5.0</td>\n",
       "      <td>Really lovely hotel. Stayed on the very top fl...</td>\n",
       "      <td>Great hotel with Jacuzzi bath!</td>\n",
       "      <td>NaN</td>\n",
       "      <td>A Traveler</td>\n",
       "      <td>NaN</td>\n",
       "    </tr>\n",
       "    <tr>\n",
       "      <th>2</th>\n",
       "      <td>2014-05-13T00:00:00Z</td>\n",
       "      <td>5.0</td>\n",
       "      <td>Ett mycket bra hotell. Det som drog ner betyge...</td>\n",
       "      <td>Lugnt l��ge</td>\n",
       "      <td>NaN</td>\n",
       "      <td>Maud</td>\n",
       "      <td>NaN</td>\n",
       "    </tr>\n",
       "    <tr>\n",
       "      <th>3</th>\n",
       "      <td>2013-10-27T00:00:00Z</td>\n",
       "      <td>5.0</td>\n",
       "      <td>We stayed here for four nights in October. The...</td>\n",
       "      <td>Good location on the Lido.</td>\n",
       "      <td>NaN</td>\n",
       "      <td>Julie</td>\n",
       "      <td>NaN</td>\n",
       "    </tr>\n",
       "    <tr>\n",
       "      <th>4</th>\n",
       "      <td>2015-03-05T00:00:00Z</td>\n",
       "      <td>5.0</td>\n",
       "      <td>We stayed here for four nights in October. The...</td>\n",
       "      <td>������ ���������������</td>\n",
       "      <td>NaN</td>\n",
       "      <td>sungchul</td>\n",
       "      <td>NaN</td>\n",
       "    </tr>\n",
       "  </tbody>\n",
       "</table>\n",
       "</div>"
      ],
      "text/plain": [
       "           reviews.date  reviews.rating  \\\n",
       "0  2013-09-22T00:00:00Z             4.0   \n",
       "1  2015-04-03T00:00:00Z             5.0   \n",
       "2  2014-05-13T00:00:00Z             5.0   \n",
       "3  2013-10-27T00:00:00Z             5.0   \n",
       "4  2015-03-05T00:00:00Z             5.0   \n",
       "\n",
       "                                        reviews.text  \\\n",
       "0  Pleasant 10 min walk along the sea front to th...   \n",
       "1  Really lovely hotel. Stayed on the very top fl...   \n",
       "2  Ett mycket bra hotell. Det som drog ner betyge...   \n",
       "3  We stayed here for four nights in October. The...   \n",
       "4  We stayed here for four nights in October. The...   \n",
       "\n",
       "                        reviews.title reviews.userCity reviews.username  \\\n",
       "0  Good location away from the crouds              NaN      Russ (kent)   \n",
       "1      Great hotel with Jacuzzi bath!              NaN       A Traveler   \n",
       "2                         Lugnt l��ge              NaN             Maud   \n",
       "3          Good location on the Lido.              NaN            Julie   \n",
       "4              ������ ���������������              NaN         sungchul   \n",
       "\n",
       "  reviews.userProvince  \n",
       "0                  NaN  \n",
       "1                  NaN  \n",
       "2                  NaN  \n",
       "3                  NaN  \n",
       "4                  NaN  "
      ]
     },
     "execution_count": 71,
     "metadata": {},
     "output_type": "execute_result"
    }
   ],
   "source": [
    "df.loc[:, df.columns.str.startswith(\"review\")].head()"
   ]
  },
  {
   "cell_type": "code",
   "execution_count": 72,
   "id": "5974dab4",
   "metadata": {},
   "outputs": [
    {
     "data": {
      "text/html": [
       "<div>\n",
       "<style scoped>\n",
       "    .dataframe tbody tr th:only-of-type {\n",
       "        vertical-align: middle;\n",
       "    }\n",
       "\n",
       "    .dataframe tbody tr th {\n",
       "        vertical-align: top;\n",
       "    }\n",
       "\n",
       "    .dataframe thead th {\n",
       "        text-align: right;\n",
       "    }\n",
       "</style>\n",
       "<table border=\"1\" class=\"dataframe\">\n",
       "  <thead>\n",
       "    <tr style=\"text-align: right;\">\n",
       "      <th></th>\n",
       "      <th>address</th>\n",
       "      <th>categories</th>\n",
       "      <th>city</th>\n",
       "      <th>country</th>\n",
       "      <th>latitude</th>\n",
       "      <th>longitude</th>\n",
       "      <th>name</th>\n",
       "      <th>postalCode</th>\n",
       "      <th>province</th>\n",
       "      <th>date</th>\n",
       "      <th>rating</th>\n",
       "      <th>text</th>\n",
       "      <th>title</th>\n",
       "      <th>userCity</th>\n",
       "      <th>username</th>\n",
       "      <th>userProvince</th>\n",
       "    </tr>\n",
       "  </thead>\n",
       "  <tbody>\n",
       "    <tr>\n",
       "      <th>0</th>\n",
       "      <td>Riviera San Nicol 11/a</td>\n",
       "      <td>Hotels</td>\n",
       "      <td>Mableton</td>\n",
       "      <td>US</td>\n",
       "      <td>45.421611</td>\n",
       "      <td>12.376187</td>\n",
       "      <td>Hotel Russo Palace</td>\n",
       "      <td>30126</td>\n",
       "      <td>GA</td>\n",
       "      <td>2013-09-22T00:00:00Z</td>\n",
       "      <td>4.0</td>\n",
       "      <td>Pleasant 10 min walk along the sea front to th...</td>\n",
       "      <td>Good location away from the crouds</td>\n",
       "      <td>NaN</td>\n",
       "      <td>Russ (kent)</td>\n",
       "      <td>NaN</td>\n",
       "    </tr>\n",
       "    <tr>\n",
       "      <th>1</th>\n",
       "      <td>Riviera San Nicol 11/a</td>\n",
       "      <td>Hotels</td>\n",
       "      <td>Mableton</td>\n",
       "      <td>US</td>\n",
       "      <td>45.421611</td>\n",
       "      <td>12.376187</td>\n",
       "      <td>Hotel Russo Palace</td>\n",
       "      <td>30126</td>\n",
       "      <td>GA</td>\n",
       "      <td>2015-04-03T00:00:00Z</td>\n",
       "      <td>5.0</td>\n",
       "      <td>Really lovely hotel. Stayed on the very top fl...</td>\n",
       "      <td>Great hotel with Jacuzzi bath!</td>\n",
       "      <td>NaN</td>\n",
       "      <td>A Traveler</td>\n",
       "      <td>NaN</td>\n",
       "    </tr>\n",
       "    <tr>\n",
       "      <th>2</th>\n",
       "      <td>Riviera San Nicol 11/a</td>\n",
       "      <td>Hotels</td>\n",
       "      <td>Mableton</td>\n",
       "      <td>US</td>\n",
       "      <td>45.421611</td>\n",
       "      <td>12.376187</td>\n",
       "      <td>Hotel Russo Palace</td>\n",
       "      <td>30126</td>\n",
       "      <td>GA</td>\n",
       "      <td>2014-05-13T00:00:00Z</td>\n",
       "      <td>5.0</td>\n",
       "      <td>Ett mycket bra hotell. Det som drog ner betyge...</td>\n",
       "      <td>Lugnt l��ge</td>\n",
       "      <td>NaN</td>\n",
       "      <td>Maud</td>\n",
       "      <td>NaN</td>\n",
       "    </tr>\n",
       "    <tr>\n",
       "      <th>3</th>\n",
       "      <td>Riviera San Nicol 11/a</td>\n",
       "      <td>Hotels</td>\n",
       "      <td>Mableton</td>\n",
       "      <td>US</td>\n",
       "      <td>45.421611</td>\n",
       "      <td>12.376187</td>\n",
       "      <td>Hotel Russo Palace</td>\n",
       "      <td>30126</td>\n",
       "      <td>GA</td>\n",
       "      <td>2013-10-27T00:00:00Z</td>\n",
       "      <td>5.0</td>\n",
       "      <td>We stayed here for four nights in October. The...</td>\n",
       "      <td>Good location on the Lido.</td>\n",
       "      <td>NaN</td>\n",
       "      <td>Julie</td>\n",
       "      <td>NaN</td>\n",
       "    </tr>\n",
       "    <tr>\n",
       "      <th>4</th>\n",
       "      <td>Riviera San Nicol 11/a</td>\n",
       "      <td>Hotels</td>\n",
       "      <td>Mableton</td>\n",
       "      <td>US</td>\n",
       "      <td>45.421611</td>\n",
       "      <td>12.376187</td>\n",
       "      <td>Hotel Russo Palace</td>\n",
       "      <td>30126</td>\n",
       "      <td>GA</td>\n",
       "      <td>2015-03-05T00:00:00Z</td>\n",
       "      <td>5.0</td>\n",
       "      <td>We stayed here for four nights in October. The...</td>\n",
       "      <td>������ ���������������</td>\n",
       "      <td>NaN</td>\n",
       "      <td>sungchul</td>\n",
       "      <td>NaN</td>\n",
       "    </tr>\n",
       "    <tr>\n",
       "      <th>...</th>\n",
       "      <td>...</td>\n",
       "      <td>...</td>\n",
       "      <td>...</td>\n",
       "      <td>...</td>\n",
       "      <td>...</td>\n",
       "      <td>...</td>\n",
       "      <td>...</td>\n",
       "      <td>...</td>\n",
       "      <td>...</td>\n",
       "      <td>...</td>\n",
       "      <td>...</td>\n",
       "      <td>...</td>\n",
       "      <td>...</td>\n",
       "      <td>...</td>\n",
       "      <td>...</td>\n",
       "      <td>...</td>\n",
       "    </tr>\n",
       "    <tr>\n",
       "      <th>55907</th>\n",
       "      <td>215 S Pacific St</td>\n",
       "      <td>Hotel,Hotels,Lodging,Motels</td>\n",
       "      <td>Rockaway Beach</td>\n",
       "      <td>US</td>\n",
       "      <td>45.611260</td>\n",
       "      <td>-123.945560</td>\n",
       "      <td>Silver Sands Oceanfront Motel</td>\n",
       "      <td>97136-9596</td>\n",
       "      <td>OR</td>\n",
       "      <td>2016-03-13T00:00:00Z</td>\n",
       "      <td>3.0</td>\n",
       "      <td>It is hard for me to review an oceanfront hote...</td>\n",
       "      <td>Picture Window Ocean View!</td>\n",
       "      <td>Wildwood</td>\n",
       "      <td>LASH0211</td>\n",
       "      <td>GA</td>\n",
       "    </tr>\n",
       "    <tr>\n",
       "      <th>55908</th>\n",
       "      <td>669 Route 6a</td>\n",
       "      <td>Hotel,Hotels</td>\n",
       "      <td>East Sandwich</td>\n",
       "      <td>US</td>\n",
       "      <td>41.729390</td>\n",
       "      <td>-70.399250</td>\n",
       "      <td>Sandy Neck Motel</td>\n",
       "      <td>02537-1472</td>\n",
       "      <td>MA</td>\n",
       "      <td>2015-12-11T00:00:00Z</td>\n",
       "      <td>4.0</td>\n",
       "      <td>I live close by, and needed to stay somewhere ...</td>\n",
       "      <td>Clean, comfortable and quiet</td>\n",
       "      <td>East Sandwich</td>\n",
       "      <td>Gennaker</td>\n",
       "      <td>MA</td>\n",
       "    </tr>\n",
       "    <tr>\n",
       "      <th>55909</th>\n",
       "      <td>702 W Appleway Ave</td>\n",
       "      <td>Hotel,Hotel, Motel, and Building,Hotels,Lodgin...</td>\n",
       "      <td>Coeur d'Alene</td>\n",
       "      <td>US</td>\n",
       "      <td>47.699930</td>\n",
       "      <td>-116.796900</td>\n",
       "      <td>Shilo Inn Suites - Coeur d'Alene</td>\n",
       "      <td>83814-9338</td>\n",
       "      <td>ID</td>\n",
       "      <td>2017-11-17T00:00:00.000Z</td>\n",
       "      <td>4.0</td>\n",
       "      <td>Rolled in 11:30 laid out heads down woke up to...</td>\n",
       "      <td>Passing through</td>\n",
       "      <td>Montana</td>\n",
       "      <td>Amber406</td>\n",
       "      <td>UnitedStates</td>\n",
       "    </tr>\n",
       "    <tr>\n",
       "      <th>55910</th>\n",
       "      <td>2295 N Highland Ave</td>\n",
       "      <td>Hotel,Hotels Motels,Budget Hotels,Hotels &amp; Motels</td>\n",
       "      <td>Jackson</td>\n",
       "      <td>US</td>\n",
       "      <td>35.666390</td>\n",
       "      <td>-88.830120</td>\n",
       "      <td>Scottish Inn</td>\n",
       "      <td>38305-4922</td>\n",
       "      <td>TN</td>\n",
       "      <td>2016-06-09T00:00:00Z</td>\n",
       "      <td>1.0</td>\n",
       "      <td>Absolutely terrible..I was told I was being gi...</td>\n",
       "      <td>Terrible</td>\n",
       "      <td>woodbury</td>\n",
       "      <td>donWoodbury</td>\n",
       "      <td>NaN</td>\n",
       "    </tr>\n",
       "    <tr>\n",
       "      <th>55911</th>\n",
       "      <td>3811 Minnesota Dr</td>\n",
       "      <td>Hotel,Motels,Lodging,Hotels,Hotels and Motels</td>\n",
       "      <td>Anchorage</td>\n",
       "      <td>US</td>\n",
       "      <td>61.185310</td>\n",
       "      <td>-149.912000</td>\n",
       "      <td>Royal Suite Lodge</td>\n",
       "      <td>99503-5679</td>\n",
       "      <td>AK</td>\n",
       "      <td>2013-09-03T00:00:00.000Z</td>\n",
       "      <td>1.0</td>\n",
       "      <td>Filthy, outdated, noisy neighbours, but this w...</td>\n",
       "      <td>Polde</td>\n",
       "      <td>Sempeter pri Gorici</td>\n",
       "      <td>janezr2013</td>\n",
       "      <td>Slovenia</td>\n",
       "    </tr>\n",
       "  </tbody>\n",
       "</table>\n",
       "<p>55912 rows × 16 columns</p>\n",
       "</div>"
      ],
      "text/plain": [
       "                      address  \\\n",
       "0      Riviera San Nicol 11/a   \n",
       "1      Riviera San Nicol 11/a   \n",
       "2      Riviera San Nicol 11/a   \n",
       "3      Riviera San Nicol 11/a   \n",
       "4      Riviera San Nicol 11/a   \n",
       "...                       ...   \n",
       "55907        215 S Pacific St   \n",
       "55908            669 Route 6a   \n",
       "55909      702 W Appleway Ave   \n",
       "55910     2295 N Highland Ave   \n",
       "55911       3811 Minnesota Dr   \n",
       "\n",
       "                                              categories            city  \\\n",
       "0                                                 Hotels        Mableton   \n",
       "1                                                 Hotels        Mableton   \n",
       "2                                                 Hotels        Mableton   \n",
       "3                                                 Hotels        Mableton   \n",
       "4                                                 Hotels        Mableton   \n",
       "...                                                  ...             ...   \n",
       "55907                        Hotel,Hotels,Lodging,Motels  Rockaway Beach   \n",
       "55908                                       Hotel,Hotels   East Sandwich   \n",
       "55909  Hotel,Hotel, Motel, and Building,Hotels,Lodgin...   Coeur d'Alene   \n",
       "55910  Hotel,Hotels Motels,Budget Hotels,Hotels & Motels         Jackson   \n",
       "55911      Hotel,Motels,Lodging,Hotels,Hotels and Motels       Anchorage   \n",
       "\n",
       "      country   latitude   longitude                              name  \\\n",
       "0          US  45.421611   12.376187                Hotel Russo Palace   \n",
       "1          US  45.421611   12.376187                Hotel Russo Palace   \n",
       "2          US  45.421611   12.376187                Hotel Russo Palace   \n",
       "3          US  45.421611   12.376187                Hotel Russo Palace   \n",
       "4          US  45.421611   12.376187                Hotel Russo Palace   \n",
       "...       ...        ...         ...                               ...   \n",
       "55907      US  45.611260 -123.945560     Silver Sands Oceanfront Motel   \n",
       "55908      US  41.729390  -70.399250                  Sandy Neck Motel   \n",
       "55909      US  47.699930 -116.796900  Shilo Inn Suites - Coeur d'Alene   \n",
       "55910      US  35.666390  -88.830120                      Scottish Inn   \n",
       "55911      US  61.185310 -149.912000                 Royal Suite Lodge   \n",
       "\n",
       "       postalCode province                      date  rating  \\\n",
       "0           30126       GA      2013-09-22T00:00:00Z     4.0   \n",
       "1           30126       GA      2015-04-03T00:00:00Z     5.0   \n",
       "2           30126       GA      2014-05-13T00:00:00Z     5.0   \n",
       "3           30126       GA      2013-10-27T00:00:00Z     5.0   \n",
       "4           30126       GA      2015-03-05T00:00:00Z     5.0   \n",
       "...           ...      ...                       ...     ...   \n",
       "55907  97136-9596       OR      2016-03-13T00:00:00Z     3.0   \n",
       "55908  02537-1472       MA      2015-12-11T00:00:00Z     4.0   \n",
       "55909  83814-9338       ID  2017-11-17T00:00:00.000Z     4.0   \n",
       "55910  38305-4922       TN      2016-06-09T00:00:00Z     1.0   \n",
       "55911  99503-5679       AK  2013-09-03T00:00:00.000Z     1.0   \n",
       "\n",
       "                                                    text  \\\n",
       "0      Pleasant 10 min walk along the sea front to th...   \n",
       "1      Really lovely hotel. Stayed on the very top fl...   \n",
       "2      Ett mycket bra hotell. Det som drog ner betyge...   \n",
       "3      We stayed here for four nights in October. The...   \n",
       "4      We stayed here for four nights in October. The...   \n",
       "...                                                  ...   \n",
       "55907  It is hard for me to review an oceanfront hote...   \n",
       "55908  I live close by, and needed to stay somewhere ...   \n",
       "55909  Rolled in 11:30 laid out heads down woke up to...   \n",
       "55910  Absolutely terrible..I was told I was being gi...   \n",
       "55911  Filthy, outdated, noisy neighbours, but this w...   \n",
       "\n",
       "                                    title             userCity     username  \\\n",
       "0      Good location away from the crouds                  NaN  Russ (kent)   \n",
       "1          Great hotel with Jacuzzi bath!                  NaN   A Traveler   \n",
       "2                             Lugnt l��ge                  NaN         Maud   \n",
       "3              Good location on the Lido.                  NaN        Julie   \n",
       "4                  ������ ���������������                  NaN     sungchul   \n",
       "...                                   ...                  ...          ...   \n",
       "55907          Picture Window Ocean View!             Wildwood     LASH0211   \n",
       "55908        Clean, comfortable and quiet        East Sandwich     Gennaker   \n",
       "55909                     Passing through              Montana     Amber406   \n",
       "55910                            Terrible             woodbury  donWoodbury   \n",
       "55911                               Polde  Sempeter pri Gorici   janezr2013   \n",
       "\n",
       "       userProvince  \n",
       "0               NaN  \n",
       "1               NaN  \n",
       "2               NaN  \n",
       "3               NaN  \n",
       "4               NaN  \n",
       "...             ...  \n",
       "55907            GA  \n",
       "55908            MA  \n",
       "55909  UnitedStates  \n",
       "55910           NaN  \n",
       "55911      Slovenia  \n",
       "\n",
       "[55912 rows x 16 columns]"
      ]
     },
     "execution_count": 72,
     "metadata": {},
     "output_type": "execute_result"
    }
   ],
   "source": [
    "old_names = ['reviews.date', 'reviews.rating', 'reviews.title', 'reviews.text', 'reviews.userCity', \n",
    "             'reviews.username', 'reviews.userProvince'] \n",
    "new_names = ['date', 'rating', 'title', 'text', 'userCity', 'username', 'userProvince']\n",
    "df.rename(columns = dict(zip(old_names, new_names)), inplace = True)\n",
    "df"
   ]
  },
  {
   "cell_type": "code",
   "execution_count": 73,
   "id": "5910a62b",
   "metadata": {},
   "outputs": [
    {
     "data": {
      "text/html": [
       "<div>\n",
       "<style scoped>\n",
       "    .dataframe tbody tr th:only-of-type {\n",
       "        vertical-align: middle;\n",
       "    }\n",
       "\n",
       "    .dataframe tbody tr th {\n",
       "        vertical-align: top;\n",
       "    }\n",
       "\n",
       "    .dataframe thead th {\n",
       "        text-align: right;\n",
       "    }\n",
       "</style>\n",
       "<table border=\"1\" class=\"dataframe\">\n",
       "  <thead>\n",
       "    <tr style=\"text-align: right;\">\n",
       "      <th></th>\n",
       "      <th>address</th>\n",
       "      <th>categories</th>\n",
       "      <th>city</th>\n",
       "      <th>country</th>\n",
       "      <th>latitude</th>\n",
       "      <th>longitude</th>\n",
       "      <th>name</th>\n",
       "      <th>postalCode</th>\n",
       "      <th>province</th>\n",
       "      <th>date</th>\n",
       "      <th>rating</th>\n",
       "      <th>text</th>\n",
       "      <th>title</th>\n",
       "      <th>userCity</th>\n",
       "      <th>username</th>\n",
       "      <th>userProvince</th>\n",
       "    </tr>\n",
       "  </thead>\n",
       "  <tbody>\n",
       "    <tr>\n",
       "      <th>0</th>\n",
       "      <td>Riviera San Nicol 11/a</td>\n",
       "      <td>Hotels</td>\n",
       "      <td>Mableton</td>\n",
       "      <td>US</td>\n",
       "      <td>45.421611</td>\n",
       "      <td>12.376187</td>\n",
       "      <td>Hotel Russo Palace</td>\n",
       "      <td>30126</td>\n",
       "      <td>GA</td>\n",
       "      <td>2013-09-22T00:00:00Z</td>\n",
       "      <td>4.0</td>\n",
       "      <td>Pleasant 10 min walk along the sea front to th...</td>\n",
       "      <td>Good location away from the crouds</td>\n",
       "      <td>NaN</td>\n",
       "      <td>Russ (kent)</td>\n",
       "      <td>NaN</td>\n",
       "    </tr>\n",
       "    <tr>\n",
       "      <th>1</th>\n",
       "      <td>Riviera San Nicol 11/a</td>\n",
       "      <td>Hotels</td>\n",
       "      <td>Mableton</td>\n",
       "      <td>US</td>\n",
       "      <td>45.421611</td>\n",
       "      <td>12.376187</td>\n",
       "      <td>Hotel Russo Palace</td>\n",
       "      <td>30126</td>\n",
       "      <td>GA</td>\n",
       "      <td>2015-04-03T00:00:00Z</td>\n",
       "      <td>5.0</td>\n",
       "      <td>Really lovely hotel. Stayed on the very top fl...</td>\n",
       "      <td>Great hotel with Jacuzzi bath!</td>\n",
       "      <td>NaN</td>\n",
       "      <td>A Traveler</td>\n",
       "      <td>NaN</td>\n",
       "    </tr>\n",
       "    <tr>\n",
       "      <th>2</th>\n",
       "      <td>Riviera San Nicol 11/a</td>\n",
       "      <td>Hotels</td>\n",
       "      <td>Mableton</td>\n",
       "      <td>US</td>\n",
       "      <td>45.421611</td>\n",
       "      <td>12.376187</td>\n",
       "      <td>Hotel Russo Palace</td>\n",
       "      <td>30126</td>\n",
       "      <td>GA</td>\n",
       "      <td>2014-05-13T00:00:00Z</td>\n",
       "      <td>5.0</td>\n",
       "      <td>Ett mycket bra hotell. Det som drog ner betyge...</td>\n",
       "      <td>Lugnt l��ge</td>\n",
       "      <td>NaN</td>\n",
       "      <td>Maud</td>\n",
       "      <td>NaN</td>\n",
       "    </tr>\n",
       "    <tr>\n",
       "      <th>3</th>\n",
       "      <td>Riviera San Nicol 11/a</td>\n",
       "      <td>Hotels</td>\n",
       "      <td>Mableton</td>\n",
       "      <td>US</td>\n",
       "      <td>45.421611</td>\n",
       "      <td>12.376187</td>\n",
       "      <td>Hotel Russo Palace</td>\n",
       "      <td>30126</td>\n",
       "      <td>GA</td>\n",
       "      <td>2013-10-27T00:00:00Z</td>\n",
       "      <td>5.0</td>\n",
       "      <td>We stayed here for four nights in October. The...</td>\n",
       "      <td>Good location on the Lido.</td>\n",
       "      <td>NaN</td>\n",
       "      <td>Julie</td>\n",
       "      <td>NaN</td>\n",
       "    </tr>\n",
       "    <tr>\n",
       "      <th>4</th>\n",
       "      <td>Riviera San Nicol 11/a</td>\n",
       "      <td>Hotels</td>\n",
       "      <td>Mableton</td>\n",
       "      <td>US</td>\n",
       "      <td>45.421611</td>\n",
       "      <td>12.376187</td>\n",
       "      <td>Hotel Russo Palace</td>\n",
       "      <td>30126</td>\n",
       "      <td>GA</td>\n",
       "      <td>2015-03-05T00:00:00Z</td>\n",
       "      <td>5.0</td>\n",
       "      <td>We stayed here for four nights in October. The...</td>\n",
       "      <td>������ ���������������</td>\n",
       "      <td>NaN</td>\n",
       "      <td>sungchul</td>\n",
       "      <td>NaN</td>\n",
       "    </tr>\n",
       "    <tr>\n",
       "      <th>...</th>\n",
       "      <td>...</td>\n",
       "      <td>...</td>\n",
       "      <td>...</td>\n",
       "      <td>...</td>\n",
       "      <td>...</td>\n",
       "      <td>...</td>\n",
       "      <td>...</td>\n",
       "      <td>...</td>\n",
       "      <td>...</td>\n",
       "      <td>...</td>\n",
       "      <td>...</td>\n",
       "      <td>...</td>\n",
       "      <td>...</td>\n",
       "      <td>...</td>\n",
       "      <td>...</td>\n",
       "      <td>...</td>\n",
       "    </tr>\n",
       "    <tr>\n",
       "      <th>55907</th>\n",
       "      <td>215 S Pacific St</td>\n",
       "      <td>Hotel,Hotels,Lodging,Motels</td>\n",
       "      <td>Rockaway Beach</td>\n",
       "      <td>US</td>\n",
       "      <td>45.611260</td>\n",
       "      <td>-123.945560</td>\n",
       "      <td>Silver Sands Oceanfront Motel</td>\n",
       "      <td>97136-9596</td>\n",
       "      <td>OR</td>\n",
       "      <td>2016-03-13T00:00:00Z</td>\n",
       "      <td>3.0</td>\n",
       "      <td>It is hard for me to review an oceanfront hote...</td>\n",
       "      <td>Picture Window Ocean View!</td>\n",
       "      <td>Wildwood</td>\n",
       "      <td>LASH0211</td>\n",
       "      <td>GA</td>\n",
       "    </tr>\n",
       "    <tr>\n",
       "      <th>55908</th>\n",
       "      <td>669 Route 6a</td>\n",
       "      <td>Hotel,Hotels</td>\n",
       "      <td>East Sandwich</td>\n",
       "      <td>US</td>\n",
       "      <td>41.729390</td>\n",
       "      <td>-70.399250</td>\n",
       "      <td>Sandy Neck Motel</td>\n",
       "      <td>02537-1472</td>\n",
       "      <td>MA</td>\n",
       "      <td>2015-12-11T00:00:00Z</td>\n",
       "      <td>4.0</td>\n",
       "      <td>I live close by, and needed to stay somewhere ...</td>\n",
       "      <td>Clean, comfortable and quiet</td>\n",
       "      <td>East Sandwich</td>\n",
       "      <td>Gennaker</td>\n",
       "      <td>MA</td>\n",
       "    </tr>\n",
       "    <tr>\n",
       "      <th>55909</th>\n",
       "      <td>702 W Appleway Ave</td>\n",
       "      <td>Hotel,Hotel, Motel, and Building,Hotels,Lodgin...</td>\n",
       "      <td>Coeur d'Alene</td>\n",
       "      <td>US</td>\n",
       "      <td>47.699930</td>\n",
       "      <td>-116.796900</td>\n",
       "      <td>Shilo Inn Suites - Coeur d'Alene</td>\n",
       "      <td>83814-9338</td>\n",
       "      <td>ID</td>\n",
       "      <td>2017-11-17T00:00:00.000Z</td>\n",
       "      <td>4.0</td>\n",
       "      <td>Rolled in 11:30 laid out heads down woke up to...</td>\n",
       "      <td>Passing through</td>\n",
       "      <td>Montana</td>\n",
       "      <td>Amber406</td>\n",
       "      <td>UnitedStates</td>\n",
       "    </tr>\n",
       "    <tr>\n",
       "      <th>55910</th>\n",
       "      <td>2295 N Highland Ave</td>\n",
       "      <td>Hotel,Hotels Motels,Budget Hotels,Hotels &amp; Motels</td>\n",
       "      <td>Jackson</td>\n",
       "      <td>US</td>\n",
       "      <td>35.666390</td>\n",
       "      <td>-88.830120</td>\n",
       "      <td>Scottish Inn</td>\n",
       "      <td>38305-4922</td>\n",
       "      <td>TN</td>\n",
       "      <td>2016-06-09T00:00:00Z</td>\n",
       "      <td>1.0</td>\n",
       "      <td>Absolutely terrible..I was told I was being gi...</td>\n",
       "      <td>Terrible</td>\n",
       "      <td>woodbury</td>\n",
       "      <td>donWoodbury</td>\n",
       "      <td>NaN</td>\n",
       "    </tr>\n",
       "    <tr>\n",
       "      <th>55911</th>\n",
       "      <td>3811 Minnesota Dr</td>\n",
       "      <td>Hotel,Motels,Lodging,Hotels,Hotels and Motels</td>\n",
       "      <td>Anchorage</td>\n",
       "      <td>US</td>\n",
       "      <td>61.185310</td>\n",
       "      <td>-149.912000</td>\n",
       "      <td>Royal Suite Lodge</td>\n",
       "      <td>99503-5679</td>\n",
       "      <td>AK</td>\n",
       "      <td>2013-09-03T00:00:00.000Z</td>\n",
       "      <td>1.0</td>\n",
       "      <td>Filthy, outdated, noisy neighbours, but this w...</td>\n",
       "      <td>Polde</td>\n",
       "      <td>Sempeter pri Gorici</td>\n",
       "      <td>janezr2013</td>\n",
       "      <td>Slovenia</td>\n",
       "    </tr>\n",
       "  </tbody>\n",
       "</table>\n",
       "<p>55027 rows × 16 columns</p>\n",
       "</div>"
      ],
      "text/plain": [
       "                      address  \\\n",
       "0      Riviera San Nicol 11/a   \n",
       "1      Riviera San Nicol 11/a   \n",
       "2      Riviera San Nicol 11/a   \n",
       "3      Riviera San Nicol 11/a   \n",
       "4      Riviera San Nicol 11/a   \n",
       "...                       ...   \n",
       "55907        215 S Pacific St   \n",
       "55908            669 Route 6a   \n",
       "55909      702 W Appleway Ave   \n",
       "55910     2295 N Highland Ave   \n",
       "55911       3811 Minnesota Dr   \n",
       "\n",
       "                                              categories            city  \\\n",
       "0                                                 Hotels        Mableton   \n",
       "1                                                 Hotels        Mableton   \n",
       "2                                                 Hotels        Mableton   \n",
       "3                                                 Hotels        Mableton   \n",
       "4                                                 Hotels        Mableton   \n",
       "...                                                  ...             ...   \n",
       "55907                        Hotel,Hotels,Lodging,Motels  Rockaway Beach   \n",
       "55908                                       Hotel,Hotels   East Sandwich   \n",
       "55909  Hotel,Hotel, Motel, and Building,Hotels,Lodgin...   Coeur d'Alene   \n",
       "55910  Hotel,Hotels Motels,Budget Hotels,Hotels & Motels         Jackson   \n",
       "55911      Hotel,Motels,Lodging,Hotels,Hotels and Motels       Anchorage   \n",
       "\n",
       "      country   latitude   longitude                              name  \\\n",
       "0          US  45.421611   12.376187                Hotel Russo Palace   \n",
       "1          US  45.421611   12.376187                Hotel Russo Palace   \n",
       "2          US  45.421611   12.376187                Hotel Russo Palace   \n",
       "3          US  45.421611   12.376187                Hotel Russo Palace   \n",
       "4          US  45.421611   12.376187                Hotel Russo Palace   \n",
       "...       ...        ...         ...                               ...   \n",
       "55907      US  45.611260 -123.945560     Silver Sands Oceanfront Motel   \n",
       "55908      US  41.729390  -70.399250                  Sandy Neck Motel   \n",
       "55909      US  47.699930 -116.796900  Shilo Inn Suites - Coeur d'Alene   \n",
       "55910      US  35.666390  -88.830120                      Scottish Inn   \n",
       "55911      US  61.185310 -149.912000                 Royal Suite Lodge   \n",
       "\n",
       "       postalCode province                      date  rating  \\\n",
       "0           30126       GA      2013-09-22T00:00:00Z     4.0   \n",
       "1           30126       GA      2015-04-03T00:00:00Z     5.0   \n",
       "2           30126       GA      2014-05-13T00:00:00Z     5.0   \n",
       "3           30126       GA      2013-10-27T00:00:00Z     5.0   \n",
       "4           30126       GA      2015-03-05T00:00:00Z     5.0   \n",
       "...           ...      ...                       ...     ...   \n",
       "55907  97136-9596       OR      2016-03-13T00:00:00Z     3.0   \n",
       "55908  02537-1472       MA      2015-12-11T00:00:00Z     4.0   \n",
       "55909  83814-9338       ID  2017-11-17T00:00:00.000Z     4.0   \n",
       "55910  38305-4922       TN      2016-06-09T00:00:00Z     1.0   \n",
       "55911  99503-5679       AK  2013-09-03T00:00:00.000Z     1.0   \n",
       "\n",
       "                                                    text  \\\n",
       "0      Pleasant 10 min walk along the sea front to th...   \n",
       "1      Really lovely hotel. Stayed on the very top fl...   \n",
       "2      Ett mycket bra hotell. Det som drog ner betyge...   \n",
       "3      We stayed here for four nights in October. The...   \n",
       "4      We stayed here for four nights in October. The...   \n",
       "...                                                  ...   \n",
       "55907  It is hard for me to review an oceanfront hote...   \n",
       "55908  I live close by, and needed to stay somewhere ...   \n",
       "55909  Rolled in 11:30 laid out heads down woke up to...   \n",
       "55910  Absolutely terrible..I was told I was being gi...   \n",
       "55911  Filthy, outdated, noisy neighbours, but this w...   \n",
       "\n",
       "                                    title             userCity     username  \\\n",
       "0      Good location away from the crouds                  NaN  Russ (kent)   \n",
       "1          Great hotel with Jacuzzi bath!                  NaN   A Traveler   \n",
       "2                             Lugnt l��ge                  NaN         Maud   \n",
       "3              Good location on the Lido.                  NaN        Julie   \n",
       "4                  ������ ���������������                  NaN     sungchul   \n",
       "...                                   ...                  ...          ...   \n",
       "55907          Picture Window Ocean View!             Wildwood     LASH0211   \n",
       "55908        Clean, comfortable and quiet        East Sandwich     Gennaker   \n",
       "55909                     Passing through              Montana     Amber406   \n",
       "55910                            Terrible             woodbury  donWoodbury   \n",
       "55911                               Polde  Sempeter pri Gorici   janezr2013   \n",
       "\n",
       "       userProvince  \n",
       "0               NaN  \n",
       "1               NaN  \n",
       "2               NaN  \n",
       "3               NaN  \n",
       "4               NaN  \n",
       "...             ...  \n",
       "55907            GA  \n",
       "55908            MA  \n",
       "55909  UnitedStates  \n",
       "55910           NaN  \n",
       "55911      Slovenia  \n",
       "\n",
       "[55027 rows x 16 columns]"
      ]
     },
     "execution_count": 73,
     "metadata": {},
     "output_type": "execute_result"
    }
   ],
   "source": [
    "df.dropna(subset = ['rating', 'text'], inplace = True)\n",
    "df"
   ]
  },
  {
   "cell_type": "code",
   "execution_count": 74,
   "id": "354582ef",
   "metadata": {},
   "outputs": [],
   "source": [
    "df['title'].fillna('', inplace = True)"
   ]
  },
  {
   "cell_type": "markdown",
   "id": "7fe7d461",
   "metadata": {},
   "source": [
    "<h1> Preliminary Exploratory Data Analysis </h1>"
   ]
  },
  {
   "cell_type": "markdown",
   "id": "c7fa506c",
   "metadata": {},
   "source": [
    "<h2> Ratings distribution </h2>"
   ]
  },
  {
   "cell_type": "code",
   "execution_count": 75,
   "id": "d1b360f1",
   "metadata": {},
   "outputs": [],
   "source": [
    "%matplotlib inline\n",
    "import matplotlib.pyplot as plt\n",
    "import seaborn as sns\n",
    "plt.style.use('seaborn')"
   ]
  },
  {
   "cell_type": "code",
   "execution_count": 76,
   "id": "a9baafb8",
   "metadata": {},
   "outputs": [
    {
     "data": {
      "text/plain": [
       "array([ 4.  ,  5.  ,  3.  ,  1.  ,  2.  ,  0.  ,  4.1 ,  4.9 ,  4.8 ,\n",
       "        3.4 ,  2.4 ,  3.1 ,  3.2 ,  3.3 ,  9.6 , 10.  ,  8.3 ,  8.8 ,\n",
       "        9.2 ,  7.5 ,  7.9 ,  7.1 ,  3.8 ,  5.8 ,  6.7 ,  6.3 ,  4.2 ,\n",
       "        4.5 ,  3.9 ,  1.3 ,  4.3 ,  4.7 ,  2.8 ,  4.4 ,  1.5 ,  4.6 ,\n",
       "        3.7 ,  5.4 ,  2.5 ,  6.  ,  2.9 ,  7.  ,  9.5 ,  3.55,  4.15,\n",
       "        3.95,  3.35,  3.75,  2.1 ,  1.65,  3.15,  2.7 ,  1.45,  2.75,\n",
       "        2.3 ,  3.5 ,  4.25,  1.25,  1.9 ,  3.45,  3.25,  4.75])"
      ]
     },
     "execution_count": 76,
     "metadata": {},
     "output_type": "execute_result"
    }
   ],
   "source": [
    "df['rating'].unique()"
   ]
  },
  {
   "cell_type": "code",
   "execution_count": 77,
   "id": "87efbc16",
   "metadata": {},
   "outputs": [
    {
     "data": {
      "text/plain": [
       "count    55027.000000\n",
       "mean         3.879251\n",
       "std          1.335006\n",
       "min          0.000000\n",
       "25%          3.000000\n",
       "50%          4.000000\n",
       "75%          5.000000\n",
       "max         10.000000\n",
       "Name: rating, dtype: float64"
      ]
     },
     "execution_count": 77,
     "metadata": {},
     "output_type": "execute_result"
    }
   ],
   "source": [
    "df['rating'].describe()"
   ]
  },
  {
   "cell_type": "code",
   "execution_count": 78,
   "id": "786eb1f5",
   "metadata": {},
   "outputs": [
    {
     "data": {
      "text/plain": [
       "<AxesSubplot:>"
      ]
     },
     "execution_count": 78,
     "metadata": {},
     "output_type": "execute_result"
    },
    {
     "data": {
      "image/png": "[encoded data removed]",
      "text/plain": [
       "<Figure size 576x396 with 1 Axes>"
      ]
     },
     "metadata": {},
     "output_type": "display_data"
    }
   ],
   "source": [
    "sns.set()\n",
    "df['rating'].hist()"
   ]
  },
  {
   "cell_type": "markdown",
   "id": "1b95208c",
   "metadata": {},
   "source": [
    "As we can see, not all ratings are an integers, and ratings range from 0 to 10, even though the majority fall within the range from 1-5."
   ]
  },
  {
   "cell_type": "code",
   "execution_count": 79,
   "id": "4464b489",
   "metadata": {},
   "outputs": [
    {
     "data": {
      "text/plain": [
       "count    55027.000000\n",
       "mean         3.879251\n",
       "std          1.335006\n",
       "min          0.000000\n",
       "25%          3.000000\n",
       "50%          4.000000\n",
       "75%          5.000000\n",
       "max         10.000000\n",
       "Name: rating, dtype: float64"
      ]
     },
     "execution_count": 79,
     "metadata": {},
     "output_type": "execute_result"
    }
   ],
   "source": [
    "df['rating'].describe()"
   ]
  },
  {
   "cell_type": "code",
   "execution_count": 80,
   "id": "93459b4f",
   "metadata": {},
   "outputs": [
    {
     "name": "stdout",
     "output_type": "stream",
     "text": [
      "Number of ratings greater than 5: 357\n",
      "Percent of ratings greater than 5: 0.006487724208116016\n"
     ]
    }
   ],
   "source": [
    "print(\"Number of ratings greater than 5:\", df[df['rating'] > 5].shape[0])\n",
    "print(\"Percent of ratings greater than 5:\", df[df['rating'] > 5].shape[0] / df.shape[0])"
   ]
  },
  {
   "cell_type": "markdown",
   "id": "7654ff4a",
   "metadata": {},
   "source": [
    "Only 0.6% of all hotel ratings are greater than 5."
   ]
  },
  {
   "cell_type": "code",
   "execution_count": 81,
   "id": "27560fd5",
   "metadata": {},
   "outputs": [],
   "source": [
    "# df = df[df['rating'] <= 5]"
   ]
  },
  {
   "cell_type": "markdown",
   "id": "4b745f46",
   "metadata": {},
   "source": [
    "We also note that the minimum rating in the dataset is 0. The histogram plotted above indicates that the number of reviews with a rating of 0 is small relative to all other ratings. To assure that this the case, we compute the following:"
   ]
  },
  {
   "cell_type": "code",
   "execution_count": 82,
   "id": "6da1bb83",
   "metadata": {
    "scrolled": true
   },
   "outputs": [
    {
     "name": "stdout",
     "output_type": "stream",
     "text": [
      "Number of ratings equal to 0: 337\n",
      "Proportion of ratings equal to 0: 0.0061242662692859865\n"
     ]
    }
   ],
   "source": [
    "print(\"Number of ratings equal to 0:\", df[df['rating'] == 0].shape[0])\n",
    "print(\"Proportion of ratings equal to 0:\", df[df['rating'] == 0].shape[0] / df.shape[0])"
   ]
  },
  {
   "cell_type": "markdown",
   "id": "742f74bc",
   "metadata": {},
   "source": [
    "We see that only 0.6% of the dataset correspond to reviews with a rating of 0. While we have not formally tested for outliers in this dataset, observations with a rating greater than 5 or equal to 0 could be considered outliers due to their rare occurrence in the dataset. However, we will not immediately remove these observations. We will first determine whether the hotels that use a 10-point rating scale and hotels that include 0 as a possible rating have other ratings that are between 1 and 5. If so, simply removing only observations could impact model performance. "
   ]
  },
  {
   "cell_type": "code",
   "execution_count": 83,
   "id": "08d286ba",
   "metadata": {},
   "outputs": [
    {
     "data": {
      "text/plain": [
       "5.0"
      ]
     },
     "execution_count": 83,
     "metadata": {},
     "output_type": "execute_result"
    }
   ],
   "source": [
    "df.rating[1]"
   ]
  },
  {
   "cell_type": "code",
   "execution_count": 84,
   "id": "e9c1a133",
   "metadata": {},
   "outputs": [
    {
     "data": {
      "text/plain": [
       "{'Candlewood Suites Eugene Springfield',\n",
       " 'Hampton Inn Virginia Beach Oceanfront North',\n",
       " 'Holiday Inn Express Hotel and Suites Va Beach Oceanfront',\n",
       " 'Hyatt Regency Kathmandu',\n",
       " 'Pelican Shores Inn'}"
      ]
     },
     "execution_count": 84,
     "metadata": {},
     "output_type": "execute_result"
    }
   ],
   "source": [
    "ten_scale_outliers = set()\n",
    "zero_rating_outliers = set()\n",
    "\n",
    "for i in df.index:\n",
    "    if df.rating[i] > 5:\n",
    "        ten_scale_outliers.add(df.name[i])\n",
    "    if df.rating[i] == 0:\n",
    "        zero_rating_outliers.add(df.name[i])\n",
    "\n",
    "ten_scale_outliers\n",
    "# zero_rating_outliers"
   ]
  },
  {
   "cell_type": "code",
   "execution_count": 85,
   "id": "f4c199d8",
   "metadata": {},
   "outputs": [
    {
     "name": "stdout",
     "output_type": "stream",
     "text": [
      "Proportion of reviews corresponding to hotels using a 10-scale rating system =  0.01408399512966362\n",
      "Proportion of reviews corresponding to hotels that include a 0 in their rating scale =  0.09597106874806913\n"
     ]
    }
   ],
   "source": [
    "count10 = 0\n",
    "count0 = 0\n",
    "\n",
    "for i, hotel in enumerate(df.name):\n",
    "    if hotel in ten_scale_outliers:\n",
    "        count10 += 1\n",
    "    if hotel in zero_rating_outliers:\n",
    "        count0 += 1\n",
    "        \n",
    "print('Proportion of reviews corresponding to hotels using a 10-scale rating system = ',count10/df.shape[0])\n",
    "print('Proportion of reviews corresponding to hotels that include a 0 in their rating scale = ',count0/df.shape[0])"
   ]
  },
  {
   "cell_type": "markdown",
   "id": "79aa47a8",
   "metadata": {},
   "source": [
    "Therefore, hotels using a 10-point rating scale and hotels that include 0 as a rating, have other reviews with ratings that are less than 5 and greater than 0. We have four options:\n",
    "<li> Ignore the issue and move on <span style=\"color:orange\"> <i> (WRONG CHOICE!)</i></span>\n",
    "<li> Exclude all observations with ratings above 5 and reviews with ratings equal to 0. <span style=\"color:orange\"> <i> (This would impact model performance, so this isn't an ideal approach)</i></span>\n",
    "<li> Exclude all hotels in the dataset that use a 10-point rating scale and hotels that include 0 as a possible rating.<span style=\"color:orange\"> <i> (Not necessarily a bad approach, but may not be a great one. We might be able to do better.)</i></span>\n",
    "<li> Rescale reviews associated with hotels using a 10-point rating scale and hotels that include 0 as a possible rating to a 1-5 rating scale. <span style=\"color:orange\"> <i> (Our choice)</i></span>"
   ]
  },
  {
   "cell_type": "markdown",
   "id": "e8892ee7",
   "metadata": {},
   "source": [
    "Instead of excluding reviews with ratings greater than 5 and reviews with ratings equal to 0, we will re-scale all reviews associated with these hotels to a 1-5 rating scale. Otherwise, simply removing reviews greater than 5 will likely impact the final model. Indeed, there will still be reviews in the dataset associated with these hotels, and reviews for such hotels with a rating of 4 or 5 likely won't be very positive as a 4 or 5 on a 10-point rating scale doesn't typically correlate with a satisfied guest. On the other hand, if were to exclude all hotels in the dataset that use a 10-point scale and hotels that include 0 as a possible rating, it would simply truncate a dataset that is already small enough. Therefore, in order to preserve as much data/information as possible, we will re-scale these reviews (see following code blocks)."
   ]
  },
  {
   "cell_type": "code",
   "execution_count": 86,
   "id": "506d3455",
   "metadata": {},
   "outputs": [],
   "source": [
    "for i in df.index:\n",
    "    if df.name[i] in ten_scale_outliers:\n",
    "        df.rating[i] = df.rating[i]/2\n",
    "    if df.rating[i] < 1:\n",
    "        df.rating[i] = 1\n",
    "\n",
    "ten_scale_outliers = set()   \n",
    "# Redefining as an empty set in case this block of code is run again, which would otherwise\n",
    "# decrease all ratings of hotels in ten_scale_outliers by a factor of 2 again. This would \n",
    "# effectively divide the original rating by 4, since the hotel values would still be in the \n",
    "# set. To avoid this, we simply redefine it as an empty set since we will not need it beyond \n",
    "# this point."
   ]
  },
  {
   "cell_type": "code",
   "execution_count": 87,
   "id": "a354c040",
   "metadata": {},
   "outputs": [
    {
     "data": {
      "text/plain": [
       "count    55027.000000\n",
       "mean         3.841124\n",
       "std          1.263463\n",
       "min          1.000000\n",
       "25%          3.000000\n",
       "50%          4.000000\n",
       "75%          5.000000\n",
       "max          5.000000\n",
       "Name: rating, dtype: float64"
      ]
     },
     "execution_count": 87,
     "metadata": {},
     "output_type": "execute_result"
    }
   ],
   "source": [
    "df['rating'].describe()"
   ]
  },
  {
   "cell_type": "markdown",
   "id": "bae3cae8",
   "metadata": {},
   "source": [
    "Now, all ratings are between 1 and 5 (inclusive)."
   ]
  },
  {
   "cell_type": "code",
   "execution_count": 88,
   "id": "7ad00383",
   "metadata": {},
   "outputs": [],
   "source": [
    "# for i, hotel in enumerate(df.name):\n",
    "#     if hotel in ten_scale_outliers:\n",
    "#         df.rating[i] = df.rating[i]/2\n",
    "\n",
    "# for i in df.index:\n",
    "#     if df.rating[i] < 1:\n",
    "#         df.rating[i] = 1\n",
    "\n",
    "# ten_scale_outliers = set()    \n",
    "# df['rating'].describe()"
   ]
  },
  {
   "cell_type": "markdown",
   "id": "bece892a",
   "metadata": {},
   "source": [
    "<h2> Average Ratings by Hotels </h2>"
   ]
  },
  {
   "cell_type": "markdown",
   "id": "f6a1a9f1",
   "metadata": {},
   "source": [
    "We first group the dataframe by hotels and then compute the average ratings for each hotel."
   ]
  },
  {
   "cell_type": "code",
   "execution_count": 89,
   "id": "89232d16",
   "metadata": {},
   "outputs": [
    {
     "data": {
      "text/html": [
       "<div>\n",
       "<style scoped>\n",
       "    .dataframe tbody tr th:only-of-type {\n",
       "        vertical-align: middle;\n",
       "    }\n",
       "\n",
       "    .dataframe tbody tr th {\n",
       "        vertical-align: top;\n",
       "    }\n",
       "\n",
       "    .dataframe thead th {\n",
       "        text-align: right;\n",
       "    }\n",
       "</style>\n",
       "<table border=\"1\" class=\"dataframe\">\n",
       "  <thead>\n",
       "    <tr style=\"text-align: right;\">\n",
       "      <th></th>\n",
       "      <th>rating</th>\n",
       "    </tr>\n",
       "    <tr>\n",
       "      <th>name</th>\n",
       "      <th></th>\n",
       "    </tr>\n",
       "  </thead>\n",
       "  <tbody>\n",
       "    <tr>\n",
       "      <th>11th Avenue Hotel Hostel</th>\n",
       "      <td>1.000000</td>\n",
       "    </tr>\n",
       "    <tr>\n",
       "      <th>1785 Inn</th>\n",
       "      <td>2.875000</td>\n",
       "    </tr>\n",
       "    <tr>\n",
       "      <th>1900 House</th>\n",
       "      <td>4.642857</td>\n",
       "    </tr>\n",
       "    <tr>\n",
       "      <th>1906 Lodge At Coronado Beach</th>\n",
       "      <td>5.000000</td>\n",
       "    </tr>\n",
       "    <tr>\n",
       "      <th>21c Museum Hotel Lexington</th>\n",
       "      <td>2.500000</td>\n",
       "    </tr>\n",
       "    <tr>\n",
       "      <th>...</th>\n",
       "      <td>...</td>\n",
       "    </tr>\n",
       "    <tr>\n",
       "      <th>Ye Olde Danish Inn</th>\n",
       "      <td>5.000000</td>\n",
       "    </tr>\n",
       "    <tr>\n",
       "      <th>Z Bar Motel</th>\n",
       "      <td>4.000000</td>\n",
       "    </tr>\n",
       "    <tr>\n",
       "      <th>dana hotel and spa</th>\n",
       "      <td>4.482609</td>\n",
       "    </tr>\n",
       "    <tr>\n",
       "      <th>hampton inn Springfield southeast</th>\n",
       "      <td>5.000000</td>\n",
       "    </tr>\n",
       "    <tr>\n",
       "      <th>hotel le bleu</th>\n",
       "      <td>4.333333</td>\n",
       "    </tr>\n",
       "  </tbody>\n",
       "</table>\n",
       "<p>3517 rows × 1 columns</p>\n",
       "</div>"
      ],
      "text/plain": [
       "                                     rating\n",
       "name                                       \n",
       "11th Avenue Hotel Hostel           1.000000\n",
       "1785 Inn                           2.875000\n",
       "1900 House                         4.642857\n",
       "1906 Lodge At Coronado Beach       5.000000\n",
       "21c Museum Hotel Lexington         2.500000\n",
       "...                                     ...\n",
       "Ye Olde Danish Inn                 5.000000\n",
       "Z Bar Motel                        4.000000\n",
       "dana hotel and spa                 4.482609\n",
       "hampton inn Springfield southeast  5.000000\n",
       "hotel le bleu                      4.333333\n",
       "\n",
       "[3517 rows x 1 columns]"
      ]
     },
     "execution_count": 89,
     "metadata": {},
     "output_type": "execute_result"
    }
   ],
   "source": [
    "hotel_grouped = df.groupby('name')\n",
    "avg_rating = pd.DataFrame(hotel_grouped.mean()['rating'])\n",
    "avg_rating"
   ]
  },
  {
   "cell_type": "markdown",
   "id": "a40c58a5",
   "metadata": {},
   "source": [
    "We can look into the average rating distribution"
   ]
  },
  {
   "cell_type": "code",
   "execution_count": 90,
   "id": "f6a54cdc",
   "metadata": {},
   "outputs": [
    {
     "data": {
      "text/plain": [
       "array([[<AxesSubplot:title={'center':'rating'}>]], dtype=object)"
      ]
     },
     "execution_count": 90,
     "metadata": {},
     "output_type": "execute_result"
    },
    {
     "data": {
      "image/png": "[encoded data removed]",
      "text/plain": [
       "<Figure size 576x396 with 1 Axes>"
      ]
     },
     "metadata": {},
     "output_type": "display_data"
    }
   ],
   "source": [
    "avg_rating.hist()"
   ]
  },
  {
   "cell_type": "markdown",
   "id": "742a004c",
   "metadata": {},
   "source": [
    "We want to sort the dataframe by average rating, so that we can show the five hotels with highest ratings and five hotels with lowest ratings"
   ]
  },
  {
   "cell_type": "code",
   "execution_count": 91,
   "id": "929714ad",
   "metadata": {},
   "outputs": [
    {
     "data": {
      "text/html": [
       "<div>\n",
       "<style scoped>\n",
       "    .dataframe tbody tr th:only-of-type {\n",
       "        vertical-align: middle;\n",
       "    }\n",
       "\n",
       "    .dataframe tbody tr th {\n",
       "        vertical-align: top;\n",
       "    }\n",
       "\n",
       "    .dataframe thead th {\n",
       "        text-align: right;\n",
       "    }\n",
       "</style>\n",
       "<table border=\"1\" class=\"dataframe\">\n",
       "  <thead>\n",
       "    <tr style=\"text-align: right;\">\n",
       "      <th></th>\n",
       "      <th>rating</th>\n",
       "    </tr>\n",
       "    <tr>\n",
       "      <th>name</th>\n",
       "      <th></th>\n",
       "    </tr>\n",
       "  </thead>\n",
       "  <tbody>\n",
       "    <tr>\n",
       "      <th>11th Avenue Hotel Hostel</th>\n",
       "      <td>1.0</td>\n",
       "    </tr>\n",
       "    <tr>\n",
       "      <th>Sids Resort</th>\n",
       "      <td>1.0</td>\n",
       "    </tr>\n",
       "    <tr>\n",
       "      <th>Days Inn Ames</th>\n",
       "      <td>1.0</td>\n",
       "    </tr>\n",
       "    <tr>\n",
       "      <th>Days Inn &amp; Suites Logan</th>\n",
       "      <td>1.0</td>\n",
       "    </tr>\n",
       "    <tr>\n",
       "      <th>Davison St Guest House</th>\n",
       "      <td>1.0</td>\n",
       "    </tr>\n",
       "  </tbody>\n",
       "</table>\n",
       "</div>"
      ],
      "text/plain": [
       "                          rating\n",
       "name                            \n",
       "11th Avenue Hotel Hostel     1.0\n",
       "Sids Resort                  1.0\n",
       "Days Inn Ames                1.0\n",
       "Days Inn & Suites Logan      1.0\n",
       "Davison St Guest House       1.0"
      ]
     },
     "execution_count": 91,
     "metadata": {},
     "output_type": "execute_result"
    }
   ],
   "source": [
    "avg_rating.sort_values(by = 'rating').head()"
   ]
  },
  {
   "cell_type": "code",
   "execution_count": 92,
   "id": "6c49420b",
   "metadata": {},
   "outputs": [
    {
     "data": {
      "text/html": [
       "<div>\n",
       "<style scoped>\n",
       "    .dataframe tbody tr th:only-of-type {\n",
       "        vertical-align: middle;\n",
       "    }\n",
       "\n",
       "    .dataframe tbody tr th {\n",
       "        vertical-align: top;\n",
       "    }\n",
       "\n",
       "    .dataframe thead th {\n",
       "        text-align: right;\n",
       "    }\n",
       "</style>\n",
       "<table border=\"1\" class=\"dataframe\">\n",
       "  <thead>\n",
       "    <tr style=\"text-align: right;\">\n",
       "      <th></th>\n",
       "      <th>rating</th>\n",
       "    </tr>\n",
       "    <tr>\n",
       "      <th>name</th>\n",
       "      <th></th>\n",
       "    </tr>\n",
       "  </thead>\n",
       "  <tbody>\n",
       "    <tr>\n",
       "      <th>Holiday Inn Express &amp; Suites Helena</th>\n",
       "      <td>5.0</td>\n",
       "    </tr>\n",
       "    <tr>\n",
       "      <th>Comfort Suites-marietta</th>\n",
       "      <td>5.0</td>\n",
       "    </tr>\n",
       "    <tr>\n",
       "      <th>Inn At Nye Beach</th>\n",
       "      <td>5.0</td>\n",
       "    </tr>\n",
       "    <tr>\n",
       "      <th>Comfort Inn Red Hook</th>\n",
       "      <td>5.0</td>\n",
       "    </tr>\n",
       "    <tr>\n",
       "      <th>Comfort Inn South</th>\n",
       "      <td>5.0</td>\n",
       "    </tr>\n",
       "  </tbody>\n",
       "</table>\n",
       "</div>"
      ],
      "text/plain": [
       "                                     rating\n",
       "name                                       \n",
       "Holiday Inn Express & Suites Helena     5.0\n",
       "Comfort Suites-marietta                 5.0\n",
       "Inn At Nye Beach                        5.0\n",
       "Comfort Inn Red Hook                    5.0\n",
       "Comfort Inn South                       5.0"
      ]
     },
     "execution_count": 92,
     "metadata": {},
     "output_type": "execute_result"
    }
   ],
   "source": [
    "avg_rating.sort_values(by = 'rating', ascending = False).head()"
   ]
  },
  {
   "cell_type": "markdown",
   "id": "3daf096a",
   "metadata": {},
   "source": [
    "We see that the five hotels with lowest ratings all have ratings of 1.0 and the five hotels with highest ratings all have ratings of 5.0. However, an average rating might be biased for hotels with only 1 rating. Thus, we look into the number of ratings for all hotels"
   ]
  },
  {
   "cell_type": "code",
   "execution_count": 93,
   "id": "5c409e82",
   "metadata": {},
   "outputs": [],
   "source": [
    "avg_rating['num_rating'] = hotel_grouped.size()"
   ]
  },
  {
   "cell_type": "code",
   "execution_count": 94,
   "id": "c98991bd",
   "metadata": {},
   "outputs": [
    {
     "data": {
      "text/html": [
       "<div>\n",
       "<style scoped>\n",
       "    .dataframe tbody tr th:only-of-type {\n",
       "        vertical-align: middle;\n",
       "    }\n",
       "\n",
       "    .dataframe tbody tr th {\n",
       "        vertical-align: top;\n",
       "    }\n",
       "\n",
       "    .dataframe thead th {\n",
       "        text-align: right;\n",
       "    }\n",
       "</style>\n",
       "<table border=\"1\" class=\"dataframe\">\n",
       "  <thead>\n",
       "    <tr style=\"text-align: right;\">\n",
       "      <th></th>\n",
       "      <th>rating</th>\n",
       "      <th>num_rating</th>\n",
       "    </tr>\n",
       "    <tr>\n",
       "      <th>name</th>\n",
       "      <th></th>\n",
       "      <th></th>\n",
       "    </tr>\n",
       "  </thead>\n",
       "  <tbody>\n",
       "    <tr>\n",
       "      <th>11th Avenue Hotel Hostel</th>\n",
       "      <td>1.0</td>\n",
       "      <td>1</td>\n",
       "    </tr>\n",
       "    <tr>\n",
       "      <th>Sids Resort</th>\n",
       "      <td>1.0</td>\n",
       "      <td>1</td>\n",
       "    </tr>\n",
       "    <tr>\n",
       "      <th>Days Inn Ames</th>\n",
       "      <td>1.0</td>\n",
       "      <td>1</td>\n",
       "    </tr>\n",
       "    <tr>\n",
       "      <th>Days Inn &amp; Suites Logan</th>\n",
       "      <td>1.0</td>\n",
       "      <td>1</td>\n",
       "    </tr>\n",
       "    <tr>\n",
       "      <th>Davison St Guest House</th>\n",
       "      <td>1.0</td>\n",
       "      <td>1</td>\n",
       "    </tr>\n",
       "  </tbody>\n",
       "</table>\n",
       "</div>"
      ],
      "text/plain": [
       "                          rating  num_rating\n",
       "name                                        \n",
       "11th Avenue Hotel Hostel     1.0           1\n",
       "Sids Resort                  1.0           1\n",
       "Days Inn Ames                1.0           1\n",
       "Days Inn & Suites Logan      1.0           1\n",
       "Davison St Guest House       1.0           1"
      ]
     },
     "execution_count": 94,
     "metadata": {},
     "output_type": "execute_result"
    }
   ],
   "source": [
    "avg_rating.sort_values(by = 'rating').head()"
   ]
  },
  {
   "cell_type": "code",
   "execution_count": 95,
   "id": "0d94b7ec",
   "metadata": {},
   "outputs": [
    {
     "data": {
      "text/html": [
       "<div>\n",
       "<style scoped>\n",
       "    .dataframe tbody tr th:only-of-type {\n",
       "        vertical-align: middle;\n",
       "    }\n",
       "\n",
       "    .dataframe tbody tr th {\n",
       "        vertical-align: top;\n",
       "    }\n",
       "\n",
       "    .dataframe thead th {\n",
       "        text-align: right;\n",
       "    }\n",
       "</style>\n",
       "<table border=\"1\" class=\"dataframe\">\n",
       "  <thead>\n",
       "    <tr style=\"text-align: right;\">\n",
       "      <th></th>\n",
       "      <th>rating</th>\n",
       "      <th>num_rating</th>\n",
       "    </tr>\n",
       "    <tr>\n",
       "      <th>name</th>\n",
       "      <th></th>\n",
       "      <th></th>\n",
       "    </tr>\n",
       "  </thead>\n",
       "  <tbody>\n",
       "    <tr>\n",
       "      <th>Holiday Inn Express &amp; Suites Helena</th>\n",
       "      <td>5.0</td>\n",
       "      <td>1</td>\n",
       "    </tr>\n",
       "    <tr>\n",
       "      <th>Comfort Suites-marietta</th>\n",
       "      <td>5.0</td>\n",
       "      <td>1</td>\n",
       "    </tr>\n",
       "    <tr>\n",
       "      <th>Inn At Nye Beach</th>\n",
       "      <td>5.0</td>\n",
       "      <td>1</td>\n",
       "    </tr>\n",
       "    <tr>\n",
       "      <th>Comfort Inn Red Hook</th>\n",
       "      <td>5.0</td>\n",
       "      <td>1</td>\n",
       "    </tr>\n",
       "    <tr>\n",
       "      <th>Comfort Inn South</th>\n",
       "      <td>5.0</td>\n",
       "      <td>1</td>\n",
       "    </tr>\n",
       "  </tbody>\n",
       "</table>\n",
       "</div>"
      ],
      "text/plain": [
       "                                     rating  num_rating\n",
       "name                                                   \n",
       "Holiday Inn Express & Suites Helena     5.0           1\n",
       "Comfort Suites-marietta                 5.0           1\n",
       "Inn At Nye Beach                        5.0           1\n",
       "Comfort Inn Red Hook                    5.0           1\n",
       "Comfort Inn South                       5.0           1"
      ]
     },
     "execution_count": 95,
     "metadata": {},
     "output_type": "execute_result"
    }
   ],
   "source": [
    "avg_rating.sort_values(by = 'rating', ascending = False).head()"
   ]
  },
  {
   "cell_type": "markdown",
   "id": "4dfb6c4a",
   "metadata": {},
   "source": [
    "Indeed, we see that all these hotels with \"lowest\" and \"highest\" ratings only have 1 rating. We investigate this further"
   ]
  },
  {
   "cell_type": "code",
   "execution_count": 96,
   "id": "39e59611",
   "metadata": {},
   "outputs": [
    {
     "name": "stdout",
     "output_type": "stream",
     "text": [
      "Number of hotels with exactly 1 rating: 1212\n",
      "Number of hotels with more than 1 rating: 2305\n",
      "Number of hotels with more than 2 ratings: 1768\n"
     ]
    }
   ],
   "source": [
    "print(\"Number of hotels with exactly 1 rating:\", avg_rating[avg_rating['num_rating'] == 1].shape[0])\n",
    "print(\"Number of hotels with more than 1 rating:\", avg_rating[avg_rating['num_rating'] > 1].shape[0])\n",
    "print(\"Number of hotels with more than 2 ratings:\", avg_rating[avg_rating['num_rating'] > 2].shape[0])"
   ]
  },
  {
   "cell_type": "markdown",
   "id": "ee86c189",
   "metadata": {},
   "source": [
    "In fact, only 2,306 hotels out of 3,518 hotels have more than 1 rating and only 1,769 hotels have more than 2 ratings. If we were to only consider hotels with at least 5 ratings, the top and bottom hotels are as followed:"
   ]
  },
  {
   "cell_type": "code",
   "execution_count": 97,
   "id": "6626f0cd",
   "metadata": {},
   "outputs": [
    {
     "data": {
      "text/html": [
       "<div>\n",
       "<style scoped>\n",
       "    .dataframe tbody tr th:only-of-type {\n",
       "        vertical-align: middle;\n",
       "    }\n",
       "\n",
       "    .dataframe tbody tr th {\n",
       "        vertical-align: top;\n",
       "    }\n",
       "\n",
       "    .dataframe thead th {\n",
       "        text-align: right;\n",
       "    }\n",
       "</style>\n",
       "<table border=\"1\" class=\"dataframe\">\n",
       "  <thead>\n",
       "    <tr style=\"text-align: right;\">\n",
       "      <th></th>\n",
       "      <th>rating</th>\n",
       "      <th>num_rating</th>\n",
       "    </tr>\n",
       "    <tr>\n",
       "      <th>name</th>\n",
       "      <th></th>\n",
       "      <th></th>\n",
       "    </tr>\n",
       "  </thead>\n",
       "  <tbody>\n",
       "    <tr>\n",
       "      <th>The Litchfield Inn</th>\n",
       "      <td>1.000000</td>\n",
       "      <td>13</td>\n",
       "    </tr>\n",
       "    <tr>\n",
       "      <th>Norwood Inn and Suites</th>\n",
       "      <td>1.446154</td>\n",
       "      <td>65</td>\n",
       "    </tr>\n",
       "    <tr>\n",
       "      <th>Fiesta Inn and Suites</th>\n",
       "      <td>1.454212</td>\n",
       "      <td>546</td>\n",
       "    </tr>\n",
       "    <tr>\n",
       "      <th>Seattle Pacific Hotel</th>\n",
       "      <td>1.461538</td>\n",
       "      <td>13</td>\n",
       "    </tr>\n",
       "    <tr>\n",
       "      <th>Deluxe Inn Merrillville</th>\n",
       "      <td>1.571429</td>\n",
       "      <td>7</td>\n",
       "    </tr>\n",
       "  </tbody>\n",
       "</table>\n",
       "</div>"
      ],
      "text/plain": [
       "                           rating  num_rating\n",
       "name                                         \n",
       "The Litchfield Inn       1.000000          13\n",
       "Norwood Inn and Suites   1.446154          65\n",
       "Fiesta Inn and Suites    1.454212         546\n",
       "Seattle Pacific Hotel    1.461538          13\n",
       "Deluxe Inn Merrillville  1.571429           7"
      ]
     },
     "execution_count": 97,
     "metadata": {},
     "output_type": "execute_result"
    }
   ],
   "source": [
    "avg_rating[avg_rating['num_rating'] > 5].sort_values(by = 'rating').head()"
   ]
  },
  {
   "cell_type": "code",
   "execution_count": 98,
   "id": "93523d1e",
   "metadata": {},
   "outputs": [
    {
     "data": {
      "text/html": [
       "<div>\n",
       "<style scoped>\n",
       "    .dataframe tbody tr th:only-of-type {\n",
       "        vertical-align: middle;\n",
       "    }\n",
       "\n",
       "    .dataframe tbody tr th {\n",
       "        vertical-align: top;\n",
       "    }\n",
       "\n",
       "    .dataframe thead th {\n",
       "        text-align: right;\n",
       "    }\n",
       "</style>\n",
       "<table border=\"1\" class=\"dataframe\">\n",
       "  <thead>\n",
       "    <tr style=\"text-align: right;\">\n",
       "      <th></th>\n",
       "      <th>rating</th>\n",
       "      <th>num_rating</th>\n",
       "    </tr>\n",
       "    <tr>\n",
       "      <th>name</th>\n",
       "      <th></th>\n",
       "      <th></th>\n",
       "    </tr>\n",
       "  </thead>\n",
       "  <tbody>\n",
       "    <tr>\n",
       "      <th>Hampton Inn &amp; Suites Warren</th>\n",
       "      <td>5.0</td>\n",
       "      <td>9</td>\n",
       "    </tr>\n",
       "    <tr>\n",
       "      <th>Homewood Suites by Hilton Macon-North</th>\n",
       "      <td>5.0</td>\n",
       "      <td>7</td>\n",
       "    </tr>\n",
       "    <tr>\n",
       "      <th>The Inn On Negley</th>\n",
       "      <td>5.0</td>\n",
       "      <td>27</td>\n",
       "    </tr>\n",
       "    <tr>\n",
       "      <th>Arrowhead Motel and Rv Park</th>\n",
       "      <td>5.0</td>\n",
       "      <td>11</td>\n",
       "    </tr>\n",
       "    <tr>\n",
       "      <th>The Hideout Lodge Guest Ranch</th>\n",
       "      <td>5.0</td>\n",
       "      <td>7</td>\n",
       "    </tr>\n",
       "  </tbody>\n",
       "</table>\n",
       "</div>"
      ],
      "text/plain": [
       "                                       rating  num_rating\n",
       "name                                                     \n",
       "Hampton Inn & Suites Warren               5.0           9\n",
       "Homewood Suites by Hilton Macon-North     5.0           7\n",
       "The Inn On Negley                         5.0          27\n",
       "Arrowhead Motel and Rv Park               5.0          11\n",
       "The Hideout Lodge Guest Ranch             5.0           7"
      ]
     },
     "execution_count": 98,
     "metadata": {},
     "output_type": "execute_result"
    }
   ],
   "source": [
    "avg_rating[avg_rating['num_rating'] > 5].sort_values(by = 'rating', ascending = False).head()"
   ]
  },
  {
   "cell_type": "markdown",
   "id": "a191a1b9",
   "metadata": {},
   "source": [
    "<h2> Hotel Categories </h2>"
   ]
  },
  {
   "cell_type": "markdown",
   "id": "42cd2dcc",
   "metadata": {},
   "source": [
    "We start by counting the frequency of hotels categories"
   ]
  },
  {
   "cell_type": "code",
   "execution_count": 99,
   "id": "88b09823",
   "metadata": {},
   "outputs": [
    {
     "data": {
      "text/plain": [
       "Hotels                                46819\n",
       "Hotel                                 27094\n",
       "Lodging                               11168\n",
       "Hotels Motels                          8257\n",
       "Hotels and motels                      6846\n",
       "                                      ...  \n",
       "Halls Auditoriums and Ballrooms           1\n",
       "Travel Lounge                             1\n",
       "Nursing & Personal Care Facilities        1\n",
       "wich Place                                1\n",
       "Hotel Southside                           1\n",
       "Name: categories, Length: 572, dtype: int64"
      ]
     },
     "execution_count": 99,
     "metadata": {},
     "output_type": "execute_result"
    }
   ],
   "source": [
    "hotel_categories = df['categories'].str.split(\",\").explode()\n",
    "hotel_categories.value_counts()"
   ]
  },
  {
   "cell_type": "markdown",
   "id": "2d05eada",
   "metadata": {},
   "source": [
    "However, we see that some categories clearly overlap (e.g., Hotels and hotel). Thus, we perform some text cleaning to collapse them. In particular, we lowercase and tokenize the category, remove stopwords, and convert each token to its base form via lemmatization. In addition, to remove special symbols such as &, we only consider categories that have at least two characters"
   ]
  },
  {
   "cell_type": "code",
   "execution_count": 100,
   "id": "85d5bb6f",
   "metadata": {},
   "outputs": [],
   "source": [
    "import nltk\n",
    "from nltk.stem.wordnet import WordNetLemmatizer \n",
    "\n",
    "nltk.download(\"stopwords\", quiet = True)\n",
    "lemmatizer = WordNetLemmatizer()\n",
    "english_stopwords = set(nltk.corpus.stopwords.words('english'))\n",
    "\n",
    "def clean_category(text):\n",
    "    return [\n",
    "        lemmatizer.lemmatize(token)\n",
    "        for token in nltk.word_tokenize(text.lower())\n",
    "        if token not in english_stopwords and len(token) > 1\n",
    "    ]\n",
    "\n",
    "hotel_categories = hotel_categories.apply(clean_category).explode()"
   ]
  },
  {
   "cell_type": "code",
   "execution_count": 101,
   "id": "b3e5e840",
   "metadata": {},
   "outputs": [
    {
     "data": {
      "text/plain": [
       "<AxesSubplot:>"
      ]
     },
     "execution_count": 101,
     "metadata": {},
     "output_type": "execute_result"
    },
    {
     "data": {
      "image/png": "[encoded data removed]",
      "text/plain": [
       "<Figure size 1080x360 with 1 Axes>"
      ]
     },
     "metadata": {},
     "output_type": "display_data"
    }
   ],
   "source": [
    "hotel_categories.value_counts().nlargest(10).plot(kind = \"bar\", rot = 0, figsize = (15, 5))"
   ]
  },
  {
   "cell_type": "code",
   "execution_count": 102,
   "id": "9fac9892",
   "metadata": {},
   "outputs": [
    {
     "data": {
      "text/plain": [
       "hotel              117620\n",
       "motel               31484\n",
       "lodging             14834\n",
       "resort               4338\n",
       "reservation          3280\n",
       "budget               3193\n",
       "corporate            3187\n",
       "family-friendly      3151\n",
       "business             3024\n",
       "tourist              2664\n",
       "Name: categories, dtype: int64"
      ]
     },
     "execution_count": 102,
     "metadata": {},
     "output_type": "execute_result"
    }
   ],
   "source": [
    "hotel_categories.value_counts().nlargest(10)"
   ]
  },
  {
   "cell_type": "markdown",
   "id": "6f330809",
   "metadata": {},
   "source": [
    "Showing the 10 most common hotel categories, we see that after hotel, motel and lodging on one hand and resort on another hand are also quite popular"
   ]
  },
  {
   "cell_type": "markdown",
   "id": "f816daa5",
   "metadata": {},
   "source": [
    "<h3> Review Categories by Rating </h3>"
   ]
  },
  {
   "cell_type": "code",
   "execution_count": 103,
   "id": "e6508bef",
   "metadata": {},
   "outputs": [],
   "source": [
    "def rating_bins(r):\n",
    "    if r == 1:\n",
    "        return \"Terrible\"\n",
    "    elif r > 1 and r < 3:\n",
    "        return \"Bad\"\n",
    "    elif r >= 3 and r < 4:\n",
    "        return \"Neutral\"\n",
    "    elif r > 3 and r <= 4:\n",
    "        return \"Good\"\n",
    "    else:\n",
    "        return \"Great\"\n",
    "\n",
    "get_bins = lambda r: rating_bins(r)"
   ]
  },
  {
   "cell_type": "code",
   "execution_count": 104,
   "id": "c357fdef",
   "metadata": {},
   "outputs": [
    {
     "data": {
      "text/plain": [
       "0            Good\n",
       "1           Great\n",
       "2           Great\n",
       "3           Great\n",
       "4           Great\n",
       "           ...   \n",
       "55907     Neutral\n",
       "55908        Good\n",
       "55909        Good\n",
       "55910    Terrible\n",
       "55911    Terrible\n",
       "Name: rating_cat, Length: 55027, dtype: object"
      ]
     },
     "execution_count": 104,
     "metadata": {},
     "output_type": "execute_result"
    }
   ],
   "source": [
    "df[\"rating_cat\"] = df.rating.apply(get_bins)\n",
    "df['rating_cat']"
   ]
  },
  {
   "cell_type": "code",
   "execution_count": 105,
   "id": "8388a523",
   "metadata": {},
   "outputs": [
    {
     "data": {
      "text/plain": [
       "Text(0, 0.5, 'Count')"
      ]
     },
     "execution_count": 105,
     "metadata": {},
     "output_type": "execute_result"
    },
    {
     "data": {
      "image/png": "[encoded data removed]",
      "text/plain": [
       "<Figure size 720x576 with 1 Axes>"
      ]
     },
     "metadata": {},
     "output_type": "display_data"
    }
   ],
   "source": [
    "import seaborn as sns\n",
    "plt.rcParams['figure.figsize'] = [10, 8]\n",
    "sns.countplot(df.rating_cat)\n",
    "plt.title(\"Hotel Review Categories (by Rating)\", fontsize = 20)\n",
    "plt.xlabel(\"Rating Category\", fontsize = 12)\n",
    "plt.ylabel(\"Count\", fontsize = 12)"
   ]
  },
  {
   "cell_type": "markdown",
   "id": "495424f1",
   "metadata": {},
   "source": [
    "<h2> Review dates </h2>"
   ]
  },
  {
   "cell_type": "markdown",
   "id": "371edf4f",
   "metadata": {},
   "source": [
    "Presumably people would write their review to a hotel shortly after their stay, so looking at the review count at a particular time would provide some insights into a hotel's traffic at that time."
   ]
  },
  {
   "cell_type": "code",
   "execution_count": 106,
   "id": "fa9d7cff",
   "metadata": {},
   "outputs": [
    {
     "data": {
      "image/png": "[encoded data removed]",
      "text/plain": [
       "<Figure size 720x576 with 1 Axes>"
      ]
     },
     "metadata": {},
     "output_type": "display_data"
    }
   ],
   "source": [
    "df['month'] = pd.to_datetime(df['date']).dt.month\n",
    "ax = df['month'].hist()\n",
    "ax.set_xlabel('month')\n",
    "ax.set_ylabel('count');"
   ]
  },
  {
   "cell_type": "markdown",
   "id": "4368cb4d",
   "metadata": {},
   "source": [
    "We see that the three clear modes are in January, July, and December. These three months correspond to the New Year holiday, summer holiday, and Christmas, so it makes sense that they yielded the highest number of guests and reviews."
   ]
  },
  {
   "cell_type": "markdown",
   "id": "ec8f3712",
   "metadata": {},
   "source": [
    "<h2> Distribution of ratings by month </h2>"
   ]
  },
  {
   "cell_type": "markdown",
   "id": "05f9d784",
   "metadata": {},
   "source": [
    "Could we try to see if the ratings tend to be higher at certain times of the year than at other times?"
   ]
  },
  {
   "cell_type": "code",
   "execution_count": 107,
   "id": "6ae3433a",
   "metadata": {},
   "outputs": [
    {
     "data": {
      "text/html": [
       "<div>\n",
       "<style scoped>\n",
       "    .dataframe tbody tr th:only-of-type {\n",
       "        vertical-align: middle;\n",
       "    }\n",
       "\n",
       "    .dataframe tbody tr th {\n",
       "        vertical-align: top;\n",
       "    }\n",
       "\n",
       "    .dataframe thead th {\n",
       "        text-align: right;\n",
       "    }\n",
       "</style>\n",
       "<table border=\"1\" class=\"dataframe\">\n",
       "  <thead>\n",
       "    <tr style=\"text-align: right;\">\n",
       "      <th>rating</th>\n",
       "      <th>1.00</th>\n",
       "      <th>1.25</th>\n",
       "      <th>1.30</th>\n",
       "      <th>1.45</th>\n",
       "      <th>1.50</th>\n",
       "      <th>1.65</th>\n",
       "      <th>1.90</th>\n",
       "      <th>2.00</th>\n",
       "      <th>2.10</th>\n",
       "      <th>2.30</th>\n",
       "      <th>...</th>\n",
       "      <th>4.25</th>\n",
       "      <th>4.30</th>\n",
       "      <th>4.40</th>\n",
       "      <th>4.50</th>\n",
       "      <th>4.60</th>\n",
       "      <th>4.70</th>\n",
       "      <th>4.75</th>\n",
       "      <th>4.80</th>\n",
       "      <th>4.90</th>\n",
       "      <th>5.00</th>\n",
       "    </tr>\n",
       "    <tr>\n",
       "      <th>month</th>\n",
       "      <th></th>\n",
       "      <th></th>\n",
       "      <th></th>\n",
       "      <th></th>\n",
       "      <th></th>\n",
       "      <th></th>\n",
       "      <th></th>\n",
       "      <th></th>\n",
       "      <th></th>\n",
       "      <th></th>\n",
       "      <th></th>\n",
       "      <th></th>\n",
       "      <th></th>\n",
       "      <th></th>\n",
       "      <th></th>\n",
       "      <th></th>\n",
       "      <th></th>\n",
       "      <th></th>\n",
       "      <th></th>\n",
       "      <th></th>\n",
       "      <th></th>\n",
       "    </tr>\n",
       "  </thead>\n",
       "  <tbody>\n",
       "    <tr>\n",
       "      <th>1.0</th>\n",
       "      <td>176.0</td>\n",
       "      <td>NaN</td>\n",
       "      <td>NaN</td>\n",
       "      <td>NaN</td>\n",
       "      <td>5.0</td>\n",
       "      <td>1.0</td>\n",
       "      <td>NaN</td>\n",
       "      <td>213.0</td>\n",
       "      <td>NaN</td>\n",
       "      <td>2.0</td>\n",
       "      <td>...</td>\n",
       "      <td>1.0</td>\n",
       "      <td>16.0</td>\n",
       "      <td>8.0</td>\n",
       "      <td>5.0</td>\n",
       "      <td>13.0</td>\n",
       "      <td>NaN</td>\n",
       "      <td>NaN</td>\n",
       "      <td>21.0</td>\n",
       "      <td>1.0</td>\n",
       "      <td>1371.0</td>\n",
       "    </tr>\n",
       "    <tr>\n",
       "      <th>2.0</th>\n",
       "      <td>221.0</td>\n",
       "      <td>NaN</td>\n",
       "      <td>NaN</td>\n",
       "      <td>1.0</td>\n",
       "      <td>5.0</td>\n",
       "      <td>NaN</td>\n",
       "      <td>NaN</td>\n",
       "      <td>210.0</td>\n",
       "      <td>1.0</td>\n",
       "      <td>1.0</td>\n",
       "      <td>...</td>\n",
       "      <td>NaN</td>\n",
       "      <td>3.0</td>\n",
       "      <td>12.0</td>\n",
       "      <td>NaN</td>\n",
       "      <td>10.0</td>\n",
       "      <td>NaN</td>\n",
       "      <td>NaN</td>\n",
       "      <td>18.0</td>\n",
       "      <td>NaN</td>\n",
       "      <td>1339.0</td>\n",
       "    </tr>\n",
       "    <tr>\n",
       "      <th>3.0</th>\n",
       "      <td>322.0</td>\n",
       "      <td>2.0</td>\n",
       "      <td>NaN</td>\n",
       "      <td>NaN</td>\n",
       "      <td>3.0</td>\n",
       "      <td>1.0</td>\n",
       "      <td>NaN</td>\n",
       "      <td>263.0</td>\n",
       "      <td>4.0</td>\n",
       "      <td>1.0</td>\n",
       "      <td>...</td>\n",
       "      <td>NaN</td>\n",
       "      <td>1.0</td>\n",
       "      <td>10.0</td>\n",
       "      <td>4.0</td>\n",
       "      <td>23.0</td>\n",
       "      <td>NaN</td>\n",
       "      <td>NaN</td>\n",
       "      <td>23.0</td>\n",
       "      <td>NaN</td>\n",
       "      <td>1672.0</td>\n",
       "    </tr>\n",
       "    <tr>\n",
       "      <th>4.0</th>\n",
       "      <td>334.0</td>\n",
       "      <td>NaN</td>\n",
       "      <td>1.0</td>\n",
       "      <td>1.0</td>\n",
       "      <td>3.0</td>\n",
       "      <td>2.0</td>\n",
       "      <td>1.0</td>\n",
       "      <td>338.0</td>\n",
       "      <td>NaN</td>\n",
       "      <td>NaN</td>\n",
       "      <td>...</td>\n",
       "      <td>NaN</td>\n",
       "      <td>NaN</td>\n",
       "      <td>12.0</td>\n",
       "      <td>NaN</td>\n",
       "      <td>13.0</td>\n",
       "      <td>NaN</td>\n",
       "      <td>NaN</td>\n",
       "      <td>19.0</td>\n",
       "      <td>2.0</td>\n",
       "      <td>1862.0</td>\n",
       "    </tr>\n",
       "    <tr>\n",
       "      <th>5.0</th>\n",
       "      <td>368.0</td>\n",
       "      <td>NaN</td>\n",
       "      <td>NaN</td>\n",
       "      <td>2.0</td>\n",
       "      <td>1.0</td>\n",
       "      <td>1.0</td>\n",
       "      <td>NaN</td>\n",
       "      <td>347.0</td>\n",
       "      <td>3.0</td>\n",
       "      <td>3.0</td>\n",
       "      <td>...</td>\n",
       "      <td>NaN</td>\n",
       "      <td>NaN</td>\n",
       "      <td>13.0</td>\n",
       "      <td>NaN</td>\n",
       "      <td>21.0</td>\n",
       "      <td>NaN</td>\n",
       "      <td>NaN</td>\n",
       "      <td>15.0</td>\n",
       "      <td>2.0</td>\n",
       "      <td>2036.0</td>\n",
       "    </tr>\n",
       "    <tr>\n",
       "      <th>6.0</th>\n",
       "      <td>513.0</td>\n",
       "      <td>1.0</td>\n",
       "      <td>NaN</td>\n",
       "      <td>3.0</td>\n",
       "      <td>5.0</td>\n",
       "      <td>NaN</td>\n",
       "      <td>NaN</td>\n",
       "      <td>439.0</td>\n",
       "      <td>NaN</td>\n",
       "      <td>3.0</td>\n",
       "      <td>...</td>\n",
       "      <td>NaN</td>\n",
       "      <td>NaN</td>\n",
       "      <td>15.0</td>\n",
       "      <td>1.0</td>\n",
       "      <td>13.0</td>\n",
       "      <td>1.0</td>\n",
       "      <td>NaN</td>\n",
       "      <td>27.0</td>\n",
       "      <td>NaN</td>\n",
       "      <td>2190.0</td>\n",
       "    </tr>\n",
       "    <tr>\n",
       "      <th>7.0</th>\n",
       "      <td>670.0</td>\n",
       "      <td>NaN</td>\n",
       "      <td>NaN</td>\n",
       "      <td>NaN</td>\n",
       "      <td>10.0</td>\n",
       "      <td>NaN</td>\n",
       "      <td>2.0</td>\n",
       "      <td>620.0</td>\n",
       "      <td>2.0</td>\n",
       "      <td>1.0</td>\n",
       "      <td>...</td>\n",
       "      <td>NaN</td>\n",
       "      <td>NaN</td>\n",
       "      <td>17.0</td>\n",
       "      <td>1.0</td>\n",
       "      <td>26.0</td>\n",
       "      <td>1.0</td>\n",
       "      <td>1.0</td>\n",
       "      <td>23.0</td>\n",
       "      <td>NaN</td>\n",
       "      <td>2646.0</td>\n",
       "    </tr>\n",
       "    <tr>\n",
       "      <th>8.0</th>\n",
       "      <td>538.0</td>\n",
       "      <td>NaN</td>\n",
       "      <td>NaN</td>\n",
       "      <td>NaN</td>\n",
       "      <td>9.0</td>\n",
       "      <td>NaN</td>\n",
       "      <td>1.0</td>\n",
       "      <td>535.0</td>\n",
       "      <td>1.0</td>\n",
       "      <td>1.0</td>\n",
       "      <td>...</td>\n",
       "      <td>1.0</td>\n",
       "      <td>NaN</td>\n",
       "      <td>12.0</td>\n",
       "      <td>NaN</td>\n",
       "      <td>36.0</td>\n",
       "      <td>1.0</td>\n",
       "      <td>1.0</td>\n",
       "      <td>33.0</td>\n",
       "      <td>1.0</td>\n",
       "      <td>2269.0</td>\n",
       "    </tr>\n",
       "    <tr>\n",
       "      <th>9.0</th>\n",
       "      <td>402.0</td>\n",
       "      <td>NaN</td>\n",
       "      <td>NaN</td>\n",
       "      <td>NaN</td>\n",
       "      <td>2.0</td>\n",
       "      <td>2.0</td>\n",
       "      <td>NaN</td>\n",
       "      <td>409.0</td>\n",
       "      <td>NaN</td>\n",
       "      <td>2.0</td>\n",
       "      <td>...</td>\n",
       "      <td>NaN</td>\n",
       "      <td>NaN</td>\n",
       "      <td>7.0</td>\n",
       "      <td>1.0</td>\n",
       "      <td>18.0</td>\n",
       "      <td>NaN</td>\n",
       "      <td>NaN</td>\n",
       "      <td>19.0</td>\n",
       "      <td>NaN</td>\n",
       "      <td>1939.0</td>\n",
       "    </tr>\n",
       "    <tr>\n",
       "      <th>10.0</th>\n",
       "      <td>362.0</td>\n",
       "      <td>1.0</td>\n",
       "      <td>NaN</td>\n",
       "      <td>NaN</td>\n",
       "      <td>7.0</td>\n",
       "      <td>NaN</td>\n",
       "      <td>NaN</td>\n",
       "      <td>416.0</td>\n",
       "      <td>NaN</td>\n",
       "      <td>2.0</td>\n",
       "      <td>...</td>\n",
       "      <td>NaN</td>\n",
       "      <td>1.0</td>\n",
       "      <td>11.0</td>\n",
       "      <td>1.0</td>\n",
       "      <td>14.0</td>\n",
       "      <td>1.0</td>\n",
       "      <td>NaN</td>\n",
       "      <td>13.0</td>\n",
       "      <td>NaN</td>\n",
       "      <td>1867.0</td>\n",
       "    </tr>\n",
       "    <tr>\n",
       "      <th>11.0</th>\n",
       "      <td>206.0</td>\n",
       "      <td>1.0</td>\n",
       "      <td>NaN</td>\n",
       "      <td>NaN</td>\n",
       "      <td>NaN</td>\n",
       "      <td>NaN</td>\n",
       "      <td>NaN</td>\n",
       "      <td>213.0</td>\n",
       "      <td>NaN</td>\n",
       "      <td>NaN</td>\n",
       "      <td>...</td>\n",
       "      <td>NaN</td>\n",
       "      <td>4.0</td>\n",
       "      <td>4.0</td>\n",
       "      <td>1.0</td>\n",
       "      <td>12.0</td>\n",
       "      <td>1.0</td>\n",
       "      <td>NaN</td>\n",
       "      <td>16.0</td>\n",
       "      <td>NaN</td>\n",
       "      <td>1325.0</td>\n",
       "    </tr>\n",
       "    <tr>\n",
       "      <th>12.0</th>\n",
       "      <td>212.0</td>\n",
       "      <td>NaN</td>\n",
       "      <td>NaN</td>\n",
       "      <td>NaN</td>\n",
       "      <td>1.0</td>\n",
       "      <td>2.0</td>\n",
       "      <td>1.0</td>\n",
       "      <td>202.0</td>\n",
       "      <td>2.0</td>\n",
       "      <td>NaN</td>\n",
       "      <td>...</td>\n",
       "      <td>NaN</td>\n",
       "      <td>1.0</td>\n",
       "      <td>11.0</td>\n",
       "      <td>3.0</td>\n",
       "      <td>8.0</td>\n",
       "      <td>1.0</td>\n",
       "      <td>NaN</td>\n",
       "      <td>13.0</td>\n",
       "      <td>NaN</td>\n",
       "      <td>1263.0</td>\n",
       "    </tr>\n",
       "  </tbody>\n",
       "</table>\n",
       "<p>12 rows × 46 columns</p>\n",
       "</div>"
      ],
      "text/plain": [
       "rating   1.00  1.25  1.30  1.45  1.50  1.65  1.90   2.00  2.10  2.30  ...  \\\n",
       "month                                                                 ...   \n",
       "1.0     176.0   NaN   NaN   NaN   5.0   1.0   NaN  213.0   NaN   2.0  ...   \n",
       "2.0     221.0   NaN   NaN   1.0   5.0   NaN   NaN  210.0   1.0   1.0  ...   \n",
       "3.0     322.0   2.0   NaN   NaN   3.0   1.0   NaN  263.0   4.0   1.0  ...   \n",
       "4.0     334.0   NaN   1.0   1.0   3.0   2.0   1.0  338.0   NaN   NaN  ...   \n",
       "5.0     368.0   NaN   NaN   2.0   1.0   1.0   NaN  347.0   3.0   3.0  ...   \n",
       "6.0     513.0   1.0   NaN   3.0   5.0   NaN   NaN  439.0   NaN   3.0  ...   \n",
       "7.0     670.0   NaN   NaN   NaN  10.0   NaN   2.0  620.0   2.0   1.0  ...   \n",
       "8.0     538.0   NaN   NaN   NaN   9.0   NaN   1.0  535.0   1.0   1.0  ...   \n",
       "9.0     402.0   NaN   NaN   NaN   2.0   2.0   NaN  409.0   NaN   2.0  ...   \n",
       "10.0    362.0   1.0   NaN   NaN   7.0   NaN   NaN  416.0   NaN   2.0  ...   \n",
       "11.0    206.0   1.0   NaN   NaN   NaN   NaN   NaN  213.0   NaN   NaN  ...   \n",
       "12.0    212.0   NaN   NaN   NaN   1.0   2.0   1.0  202.0   2.0   NaN  ...   \n",
       "\n",
       "rating  4.25  4.30  4.40  4.50  4.60  4.70  4.75  4.80  4.90    5.00  \n",
       "month                                                                 \n",
       "1.0      1.0  16.0   8.0   5.0  13.0   NaN   NaN  21.0   1.0  1371.0  \n",
       "2.0      NaN   3.0  12.0   NaN  10.0   NaN   NaN  18.0   NaN  1339.0  \n",
       "3.0      NaN   1.0  10.0   4.0  23.0   NaN   NaN  23.0   NaN  1672.0  \n",
       "4.0      NaN   NaN  12.0   NaN  13.0   NaN   NaN  19.0   2.0  1862.0  \n",
       "5.0      NaN   NaN  13.0   NaN  21.0   NaN   NaN  15.0   2.0  2036.0  \n",
       "6.0      NaN   NaN  15.0   1.0  13.0   1.0   NaN  27.0   NaN  2190.0  \n",
       "7.0      NaN   NaN  17.0   1.0  26.0   1.0   1.0  23.0   NaN  2646.0  \n",
       "8.0      1.0   NaN  12.0   NaN  36.0   1.0   1.0  33.0   1.0  2269.0  \n",
       "9.0      NaN   NaN   7.0   1.0  18.0   NaN   NaN  19.0   NaN  1939.0  \n",
       "10.0     NaN   1.0  11.0   1.0  14.0   1.0   NaN  13.0   NaN  1867.0  \n",
       "11.0     NaN   4.0   4.0   1.0  12.0   1.0   NaN  16.0   NaN  1325.0  \n",
       "12.0     NaN   1.0  11.0   3.0   8.0   1.0   NaN  13.0   NaN  1263.0  \n",
       "\n",
       "[12 rows x 46 columns]"
      ]
     },
     "execution_count": 107,
     "metadata": {},
     "output_type": "execute_result"
    }
   ],
   "source": [
    "month_rating_grouped = df.groupby(['month', 'rating'])\n",
    "month_rating_grouped.size().unstack()"
   ]
  },
  {
   "cell_type": "markdown",
   "id": "40568798",
   "metadata": {},
   "source": [
    "It is a bit hard to see the distribution this way, so we can classify the ratings into groups"
   ]
  },
  {
   "cell_type": "code",
   "execution_count": 108,
   "id": "aaee1b6e",
   "metadata": {},
   "outputs": [],
   "source": [
    "rating_categories = [\"Very bad\", \"Moderately bad\", \"Somewhat bad\", \"Somewhat good\", \"Moderately good\", \"Very good\"]\n",
    "df['rating_category'] = df['rating'].apply(lambda r: rating_categories[int(r)])"
   ]
  },
  {
   "cell_type": "code",
   "execution_count": 109,
   "id": "e354f80a",
   "metadata": {},
   "outputs": [
    {
     "data": {
      "text/plain": [
       "Text(0.5, 1.0, 'Text review categories')"
      ]
     },
     "execution_count": 109,
     "metadata": {},
     "output_type": "execute_result"
    },
    {
     "data": {
      "image/png": "[encoded data removed]",
      "text/plain": [
       "<Figure size 720x576 with 1 Axes>"
      ]
     },
     "metadata": {},
     "output_type": "display_data"
    }
   ],
   "source": [
    "import seaborn as sns\n",
    "plt.rcParams['figure.figsize'] = [10, 8]\n",
    "sns.countplot(df.rating_cat)\n",
    "plt.title(\"Text review categories\", fontsize = 20)"
   ]
  },
  {
   "cell_type": "code",
   "execution_count": 110,
   "id": "d0cf0143",
   "metadata": {},
   "outputs": [
    {
     "ename": "KeyError",
     "evalue": "\"['Very bad'] not in index\"",
     "output_type": "error",
     "traceback": [
      "\u001b[1;31m---------------------------------------------------------------------------\u001b[0m",
      "\u001b[1;31mKeyError\u001b[0m                                  Traceback (most recent call last)",
      "\u001b[1;32m<ipython-input-110-440a1d253343>\u001b[0m in \u001b[0;36m<module>\u001b[1;34m\u001b[0m\n\u001b[0;32m      1\u001b[0m \u001b[0mmonth_rating_cat_grouped\u001b[0m \u001b[1;33m=\u001b[0m \u001b[0mdf\u001b[0m\u001b[1;33m.\u001b[0m\u001b[0mgroupby\u001b[0m\u001b[1;33m(\u001b[0m\u001b[1;33m[\u001b[0m\u001b[1;34m'month'\u001b[0m\u001b[1;33m,\u001b[0m \u001b[1;34m'rating_category'\u001b[0m\u001b[1;33m]\u001b[0m\u001b[1;33m)\u001b[0m\u001b[1;33m\u001b[0m\u001b[1;33m\u001b[0m\u001b[0m\n\u001b[1;32m----> 2\u001b[1;33m \u001b[0mmonth_rating_df\u001b[0m \u001b[1;33m=\u001b[0m \u001b[0mmonth_rating_cat_grouped\u001b[0m\u001b[1;33m.\u001b[0m\u001b[0msize\u001b[0m\u001b[1;33m(\u001b[0m\u001b[1;33m)\u001b[0m\u001b[1;33m.\u001b[0m\u001b[0munstack\u001b[0m\u001b[1;33m(\u001b[0m\u001b[1;33m)\u001b[0m\u001b[1;33m[\u001b[0m\u001b[0mrating_categories\u001b[0m\u001b[1;33m]\u001b[0m\u001b[1;33m\u001b[0m\u001b[1;33m\u001b[0m\u001b[0m\n\u001b[0m\u001b[0;32m      3\u001b[0m \u001b[0mmonth_rating_df\u001b[0m\u001b[1;33m\u001b[0m\u001b[1;33m\u001b[0m\u001b[0m\n",
      "\u001b[1;32m~\\anaconda3\\lib\\site-packages\\pandas\\core\\frame.py\u001b[0m in \u001b[0;36m__getitem__\u001b[1;34m(self, key)\u001b[0m\n\u001b[0;32m   3028\u001b[0m             \u001b[1;32mif\u001b[0m \u001b[0mis_iterator\u001b[0m\u001b[1;33m(\u001b[0m\u001b[0mkey\u001b[0m\u001b[1;33m)\u001b[0m\u001b[1;33m:\u001b[0m\u001b[1;33m\u001b[0m\u001b[1;33m\u001b[0m\u001b[0m\n\u001b[0;32m   3029\u001b[0m                 \u001b[0mkey\u001b[0m \u001b[1;33m=\u001b[0m \u001b[0mlist\u001b[0m\u001b[1;33m(\u001b[0m\u001b[0mkey\u001b[0m\u001b[1;33m)\u001b[0m\u001b[1;33m\u001b[0m\u001b[1;33m\u001b[0m\u001b[0m\n\u001b[1;32m-> 3030\u001b[1;33m             \u001b[0mindexer\u001b[0m \u001b[1;33m=\u001b[0m \u001b[0mself\u001b[0m\u001b[1;33m.\u001b[0m\u001b[0mloc\u001b[0m\u001b[1;33m.\u001b[0m\u001b[0m_get_listlike_indexer\u001b[0m\u001b[1;33m(\u001b[0m\u001b[0mkey\u001b[0m\u001b[1;33m,\u001b[0m \u001b[0maxis\u001b[0m\u001b[1;33m=\u001b[0m\u001b[1;36m1\u001b[0m\u001b[1;33m,\u001b[0m \u001b[0mraise_missing\u001b[0m\u001b[1;33m=\u001b[0m\u001b[1;32mTrue\u001b[0m\u001b[1;33m)\u001b[0m\u001b[1;33m[\u001b[0m\u001b[1;36m1\u001b[0m\u001b[1;33m]\u001b[0m\u001b[1;33m\u001b[0m\u001b[1;33m\u001b[0m\u001b[0m\n\u001b[0m\u001b[0;32m   3031\u001b[0m \u001b[1;33m\u001b[0m\u001b[0m\n\u001b[0;32m   3032\u001b[0m         \u001b[1;31m# take() does not accept boolean indexers\u001b[0m\u001b[1;33m\u001b[0m\u001b[1;33m\u001b[0m\u001b[1;33m\u001b[0m\u001b[0m\n",
      "\u001b[1;32m~\\anaconda3\\lib\\site-packages\\pandas\\core\\indexing.py\u001b[0m in \u001b[0;36m_get_listlike_indexer\u001b[1;34m(self, key, axis, raise_missing)\u001b[0m\n\u001b[0;32m   1264\u001b[0m             \u001b[0mkeyarr\u001b[0m\u001b[1;33m,\u001b[0m \u001b[0mindexer\u001b[0m\u001b[1;33m,\u001b[0m \u001b[0mnew_indexer\u001b[0m \u001b[1;33m=\u001b[0m \u001b[0max\u001b[0m\u001b[1;33m.\u001b[0m\u001b[0m_reindex_non_unique\u001b[0m\u001b[1;33m(\u001b[0m\u001b[0mkeyarr\u001b[0m\u001b[1;33m)\u001b[0m\u001b[1;33m\u001b[0m\u001b[1;33m\u001b[0m\u001b[0m\n\u001b[0;32m   1265\u001b[0m \u001b[1;33m\u001b[0m\u001b[0m\n\u001b[1;32m-> 1266\u001b[1;33m         \u001b[0mself\u001b[0m\u001b[1;33m.\u001b[0m\u001b[0m_validate_read_indexer\u001b[0m\u001b[1;33m(\u001b[0m\u001b[0mkeyarr\u001b[0m\u001b[1;33m,\u001b[0m \u001b[0mindexer\u001b[0m\u001b[1;33m,\u001b[0m \u001b[0maxis\u001b[0m\u001b[1;33m,\u001b[0m \u001b[0mraise_missing\u001b[0m\u001b[1;33m=\u001b[0m\u001b[0mraise_missing\u001b[0m\u001b[1;33m)\u001b[0m\u001b[1;33m\u001b[0m\u001b[1;33m\u001b[0m\u001b[0m\n\u001b[0m\u001b[0;32m   1267\u001b[0m         \u001b[1;32mreturn\u001b[0m \u001b[0mkeyarr\u001b[0m\u001b[1;33m,\u001b[0m \u001b[0mindexer\u001b[0m\u001b[1;33m\u001b[0m\u001b[1;33m\u001b[0m\u001b[0m\n\u001b[0;32m   1268\u001b[0m \u001b[1;33m\u001b[0m\u001b[0m\n",
      "\u001b[1;32m~\\anaconda3\\lib\\site-packages\\pandas\\core\\indexing.py\u001b[0m in \u001b[0;36m_validate_read_indexer\u001b[1;34m(self, key, indexer, axis, raise_missing)\u001b[0m\n\u001b[0;32m   1314\u001b[0m             \u001b[1;32mif\u001b[0m \u001b[0mraise_missing\u001b[0m\u001b[1;33m:\u001b[0m\u001b[1;33m\u001b[0m\u001b[1;33m\u001b[0m\u001b[0m\n\u001b[0;32m   1315\u001b[0m                 \u001b[0mnot_found\u001b[0m \u001b[1;33m=\u001b[0m \u001b[0mlist\u001b[0m\u001b[1;33m(\u001b[0m\u001b[0mset\u001b[0m\u001b[1;33m(\u001b[0m\u001b[0mkey\u001b[0m\u001b[1;33m)\u001b[0m \u001b[1;33m-\u001b[0m \u001b[0mset\u001b[0m\u001b[1;33m(\u001b[0m\u001b[0max\u001b[0m\u001b[1;33m)\u001b[0m\u001b[1;33m)\u001b[0m\u001b[1;33m\u001b[0m\u001b[1;33m\u001b[0m\u001b[0m\n\u001b[1;32m-> 1316\u001b[1;33m                 \u001b[1;32mraise\u001b[0m \u001b[0mKeyError\u001b[0m\u001b[1;33m(\u001b[0m\u001b[1;34mf\"{not_found} not in index\"\u001b[0m\u001b[1;33m)\u001b[0m\u001b[1;33m\u001b[0m\u001b[1;33m\u001b[0m\u001b[0m\n\u001b[0m\u001b[0;32m   1317\u001b[0m \u001b[1;33m\u001b[0m\u001b[0m\n\u001b[0;32m   1318\u001b[0m             \u001b[0mnot_found\u001b[0m \u001b[1;33m=\u001b[0m \u001b[0mkey\u001b[0m\u001b[1;33m[\u001b[0m\u001b[0mmissing_mask\u001b[0m\u001b[1;33m]\u001b[0m\u001b[1;33m\u001b[0m\u001b[1;33m\u001b[0m\u001b[0m\n",
      "\u001b[1;31mKeyError\u001b[0m: \"['Very bad'] not in index\""
     ]
    }
   ],
   "source": [
    "month_rating_cat_grouped = df.groupby(['month', 'rating_category'])\n",
    "month_rating_df = month_rating_cat_grouped.size().unstack()[rating_categories]\n",
    "month_rating_df"
   ]
  },
  {
   "cell_type": "code",
   "execution_count": null,
   "id": "2dc4fcc1",
   "metadata": {},
   "outputs": [],
   "source": [
    "month_rating_df.plot(kind = 'bar', rot = 0)   \n",
    "# Make this larger and plot a time series graph for each category/rating."
   ]
  },
  {
   "cell_type": "markdown",
   "id": "79a05685",
   "metadata": {},
   "source": [
    "As we expected from the rating distribution earlier, most reviews are relatively position. Additionally, we can see that even though January, July, and December have the most reviews, July is the month with the most positive reviews. Perhaps this means in the summer, people tend to leave better reviews than other seasons."
   ]
  },
  {
   "cell_type": "markdown",
   "id": "cfadc27a",
   "metadata": {},
   "source": [
    "# Feature Engineering (text mining)"
   ]
  },
  {
   "cell_type": "markdown",
   "id": "b3fa112a",
   "metadata": {},
   "source": [
    "The only data we have is the short text extract. So, we will use several text mining technics in order to extract useful features."
   ]
  },
  {
   "cell_type": "markdown",
   "id": "7c028a83",
   "metadata": {},
   "source": [
    "### Normalization and cleaning functions"
   ]
  },
  {
   "cell_type": "code",
   "execution_count": 2,
   "id": "48c0563c",
   "metadata": {},
   "outputs": [],
   "source": [
    "# Normalization over number of words\n",
    "def normalization_word(var):\n",
    "    \"\"\"Returns number of words.\"\"\"\n",
    "    words = nltk.Text(word_tokenize(((var))))\n",
    "    return len(words)\n",
    "\n",
    "# Normalization by number of Sentences\n",
    "def normalization_sentence(var):\n",
    "    \"\"\"Returns number of sentences.\"\"\"\n",
    "    sentences = nltk.Text(sent_tokenize(var))\n",
    "    return len(sentences)\n",
    "\n",
    "# Normalization by number of Characters\n",
    "def normalization_character(var):\n",
    "    \"\"\"Returns number of characters.\"\"\"\n",
    "    return len(var)\n",
    "\n",
    "def cleaning(var):\n",
    "    \"\"\"Take a string. Returns a string with only lowercase letters and the space between words.\"\"\"\n",
    "    plain_string = \"\"\n",
    "    for x in var:\n",
    "        x = x.lower()\n",
    "        if (('a' <= x and x <= 'z') or x == ' '):\n",
    "            plain_string += x\n",
    "        elif x == '\\'':  # any apostrophes(') are replaced by a space\n",
    "            plain_string += ' '\n",
    "    while '  ' in plain_string:  # any multiple spaces are replaced by a single space\n",
    "        plain_string = plain_string.replace('  ', ' ')\n",
    "    return plain_string"
   ]
  },
  {
   "cell_type": "code",
   "execution_count": 125,
   "id": "f43a0682",
   "metadata": {},
   "outputs": [],
   "source": [
    "df['review'] = df['title'] + ' ' + df['text']\n",
    "df = df[df.review.apply(lambda x: len(str(x)) > 12)]\n",
    "\n",
    "def review_transform(t):\n",
    "    temp = t.encode('ascii', 'ignore').decode('utf-8').strip() #transform unrecognized text      \n",
    "    if len(temp) > 12 and any(c.isalpha() for c in temp): #min length of review is 12, must contain character\n",
    "        if detect(temp) != 'en':\n",
    "            temp = GoogleTranslator(source='auto', target='en').translate(temp)\n",
    "            \n",
    "    return temp\n",
    "    \n",
    "df['review'] = df['review'].apply(lambda t: review_transform(t))\n",
    "df = df[df['review'].apply(lambda x: len(x) > 12)]"
   ]
  },
  {
   "cell_type": "code",
   "execution_count": 53,
   "id": "ebca640c",
   "metadata": {},
   "outputs": [
    {
     "data": {
      "text/plain": [
       "'I want to eat'"
      ]
     },
     "execution_count": 53,
     "metadata": {},
     "output_type": "execute_result"
    }
   ],
   "source": [
    "#testing translator\n",
    "to_translate = '我想吃饭'\n",
    "translated = GoogleTranslator(source='auto', target='en').translate(to_translate)\n",
    "translated"
   ]
  },
  {
   "cell_type": "code",
   "execution_count": 136,
   "id": "fa4669b1",
   "metadata": {},
   "outputs": [],
   "source": [
    "#df.to_csv('cleaned_review_df.csv')"
   ]
  },
  {
   "cell_type": "code",
   "execution_count": null,
   "id": "f3bbf20a",
   "metadata": {},
   "outputs": [],
   "source": []
  },
  {
   "cell_type": "code",
   "execution_count": null,
   "id": "7f874540",
   "metadata": {},
   "outputs": [],
   "source": []
  },
  {
   "cell_type": "code",
   "execution_count": null,
   "id": "9dd7130a",
   "metadata": {},
   "outputs": [],
   "source": []
  },
  {
   "cell_type": "code",
   "execution_count": null,
   "id": "565553de",
   "metadata": {},
   "outputs": [],
   "source": []
  },
  {
   "cell_type": "markdown",
   "id": "2aabef35",
   "metadata": {},
   "source": [
    "<h2>Read Cleaned Review Text</h2>"
   ]
  },
  {
   "cell_type": "code",
   "execution_count": 3,
   "id": "c4caf347",
   "metadata": {},
   "outputs": [],
   "source": [
    "df = pd.read_csv('cleaned_review_df.csv')"
   ]
  },
  {
   "cell_type": "markdown",
   "id": "fc8fadd3",
   "metadata": {},
   "source": [
    "## Meta Features: the form of the text"
   ]
  },
  {
   "cell_type": "markdown",
   "id": "b07a8fa2",
   "metadata": {},
   "source": [
    "These are the features related to the form of the text:\n",
    "\n",
    "    Sentence length (characters & words)\n",
    "    Word length\n",
    "    Percentage of unique words\n",
    "    Stopword count\n",
    "    Noun/adjective/verb density\n",
    "    Adjective to noun ratio\n",
    "    Emphases on words or phrases\n",
    "    Use of foreign languages\n",
    "These features don't take into account the substance. It is only about the structure. Text-features are useful because they are related to the way the author is writing (and not the topic). So they are a good way to extract some generalized facts about each one of the authors."
   ]
  },
  {
   "cell_type": "markdown",
   "id": "19f2562c",
   "metadata": {},
   "source": [
    "### Average sentence length (in characters)"
   ]
  },
  {
   "cell_type": "code",
   "execution_count": 4,
   "id": "4ff8a093",
   "metadata": {},
   "outputs": [],
   "source": [
    "def length_character(var):\n",
    "    \"\"\"Takes a string returns an int (average sentence length in characters).\"\"\"\n",
    "    return len(var) / normalization_sentence(var)"
   ]
  },
  {
   "cell_type": "markdown",
   "id": "2ea95327",
   "metadata": {},
   "source": [
    "### Average sentence length (in words)"
   ]
  },
  {
   "cell_type": "code",
   "execution_count": 5,
   "id": "d6f7aeda",
   "metadata": {},
   "outputs": [],
   "source": [
    "def length_sentence(var):\n",
    "    \"\"\"Takes a string and returns an int (average sentence length in words).\"\"\"\n",
    "    return len(var.split()) / normalization_sentence(var)"
   ]
  },
  {
   "cell_type": "markdown",
   "id": "e9213721",
   "metadata": {},
   "source": [
    "### Average characters per word"
   ]
  },
  {
   "cell_type": "code",
   "execution_count": 6,
   "id": "2a4c9bdb",
   "metadata": {},
   "outputs": [],
   "source": [
    "def length_word(var):\n",
    "    \"\"\"Takes a string and returns an int (average characters per word). Excludes punctuations.\"\"\"\n",
    "    return len(var.split()) / normalization_word(var)"
   ]
  },
  {
   "cell_type": "markdown",
   "id": "75fd7dec",
   "metadata": {},
   "source": [
    "### Punctuation density\n",
    "These features study the use of punctuations by the authors."
   ]
  },
  {
   "cell_type": "code",
   "execution_count": 7,
   "id": "826222d1",
   "metadata": {},
   "outputs": [],
   "source": [
    "def density_coma(var):\n",
    "    \"\"\"Takes a string and returns the ratio of punctuations to characters.\"\"\"\n",
    "    cpunc = 0\n",
    "    for x in var:\n",
    "        if x == ',':\n",
    "            cpunc += 1\n",
    "    return cpunc / normalization_character(var)\n",
    "def density_point(var):\n",
    "    \"\"\"Takes a string and returns the ratio of periods(.) to characters.\"\"\"\n",
    "    cpunc = 0\n",
    "    for x in var:\n",
    "        if x == '.':\n",
    "            cpunc += 1\n",
    "    return cpunc / normalization_character(var)\n",
    "def density_colon(var):\n",
    "    \"\"\"Takes a string and returns the ratio of colons(:) to characters.\"\"\"\n",
    "    cpunc = 0\n",
    "    for x in var:\n",
    "        if x == ':':\n",
    "            cpunc += 1\n",
    "    return cpunc / normalization_character(var)\n",
    "def density_semicolon(var):\n",
    "    \"\"\"Takes a string and returns the ratio of semicolons(;) to characters.\"\"\"\n",
    "    cpunc = 0\n",
    "    for x in var:\n",
    "        if x == ';':\n",
    "            cpunc += 1\n",
    "    return cpunc / normalization_character(var)\n",
    "def density_interro(var):\n",
    "    \"\"\"Takes a string and returns the ratio of question marks(?) to characters.\"\"\"\n",
    "    cpunc = 0\n",
    "    for x in var:\n",
    "        if x == '?':\n",
    "            cpunc += 1\n",
    "    return cpunc / normalization_character(var)\n",
    "def density_expl(var):\n",
    "    \"\"\"Takes a string and returns the ratio of exclamation points(!) to characters.\"\"\"\n",
    "    cpunc = 0\n",
    "    for x in var:\n",
    "        if x == '!':\n",
    "            cpunc += 1\n",
    "    return cpunc / normalization_character(var)"
   ]
  },
  {
   "cell_type": "markdown",
   "id": "9bfed079",
   "metadata": {},
   "source": [
    "### Percentage of unique words per sentence"
   ]
  },
  {
   "cell_type": "markdown",
   "id": "a87a21da",
   "metadata": {},
   "source": [
    "This feature demonstrates the richness of vocabulary."
   ]
  },
  {
   "cell_type": "code",
   "execution_count": 8,
   "id": "2b74e366",
   "metadata": {},
   "outputs": [],
   "source": [
    "def vocabulary_sentence(var):\n",
    "    \"\"\"Takes a string and returns the ratio of different words to all words.\"\"\"\n",
    "    var = nltk.Text(sent_tokenize(var))\n",
    "    vocabulary_list = []\n",
    "    for c in var:\n",
    "        if normalization_word(c) != 0:\n",
    "            vacabulary_count_sentence = len({x.lower() for x in word_tokenize(cleaning(c))})\n",
    "            vocabulary_list.append(vacabulary_count_sentence / normalization_word(c))\n",
    "    return np.mean(vocabulary_list)"
   ]
  },
  {
   "cell_type": "markdown",
   "id": "b4464136",
   "metadata": {},
   "source": [
    "### Stopword percentage"
   ]
  },
  {
   "cell_type": "markdown",
   "id": "ff9b54ed",
   "metadata": {},
   "source": [
    "Stopwords are common basic english word. It is also a metric of the richness of the vocabulary."
   ]
  },
  {
   "cell_type": "code",
   "execution_count": 9,
   "id": "a6d9bd15",
   "metadata": {},
   "outputs": [],
   "source": [
    "def density_stopword(var):\n",
    "    \"\"\"Takes a string and returns the ratio of stopwords to all words.\"\"\"\n",
    "    cs = 0\n",
    "    for x in nltk.Text(word_tokenize(var)):\n",
    "        if x in STOPWORDS:\n",
    "            cs += 1\n",
    "    return cs/normalization_word(var)"
   ]
  },
  {
   "cell_type": "markdown",
   "id": "313a99b6",
   "metadata": {},
   "source": [
    "### Building of the Dataframe of Metadata\n",
    "This is the list of all the meta data we are going to use to train our classifiers. We are also going to use bag of words. This could be modified if we add meta data."
   ]
  },
  {
   "cell_type": "code",
   "execution_count": 10,
   "id": "2c2ffa71",
   "metadata": {},
   "outputs": [],
   "source": [
    "def build_meta(dataframe):\n",
    "    \"\"\"Builds a dataframe that shows the author and the other meta-data related to the sentence.\"\"\"\n",
    "    df_meta = dataframe.copy()\n",
    "    list_meta = [length_character,\n",
    "             length_sentence,\n",
    "             length_word,  \n",
    "             vocabulary_sentence,\n",
    "             density_stopword,\n",
    "             density_coma,\n",
    "             density_point,\n",
    "             density_colon,\n",
    "             density_semicolon,\n",
    "             density_interro,\n",
    "             density_expl\n",
    "            ]\n",
    "    for f in list_meta:\n",
    "        df_meta[f.__name__] = df_meta.text.apply(f)\n",
    "    return df_meta "
   ]
  },
  {
   "cell_type": "code",
   "execution_count": 11,
   "id": "a87a7174",
   "metadata": {},
   "outputs": [
    {
     "data": {
      "text/html": [
       "<div>\n",
       "<style scoped>\n",
       "    .dataframe tbody tr th:only-of-type {\n",
       "        vertical-align: middle;\n",
       "    }\n",
       "\n",
       "    .dataframe tbody tr th {\n",
       "        vertical-align: top;\n",
       "    }\n",
       "\n",
       "    .dataframe thead th {\n",
       "        text-align: right;\n",
       "    }\n",
       "</style>\n",
       "<table border=\"1\" class=\"dataframe\">\n",
       "  <thead>\n",
       "    <tr style=\"text-align: right;\">\n",
       "      <th></th>\n",
       "      <th>Unnamed: 0</th>\n",
       "      <th>address</th>\n",
       "      <th>categories</th>\n",
       "      <th>city</th>\n",
       "      <th>country</th>\n",
       "      <th>latitude</th>\n",
       "      <th>longitude</th>\n",
       "      <th>name</th>\n",
       "      <th>postalCode</th>\n",
       "      <th>province</th>\n",
       "      <th>...</th>\n",
       "      <th>length_sentence</th>\n",
       "      <th>length_word</th>\n",
       "      <th>vocabulary_sentence</th>\n",
       "      <th>density_stopword</th>\n",
       "      <th>density_coma</th>\n",
       "      <th>density_point</th>\n",
       "      <th>density_colon</th>\n",
       "      <th>density_semicolon</th>\n",
       "      <th>density_interro</th>\n",
       "      <th>density_expl</th>\n",
       "    </tr>\n",
       "  </thead>\n",
       "  <tbody>\n",
       "    <tr>\n",
       "      <th>0</th>\n",
       "      <td>0</td>\n",
       "      <td>Riviera San Nicol 11/a</td>\n",
       "      <td>Hotels</td>\n",
       "      <td>Mableton</td>\n",
       "      <td>US</td>\n",
       "      <td>45.421611</td>\n",
       "      <td>12.376187</td>\n",
       "      <td>Hotel Russo Palace</td>\n",
       "      <td>30126</td>\n",
       "      <td>GA</td>\n",
       "      <td>...</td>\n",
       "      <td>6.600000</td>\n",
       "      <td>0.846154</td>\n",
       "      <td>0.757634</td>\n",
       "      <td>0.205128</td>\n",
       "      <td>0.000000</td>\n",
       "      <td>0.020619</td>\n",
       "      <td>0.000000</td>\n",
       "      <td>0.0</td>\n",
       "      <td>0.0</td>\n",
       "      <td>0.005155</td>\n",
       "    </tr>\n",
       "    <tr>\n",
       "      <th>1</th>\n",
       "      <td>1</td>\n",
       "      <td>Riviera San Nicol 11/a</td>\n",
       "      <td>Hotels</td>\n",
       "      <td>Mableton</td>\n",
       "      <td>US</td>\n",
       "      <td>45.421611</td>\n",
       "      <td>12.376187</td>\n",
       "      <td>Hotel Russo Palace</td>\n",
       "      <td>30126</td>\n",
       "      <td>GA</td>\n",
       "      <td>...</td>\n",
       "      <td>8.800000</td>\n",
       "      <td>0.862745</td>\n",
       "      <td>0.804762</td>\n",
       "      <td>0.372549</td>\n",
       "      <td>0.000000</td>\n",
       "      <td>0.007937</td>\n",
       "      <td>0.000000</td>\n",
       "      <td>0.0</td>\n",
       "      <td>0.0</td>\n",
       "      <td>0.011905</td>\n",
       "    </tr>\n",
       "    <tr>\n",
       "      <th>2</th>\n",
       "      <td>2</td>\n",
       "      <td>Riviera San Nicol 11/a</td>\n",
       "      <td>Hotels</td>\n",
       "      <td>Mableton</td>\n",
       "      <td>US</td>\n",
       "      <td>45.421611</td>\n",
       "      <td>12.376187</td>\n",
       "      <td>Hotel Russo Palace</td>\n",
       "      <td>30126</td>\n",
       "      <td>GA</td>\n",
       "      <td>...</td>\n",
       "      <td>14.000000</td>\n",
       "      <td>0.933333</td>\n",
       "      <td>0.820000</td>\n",
       "      <td>0.066667</td>\n",
       "      <td>0.000000</td>\n",
       "      <td>0.014706</td>\n",
       "      <td>0.000000</td>\n",
       "      <td>0.0</td>\n",
       "      <td>0.0</td>\n",
       "      <td>0.000000</td>\n",
       "    </tr>\n",
       "    <tr>\n",
       "      <th>3</th>\n",
       "      <td>3</td>\n",
       "      <td>Riviera San Nicol 11/a</td>\n",
       "      <td>Hotels</td>\n",
       "      <td>Mableton</td>\n",
       "      <td>US</td>\n",
       "      <td>45.421611</td>\n",
       "      <td>12.376187</td>\n",
       "      <td>Hotel Russo Palace</td>\n",
       "      <td>30126</td>\n",
       "      <td>GA</td>\n",
       "      <td>...</td>\n",
       "      <td>9.833333</td>\n",
       "      <td>0.880597</td>\n",
       "      <td>0.831481</td>\n",
       "      <td>0.358209</td>\n",
       "      <td>0.005650</td>\n",
       "      <td>0.019774</td>\n",
       "      <td>0.000000</td>\n",
       "      <td>0.0</td>\n",
       "      <td>0.0</td>\n",
       "      <td>0.000000</td>\n",
       "    </tr>\n",
       "    <tr>\n",
       "      <th>4</th>\n",
       "      <td>4</td>\n",
       "      <td>Riviera San Nicol 11/a</td>\n",
       "      <td>Hotels</td>\n",
       "      <td>Mableton</td>\n",
       "      <td>US</td>\n",
       "      <td>45.421611</td>\n",
       "      <td>12.376187</td>\n",
       "      <td>Hotel Russo Palace</td>\n",
       "      <td>30126</td>\n",
       "      <td>GA</td>\n",
       "      <td>...</td>\n",
       "      <td>9.833333</td>\n",
       "      <td>0.880597</td>\n",
       "      <td>0.831481</td>\n",
       "      <td>0.358209</td>\n",
       "      <td>0.005650</td>\n",
       "      <td>0.019774</td>\n",
       "      <td>0.000000</td>\n",
       "      <td>0.0</td>\n",
       "      <td>0.0</td>\n",
       "      <td>0.000000</td>\n",
       "    </tr>\n",
       "    <tr>\n",
       "      <th>...</th>\n",
       "      <td>...</td>\n",
       "      <td>...</td>\n",
       "      <td>...</td>\n",
       "      <td>...</td>\n",
       "      <td>...</td>\n",
       "      <td>...</td>\n",
       "      <td>...</td>\n",
       "      <td>...</td>\n",
       "      <td>...</td>\n",
       "      <td>...</td>\n",
       "      <td>...</td>\n",
       "      <td>...</td>\n",
       "      <td>...</td>\n",
       "      <td>...</td>\n",
       "      <td>...</td>\n",
       "      <td>...</td>\n",
       "      <td>...</td>\n",
       "      <td>...</td>\n",
       "      <td>...</td>\n",
       "      <td>...</td>\n",
       "      <td>...</td>\n",
       "    </tr>\n",
       "    <tr>\n",
       "      <th>54909</th>\n",
       "      <td>55907</td>\n",
       "      <td>215 S Pacific St</td>\n",
       "      <td>Hotel,Hotels,Lodging,Motels</td>\n",
       "      <td>Rockaway Beach</td>\n",
       "      <td>US</td>\n",
       "      <td>45.611260</td>\n",
       "      <td>-123.945560</td>\n",
       "      <td>Silver Sands Oceanfront Motel</td>\n",
       "      <td>97136-9596</td>\n",
       "      <td>OR</td>\n",
       "      <td>...</td>\n",
       "      <td>8.714286</td>\n",
       "      <td>0.884058</td>\n",
       "      <td>0.809452</td>\n",
       "      <td>0.391304</td>\n",
       "      <td>0.002950</td>\n",
       "      <td>0.026549</td>\n",
       "      <td>0.000000</td>\n",
       "      <td>0.0</td>\n",
       "      <td>0.0</td>\n",
       "      <td>0.000000</td>\n",
       "    </tr>\n",
       "    <tr>\n",
       "      <th>54910</th>\n",
       "      <td>55908</td>\n",
       "      <td>669 Route 6a</td>\n",
       "      <td>Hotel,Hotels</td>\n",
       "      <td>East Sandwich</td>\n",
       "      <td>US</td>\n",
       "      <td>41.729390</td>\n",
       "      <td>-70.399250</td>\n",
       "      <td>Sandy Neck Motel</td>\n",
       "      <td>02537-1472</td>\n",
       "      <td>MA</td>\n",
       "      <td>...</td>\n",
       "      <td>12.200000</td>\n",
       "      <td>0.835616</td>\n",
       "      <td>0.793013</td>\n",
       "      <td>0.356164</td>\n",
       "      <td>0.019048</td>\n",
       "      <td>0.022222</td>\n",
       "      <td>0.003175</td>\n",
       "      <td>0.0</td>\n",
       "      <td>0.0</td>\n",
       "      <td>0.000000</td>\n",
       "    </tr>\n",
       "    <tr>\n",
       "      <th>54911</th>\n",
       "      <td>55909</td>\n",
       "      <td>702 W Appleway Ave</td>\n",
       "      <td>Hotel,Hotel, Motel, and Building,Hotels,Lodgin...</td>\n",
       "      <td>Coeur d'Alene</td>\n",
       "      <td>US</td>\n",
       "      <td>47.699930</td>\n",
       "      <td>-116.796900</td>\n",
       "      <td>Shilo Inn Suites - Coeur d'Alene</td>\n",
       "      <td>83814-9338</td>\n",
       "      <td>ID</td>\n",
       "      <td>...</td>\n",
       "      <td>11.000000</td>\n",
       "      <td>0.936170</td>\n",
       "      <td>0.883730</td>\n",
       "      <td>0.382979</td>\n",
       "      <td>0.000000</td>\n",
       "      <td>0.012552</td>\n",
       "      <td>0.004184</td>\n",
       "      <td>0.0</td>\n",
       "      <td>0.0</td>\n",
       "      <td>0.000000</td>\n",
       "    </tr>\n",
       "    <tr>\n",
       "      <th>54912</th>\n",
       "      <td>55910</td>\n",
       "      <td>2295 N Highland Ave</td>\n",
       "      <td>Hotel,Hotels Motels,Budget Hotels,Hotels &amp; Motels</td>\n",
       "      <td>Jackson</td>\n",
       "      <td>US</td>\n",
       "      <td>35.666390</td>\n",
       "      <td>-88.830120</td>\n",
       "      <td>Scottish Inn</td>\n",
       "      <td>38305-4922</td>\n",
       "      <td>TN</td>\n",
       "      <td>...</td>\n",
       "      <td>10.166667</td>\n",
       "      <td>0.835616</td>\n",
       "      <td>0.783954</td>\n",
       "      <td>0.328767</td>\n",
       "      <td>0.000000</td>\n",
       "      <td>0.041420</td>\n",
       "      <td>0.000000</td>\n",
       "      <td>0.0</td>\n",
       "      <td>0.0</td>\n",
       "      <td>0.000000</td>\n",
       "    </tr>\n",
       "    <tr>\n",
       "      <th>54913</th>\n",
       "      <td>55911</td>\n",
       "      <td>3811 Minnesota Dr</td>\n",
       "      <td>Hotel,Motels,Lodging,Hotels,Hotels and Motels</td>\n",
       "      <td>Anchorage</td>\n",
       "      <td>US</td>\n",
       "      <td>61.185310</td>\n",
       "      <td>-149.912000</td>\n",
       "      <td>Royal Suite Lodge</td>\n",
       "      <td>99503-5679</td>\n",
       "      <td>AK</td>\n",
       "      <td>...</td>\n",
       "      <td>10.000000</td>\n",
       "      <td>0.833333</td>\n",
       "      <td>0.838690</td>\n",
       "      <td>0.333333</td>\n",
       "      <td>0.017857</td>\n",
       "      <td>0.017857</td>\n",
       "      <td>0.000000</td>\n",
       "      <td>0.0</td>\n",
       "      <td>0.0</td>\n",
       "      <td>0.000000</td>\n",
       "    </tr>\n",
       "  </tbody>\n",
       "</table>\n",
       "<p>54914 rows × 32 columns</p>\n",
       "</div>"
      ],
      "text/plain": [
       "       Unnamed: 0                 address  \\\n",
       "0               0  Riviera San Nicol 11/a   \n",
       "1               1  Riviera San Nicol 11/a   \n",
       "2               2  Riviera San Nicol 11/a   \n",
       "3               3  Riviera San Nicol 11/a   \n",
       "4               4  Riviera San Nicol 11/a   \n",
       "...           ...                     ...   \n",
       "54909       55907        215 S Pacific St   \n",
       "54910       55908            669 Route 6a   \n",
       "54911       55909      702 W Appleway Ave   \n",
       "54912       55910     2295 N Highland Ave   \n",
       "54913       55911       3811 Minnesota Dr   \n",
       "\n",
       "                                              categories            city  \\\n",
       "0                                                 Hotels        Mableton   \n",
       "1                                                 Hotels        Mableton   \n",
       "2                                                 Hotels        Mableton   \n",
       "3                                                 Hotels        Mableton   \n",
       "4                                                 Hotels        Mableton   \n",
       "...                                                  ...             ...   \n",
       "54909                        Hotel,Hotels,Lodging,Motels  Rockaway Beach   \n",
       "54910                                       Hotel,Hotels   East Sandwich   \n",
       "54911  Hotel,Hotel, Motel, and Building,Hotels,Lodgin...   Coeur d'Alene   \n",
       "54912  Hotel,Hotels Motels,Budget Hotels,Hotels & Motels         Jackson   \n",
       "54913      Hotel,Motels,Lodging,Hotels,Hotels and Motels       Anchorage   \n",
       "\n",
       "      country   latitude   longitude                              name  \\\n",
       "0          US  45.421611   12.376187                Hotel Russo Palace   \n",
       "1          US  45.421611   12.376187                Hotel Russo Palace   \n",
       "2          US  45.421611   12.376187                Hotel Russo Palace   \n",
       "3          US  45.421611   12.376187                Hotel Russo Palace   \n",
       "4          US  45.421611   12.376187                Hotel Russo Palace   \n",
       "...       ...        ...         ...                               ...   \n",
       "54909      US  45.611260 -123.945560     Silver Sands Oceanfront Motel   \n",
       "54910      US  41.729390  -70.399250                  Sandy Neck Motel   \n",
       "54911      US  47.699930 -116.796900  Shilo Inn Suites - Coeur d'Alene   \n",
       "54912      US  35.666390  -88.830120                      Scottish Inn   \n",
       "54913      US  61.185310 -149.912000                 Royal Suite Lodge   \n",
       "\n",
       "       postalCode province  ... length_sentence  length_word  \\\n",
       "0           30126       GA  ...        6.600000     0.846154   \n",
       "1           30126       GA  ...        8.800000     0.862745   \n",
       "2           30126       GA  ...       14.000000     0.933333   \n",
       "3           30126       GA  ...        9.833333     0.880597   \n",
       "4           30126       GA  ...        9.833333     0.880597   \n",
       "...           ...      ...  ...             ...          ...   \n",
       "54909  97136-9596       OR  ...        8.714286     0.884058   \n",
       "54910  02537-1472       MA  ...       12.200000     0.835616   \n",
       "54911  83814-9338       ID  ...       11.000000     0.936170   \n",
       "54912  38305-4922       TN  ...       10.166667     0.835616   \n",
       "54913  99503-5679       AK  ...       10.000000     0.833333   \n",
       "\n",
       "      vocabulary_sentence density_stopword density_coma density_point  \\\n",
       "0                0.757634         0.205128     0.000000      0.020619   \n",
       "1                0.804762         0.372549     0.000000      0.007937   \n",
       "2                0.820000         0.066667     0.000000      0.014706   \n",
       "3                0.831481         0.358209     0.005650      0.019774   \n",
       "4                0.831481         0.358209     0.005650      0.019774   \n",
       "...                   ...              ...          ...           ...   \n",
       "54909            0.809452         0.391304     0.002950      0.026549   \n",
       "54910            0.793013         0.356164     0.019048      0.022222   \n",
       "54911            0.883730         0.382979     0.000000      0.012552   \n",
       "54912            0.783954         0.328767     0.000000      0.041420   \n",
       "54913            0.838690         0.333333     0.017857      0.017857   \n",
       "\n",
       "      density_colon density_semicolon  density_interro density_expl  \n",
       "0          0.000000               0.0              0.0     0.005155  \n",
       "1          0.000000               0.0              0.0     0.011905  \n",
       "2          0.000000               0.0              0.0     0.000000  \n",
       "3          0.000000               0.0              0.0     0.000000  \n",
       "4          0.000000               0.0              0.0     0.000000  \n",
       "...             ...               ...              ...          ...  \n",
       "54909      0.000000               0.0              0.0     0.000000  \n",
       "54910      0.003175               0.0              0.0     0.000000  \n",
       "54911      0.004184               0.0              0.0     0.000000  \n",
       "54912      0.000000               0.0              0.0     0.000000  \n",
       "54913      0.000000               0.0              0.0     0.000000  \n",
       "\n",
       "[54914 rows x 32 columns]"
      ]
     },
     "execution_count": 11,
     "metadata": {},
     "output_type": "execute_result"
    }
   ],
   "source": [
    "#test\n",
    "from nltk import sent_tokenize, word_tokenize, FreqDist\n",
    "build_meta(df)"
   ]
  },
  {
   "cell_type": "markdown",
   "id": "65f96ac2",
   "metadata": {},
   "source": [
    "## Text Features: substance of the text"
   ]
  },
  {
   "cell_type": "markdown",
   "id": "8b762676",
   "metadata": {},
   "source": [
    "Now, let's dive into the study of text-features: the study of the substance of the text."
   ]
  },
  {
   "cell_type": "markdown",
   "id": "c601361a",
   "metadata": {},
   "source": [
    "## Emotions "
   ]
  },
  {
   "cell_type": "markdown",
   "id": "ada1183d",
   "metadata": {},
   "source": [
    "The following function needs to have the file \"NRC-emotion-lexicon-wordlevel-alphabetized-v0.92.txt\" in the same folder. Based on NRC data: 8 emotions\n",
    "\n",
    "Emotion analysis attributes emotional score for each extract and then build n-features (number of studied emotions).\n",
    "\n",
    "    'positive'\n",
    "    'anger'\n",
    "    'disgust'\n",
    "    'fear'\n",
    "    'negative'\n",
    "    'sadness'\n",
    "    'anticipation'\n",
    "    'joy'\n",
    "    'surprise'\n",
    "    'trust'"
   ]
  },
  {
   "cell_type": "code",
   "execution_count": 12,
   "id": "45fa3ce6",
   "metadata": {},
   "outputs": [],
   "source": [
    "def get_nrc_data():\n",
    "    \"\"\"Builds an emotion dictionary from the NRC emotion lexicon.\"\"\"\n",
    "    nrc = \"NRC-emotion-lexicon-wordlevel-alphabetized-v0.92.txt\"\n",
    "    count = 0\n",
    "    emotion_dict = dict()\n",
    "    with open(nrc,'r') as f:\n",
    "        all_lines = list()\n",
    "        for line in f:\n",
    "            if count < 46:\n",
    "                count += 1\n",
    "                continue\n",
    "            line = line.strip().split('\\t')\n",
    "            if int(line[2]) == 1:\n",
    "                if emotion_dict.get(line[0]):\n",
    "                    emotion_dict[line[0]].append(line[1])\n",
    "                else:\n",
    "                    emotion_dict[line[0]] = [line[1]]\n",
    "    return emotion_dict"
   ]
  },
  {
   "cell_type": "code",
   "execution_count": 13,
   "id": "4d6e91ff",
   "metadata": {},
   "outputs": [],
   "source": [
    "def emotions(dataframe):\n",
    "    \"\"\"Takes a dataframe and creates a column per emotion with a count on the emotions used.\"\"\"\n",
    "    df = dataframe.copy()\n",
    "    emotions=['positive','anger','disgust','fear','negative','sadness','anticipation','joy','surprise','trust']\n",
    "    for emotion in emotions:\n",
    "        df[emotion]=0\n",
    "    \n",
    "    emotion_dic = get_nrc_data()\n",
    "    for i in range(len(df)):\n",
    "        words = df['review'].iloc[i].split()\n",
    "        n = len(words)\n",
    "        for word in words:\n",
    "            if word in emotion_dic:\n",
    "                for emotion in emotion_dic[word]:\n",
    "                    column = emotion\n",
    "                    try:\n",
    "                        df[column].iloc[i] = df[column].iloc[i] + 1 / n\n",
    "                    except:\n",
    "                        pass\n",
    "    return df"
   ]
  },
  {
   "cell_type": "code",
   "execution_count": 14,
   "id": "fff482ba",
   "metadata": {},
   "outputs": [
    {
     "data": {
      "text/html": [
       "<div>\n",
       "<style scoped>\n",
       "    .dataframe tbody tr th:only-of-type {\n",
       "        vertical-align: middle;\n",
       "    }\n",
       "\n",
       "    .dataframe tbody tr th {\n",
       "        vertical-align: top;\n",
       "    }\n",
       "\n",
       "    .dataframe thead th {\n",
       "        text-align: right;\n",
       "    }\n",
       "</style>\n",
       "<table border=\"1\" class=\"dataframe\">\n",
       "  <thead>\n",
       "    <tr style=\"text-align: right;\">\n",
       "      <th></th>\n",
       "      <th>Unnamed: 0</th>\n",
       "      <th>address</th>\n",
       "      <th>categories</th>\n",
       "      <th>city</th>\n",
       "      <th>country</th>\n",
       "      <th>latitude</th>\n",
       "      <th>longitude</th>\n",
       "      <th>name</th>\n",
       "      <th>postalCode</th>\n",
       "      <th>province</th>\n",
       "      <th>...</th>\n",
       "      <th>positive</th>\n",
       "      <th>anger</th>\n",
       "      <th>disgust</th>\n",
       "      <th>fear</th>\n",
       "      <th>negative</th>\n",
       "      <th>sadness</th>\n",
       "      <th>anticipation</th>\n",
       "      <th>joy</th>\n",
       "      <th>surprise</th>\n",
       "      <th>trust</th>\n",
       "    </tr>\n",
       "  </thead>\n",
       "  <tbody>\n",
       "    <tr>\n",
       "      <th>0</th>\n",
       "      <td>0</td>\n",
       "      <td>Riviera San Nicol 11/a</td>\n",
       "      <td>Hotels</td>\n",
       "      <td>Mableton</td>\n",
       "      <td>US</td>\n",
       "      <td>45.421611</td>\n",
       "      <td>12.376187</td>\n",
       "      <td>Hotel Russo Palace</td>\n",
       "      <td>30126</td>\n",
       "      <td>GA</td>\n",
       "      <td>...</td>\n",
       "      <td>0.076923</td>\n",
       "      <td>0.025641</td>\n",
       "      <td>0.025641</td>\n",
       "      <td>0.000000</td>\n",
       "      <td>0.025641</td>\n",
       "      <td>0.000000</td>\n",
       "      <td>0.025641</td>\n",
       "      <td>0.025641</td>\n",
       "      <td>0.025641</td>\n",
       "      <td>0.025641</td>\n",
       "    </tr>\n",
       "    <tr>\n",
       "      <th>1</th>\n",
       "      <td>1</td>\n",
       "      <td>Riviera San Nicol 11/a</td>\n",
       "      <td>Hotels</td>\n",
       "      <td>Mableton</td>\n",
       "      <td>US</td>\n",
       "      <td>45.421611</td>\n",
       "      <td>12.376187</td>\n",
       "      <td>Hotel Russo Palace</td>\n",
       "      <td>30126</td>\n",
       "      <td>GA</td>\n",
       "      <td>...</td>\n",
       "      <td>0.142857</td>\n",
       "      <td>0.000000</td>\n",
       "      <td>0.000000</td>\n",
       "      <td>0.000000</td>\n",
       "      <td>0.000000</td>\n",
       "      <td>0.020408</td>\n",
       "      <td>0.061224</td>\n",
       "      <td>0.061224</td>\n",
       "      <td>0.040816</td>\n",
       "      <td>0.081633</td>\n",
       "    </tr>\n",
       "    <tr>\n",
       "      <th>2</th>\n",
       "      <td>2</td>\n",
       "      <td>Riviera San Nicol 11/a</td>\n",
       "      <td>Hotels</td>\n",
       "      <td>Mableton</td>\n",
       "      <td>US</td>\n",
       "      <td>45.421611</td>\n",
       "      <td>12.376187</td>\n",
       "      <td>Hotel Russo Palace</td>\n",
       "      <td>30126</td>\n",
       "      <td>GA</td>\n",
       "      <td>...</td>\n",
       "      <td>0.064516</td>\n",
       "      <td>0.032258</td>\n",
       "      <td>0.000000</td>\n",
       "      <td>0.032258</td>\n",
       "      <td>0.032258</td>\n",
       "      <td>0.032258</td>\n",
       "      <td>0.032258</td>\n",
       "      <td>0.032258</td>\n",
       "      <td>0.032258</td>\n",
       "      <td>0.032258</td>\n",
       "    </tr>\n",
       "    <tr>\n",
       "      <th>3</th>\n",
       "      <td>3</td>\n",
       "      <td>Riviera San Nicol 11/a</td>\n",
       "      <td>Hotels</td>\n",
       "      <td>Mableton</td>\n",
       "      <td>US</td>\n",
       "      <td>45.421611</td>\n",
       "      <td>12.376187</td>\n",
       "      <td>Hotel Russo Palace</td>\n",
       "      <td>30126</td>\n",
       "      <td>GA</td>\n",
       "      <td>...</td>\n",
       "      <td>0.062500</td>\n",
       "      <td>0.000000</td>\n",
       "      <td>0.000000</td>\n",
       "      <td>0.000000</td>\n",
       "      <td>0.000000</td>\n",
       "      <td>0.000000</td>\n",
       "      <td>0.031250</td>\n",
       "      <td>0.046875</td>\n",
       "      <td>0.015625</td>\n",
       "      <td>0.046875</td>\n",
       "    </tr>\n",
       "    <tr>\n",
       "      <th>4</th>\n",
       "      <td>4</td>\n",
       "      <td>Riviera San Nicol 11/a</td>\n",
       "      <td>Hotels</td>\n",
       "      <td>Mableton</td>\n",
       "      <td>US</td>\n",
       "      <td>45.421611</td>\n",
       "      <td>12.376187</td>\n",
       "      <td>Hotel Russo Palace</td>\n",
       "      <td>30126</td>\n",
       "      <td>GA</td>\n",
       "      <td>...</td>\n",
       "      <td>0.067797</td>\n",
       "      <td>0.000000</td>\n",
       "      <td>0.000000</td>\n",
       "      <td>0.000000</td>\n",
       "      <td>0.000000</td>\n",
       "      <td>0.000000</td>\n",
       "      <td>0.033898</td>\n",
       "      <td>0.050847</td>\n",
       "      <td>0.016949</td>\n",
       "      <td>0.050847</td>\n",
       "    </tr>\n",
       "  </tbody>\n",
       "</table>\n",
       "<p>5 rows × 31 columns</p>\n",
       "</div>"
      ],
      "text/plain": [
       "   Unnamed: 0                 address categories      city country   latitude  \\\n",
       "0           0  Riviera San Nicol 11/a     Hotels  Mableton      US  45.421611   \n",
       "1           1  Riviera San Nicol 11/a     Hotels  Mableton      US  45.421611   \n",
       "2           2  Riviera San Nicol 11/a     Hotels  Mableton      US  45.421611   \n",
       "3           3  Riviera San Nicol 11/a     Hotels  Mableton      US  45.421611   \n",
       "4           4  Riviera San Nicol 11/a     Hotels  Mableton      US  45.421611   \n",
       "\n",
       "   longitude                name postalCode province  ...  positive     anger  \\\n",
       "0  12.376187  Hotel Russo Palace      30126       GA  ...  0.076923  0.025641   \n",
       "1  12.376187  Hotel Russo Palace      30126       GA  ...  0.142857  0.000000   \n",
       "2  12.376187  Hotel Russo Palace      30126       GA  ...  0.064516  0.032258   \n",
       "3  12.376187  Hotel Russo Palace      30126       GA  ...  0.062500  0.000000   \n",
       "4  12.376187  Hotel Russo Palace      30126       GA  ...  0.067797  0.000000   \n",
       "\n",
       "    disgust      fear  negative   sadness anticipation       joy  surprise  \\\n",
       "0  0.025641  0.000000  0.025641  0.000000     0.025641  0.025641  0.025641   \n",
       "1  0.000000  0.000000  0.000000  0.020408     0.061224  0.061224  0.040816   \n",
       "2  0.000000  0.032258  0.032258  0.032258     0.032258  0.032258  0.032258   \n",
       "3  0.000000  0.000000  0.000000  0.000000     0.031250  0.046875  0.015625   \n",
       "4  0.000000  0.000000  0.000000  0.000000     0.033898  0.050847  0.016949   \n",
       "\n",
       "      trust  \n",
       "0  0.025641  \n",
       "1  0.081633  \n",
       "2  0.032258  \n",
       "3  0.046875  \n",
       "4  0.050847  \n",
       "\n",
       "[5 rows x 31 columns]"
      ]
     },
     "execution_count": 14,
     "metadata": {},
     "output_type": "execute_result"
    }
   ],
   "source": [
    "df = emotions(df)\n",
    "df.head()"
   ]
  },
  {
   "cell_type": "markdown",
   "id": "07433d44",
   "metadata": {},
   "source": [
    "### Vadar analysis: Positivity/Negativity\n",
    "Vader contains a list of 7500 features weighted by how positive or negative they are\n",
    "It uses these features to calculate stats on how positive, negative and neutral a passage is and combines these results to give a compound sentiment (higher = more positive) for the passage.\n",
    "\n",
    "Human trained on twitter data and generally considered good for informal communication\n",
    "\n",
    "10 humans rated each feature in each tweet in context from -4 to +4\n",
    "\n",
    "Calculates the sentiment in a sentence using word order analysis\n",
    "\n",
    "\"marginally good\" will get a lower positive score than \"extremely good\"\n",
    "\n",
    "Computes a \"compound\" score based on heuristics (between -1 and +1)\n",
    "\n",
    "Includes sentiment of emoticons, punctuation, and other 'social media' lexicon elements"
   ]
  },
  {
   "cell_type": "code",
   "execution_count": 15,
   "id": "3f564cb9",
   "metadata": {},
   "outputs": [],
   "source": [
    "def vader_analysis(texts):\n",
    "    analyzer = SentimentIntensityAnalyzer()\n",
    "    result = dict()\n",
    "    keys = ['vader_pos', 'vader_compound', 'vader_neu', 'vader_neg']\n",
    "    for k in keys:\n",
    "        result[k] = 0\n",
    "        \n",
    "    sentences = sent_tokenize(texts)\n",
    "    for sentence in sentences:\n",
    "        vs = analyzer.polarity_scores(sentence)\n",
    "        result['vader_pos'] += vs['pos']/(len(sentences))\n",
    "        result['vader_compound'] += vs['compound']/(len(sentences))\n",
    "        result['vader_neu'] += vs['pos']/(len(sentences))\n",
    "        result['vader_neg'] += vs['neg']/(len(sentences))\n",
    "        \n",
    "    return result"
   ]
  },
  {
   "cell_type": "code",
   "execution_count": 16,
   "id": "6b9d88a5",
   "metadata": {},
   "outputs": [],
   "source": [
    "vader_results = df['review'].apply(vader_analysis).apply(pd.Series)\n",
    "df = pd.concat([df,vader_results],axis=1)"
   ]
  },
  {
   "cell_type": "code",
   "execution_count": 17,
   "id": "172227ae",
   "metadata": {},
   "outputs": [],
   "source": [
    "# df.to_csv('df_w_features.csv')"
   ]
  },
  {
   "cell_type": "markdown",
   "id": "e9cf111a",
   "metadata": {},
   "source": [
    "<h3>TF-IDF (words n-grams)</h3>\n",
    "See the notebook named TF-IDF Feature Engineering in our repo"
   ]
  },
  {
   "cell_type": "code",
   "execution_count": null,
   "id": "a21ed414",
   "metadata": {},
   "outputs": [],
   "source": []
  },
  {
   "cell_type": "code",
   "execution_count": null,
   "id": "9367b3ba",
   "metadata": {},
   "outputs": [],
   "source": []
  },
  {
   "cell_type": "markdown",
   "id": "7f8f19da",
   "metadata": {},
   "source": [
    "<h2> Reviews Wordclouds</h2>"
   ]
  },
  {
   "cell_type": "markdown",
   "id": "e4e11378",
   "metadata": {},
   "source": [
    "<h3> Considering all reviews </h3>"
   ]
  },
  {
   "cell_type": "markdown",
   "id": "057db350",
   "metadata": {},
   "source": [
    "We can populate the word clouds for all reviews to see what reviewers care about the most"
   ]
  },
  {
   "cell_type": "code",
   "execution_count": 53,
   "id": "867d2bbd",
   "metadata": {},
   "outputs": [],
   "source": [
    "text=''\n",
    "for rev in df['review']:\n",
    "    text += rev"
   ]
  },
  {
   "cell_type": "code",
   "execution_count": 54,
   "id": "4e72d57a",
   "metadata": {},
   "outputs": [
    {
     "data": {
      "image/png": "[encoded data removed]",
      "text/plain": [
       "<Figure size 720x576 with 1 Axes>"
      ]
     },
     "metadata": {},
     "output_type": "display_data"
    }
   ],
   "source": [
    "from wordcloud import WordCloud, STOPWORDS\n",
    "\n",
    "wordcloud = WordCloud(stopwords = STOPWORDS, background_color = 'white',width = 3000,height = 3000).generate(text)\n",
    "\n",
    "plt.imshow(wordcloud)\n",
    "plt.axis('off')\n",
    "plt.show()"
   ]
  },
  {
   "cell_type": "markdown",
   "id": "1b5aca14",
   "metadata": {},
   "source": [
    "We see that the most common words are actually \"hotel\", \"room\", and \"stay\", which makes sense, but does not give us much insight. That is, words such as these may not provide value in prediction as they appear so frequently. Thus, we remove these three words and build the word cloud again. Additionally, we want to exclude \"I\" and \"s\" which appear frequently in reviews."
   ]
  },
  {
   "cell_type": "code",
   "execution_count": 55,
   "id": "2eb5f239",
   "metadata": {},
   "outputs": [],
   "source": [
    "def remove_words(text_string, DELETE_WORDS = []):\n",
    "    text_string = text_string.lower()\n",
    "    for word in DELETE_WORDS:\n",
    "        if len(word) == 1: \n",
    "            text_string = text_string.replace(' ' + word + ' ',' ')\n",
    "        else:\n",
    "            text_string = text_string.replace(word,' ')\n",
    "    return text_string\n",
    "\n",
    "def clean_text(all_reviews):\n",
    "    text = ''\n",
    "    for rev in all_reviews:\n",
    "        text += rev\n",
    "    text = remove_words(text, ['hotel', 'room', 'stay', 'I', 's'])\n",
    "    return text"
   ]
  },
  {
   "cell_type": "code",
   "execution_count": 56,
   "id": "bcc8dcc1",
   "metadata": {},
   "outputs": [],
   "source": [
    "#Remove short words\n",
    "def remove_short_words(text_string, min_length = 0):\n",
    "    word_list = text_string.split()\n",
    "    for word in word_list:\n",
    "        if len(word) < min_length:\n",
    "            text_string = text_string.replace(' ' + word + ' ',' ')\n",
    "    return text_string"
   ]
  },
  {
   "cell_type": "markdown",
   "id": "eef09cfe",
   "metadata": {},
   "source": [
    "Getting rid of end of line characters"
   ]
  },
  {
   "cell_type": "code",
   "execution_count": 57,
   "id": "73b62d82",
   "metadata": {},
   "outputs": [
    {
     "ename": "KeyboardInterrupt",
     "evalue": "",
     "output_type": "error",
     "traceback": [
      "\u001b[1;31m---------------------------------------------------------------------------\u001b[0m",
      "\u001b[1;31mKeyboardInterrupt\u001b[0m                         Traceback (most recent call last)",
      "\u001b[1;32m<ipython-input-57-d28ee0364c83>\u001b[0m in \u001b[0;36m<module>\u001b[1;34m\u001b[0m\n\u001b[1;32m----> 1\u001b[1;33m \u001b[0mtext\u001b[0m \u001b[1;33m=\u001b[0m \u001b[0mclean_text\u001b[0m\u001b[1;33m(\u001b[0m\u001b[0mdf\u001b[0m\u001b[1;33m[\u001b[0m\u001b[1;34m'review'\u001b[0m\u001b[1;33m]\u001b[0m\u001b[1;33m)\u001b[0m\u001b[1;33m\u001b[0m\u001b[1;33m\u001b[0m\u001b[0m\n\u001b[0m\u001b[0;32m      2\u001b[0m \u001b[0mstriptext\u001b[0m \u001b[1;33m=\u001b[0m \u001b[0mtext\u001b[0m\u001b[1;33m.\u001b[0m\u001b[0mreplace\u001b[0m\u001b[1;33m(\u001b[0m\u001b[1;34m'\\n\\n'\u001b[0m\u001b[1;33m,\u001b[0m \u001b[1;34m' '\u001b[0m\u001b[1;33m)\u001b[0m\u001b[1;33m\u001b[0m\u001b[1;33m\u001b[0m\u001b[0m\n\u001b[0;32m      3\u001b[0m \u001b[0mstriptext\u001b[0m \u001b[1;33m=\u001b[0m \u001b[0mstriptext\u001b[0m\u001b[1;33m.\u001b[0m\u001b[0mreplace\u001b[0m\u001b[1;33m(\u001b[0m\u001b[1;34m'\\n'\u001b[0m\u001b[1;33m,\u001b[0m \u001b[1;34m' '\u001b[0m\u001b[1;33m)\u001b[0m\u001b[1;33m\u001b[0m\u001b[1;33m\u001b[0m\u001b[0m\n",
      "\u001b[1;32m<ipython-input-55-26444cd05fec>\u001b[0m in \u001b[0;36mclean_text\u001b[1;34m(all_reviews)\u001b[0m\n\u001b[0;32m     11\u001b[0m     \u001b[0mtext\u001b[0m \u001b[1;33m=\u001b[0m \u001b[1;34m''\u001b[0m\u001b[1;33m\u001b[0m\u001b[1;33m\u001b[0m\u001b[0m\n\u001b[0;32m     12\u001b[0m     \u001b[1;32mfor\u001b[0m \u001b[0mrev\u001b[0m \u001b[1;32min\u001b[0m \u001b[0mall_reviews\u001b[0m\u001b[1;33m:\u001b[0m\u001b[1;33m\u001b[0m\u001b[1;33m\u001b[0m\u001b[0m\n\u001b[1;32m---> 13\u001b[1;33m         \u001b[0mtext\u001b[0m \u001b[1;33m+=\u001b[0m \u001b[0mrev\u001b[0m\u001b[1;33m\u001b[0m\u001b[1;33m\u001b[0m\u001b[0m\n\u001b[0m\u001b[0;32m     14\u001b[0m     \u001b[0mtext\u001b[0m \u001b[1;33m=\u001b[0m \u001b[0mremove_words\u001b[0m\u001b[1;33m(\u001b[0m\u001b[0mtext\u001b[0m\u001b[1;33m,\u001b[0m \u001b[1;33m[\u001b[0m\u001b[1;34m'hotel'\u001b[0m\u001b[1;33m,\u001b[0m \u001b[1;34m'room'\u001b[0m\u001b[1;33m,\u001b[0m \u001b[1;34m'stay'\u001b[0m\u001b[1;33m,\u001b[0m \u001b[1;34m'I'\u001b[0m\u001b[1;33m,\u001b[0m \u001b[1;34m's'\u001b[0m\u001b[1;33m]\u001b[0m\u001b[1;33m)\u001b[0m\u001b[1;33m\u001b[0m\u001b[1;33m\u001b[0m\u001b[0m\n\u001b[0;32m     15\u001b[0m     \u001b[1;32mreturn\u001b[0m \u001b[0mtext\u001b[0m\u001b[1;33m\u001b[0m\u001b[1;33m\u001b[0m\u001b[0m\n",
      "\u001b[1;31mKeyboardInterrupt\u001b[0m: "
     ]
    }
   ],
   "source": [
    "text = clean_text(df['review'])\n",
    "striptext = text.replace('\\n\\n', ' ')\n",
    "striptext = striptext.replace('\\n', ' ')"
   ]
  },
  {
   "cell_type": "code",
   "execution_count": null,
   "id": "52c823c4",
   "metadata": {},
   "outputs": [],
   "source": [
    "from nltk.tokenize import word_tokenize\n",
    "from nltk.tokenize import sent_tokenize\n",
    "from nltk.probability import FreqDist\n",
    "from nltk.corpus import stopwords\n",
    "from collections import OrderedDict\n",
    "import pprint"
   ]
  },
  {
   "cell_type": "code",
   "execution_count": null,
   "id": "020b90c7",
   "metadata": {},
   "outputs": [],
   "source": [
    "words = word_tokenize(striptext)\n",
    "lowercase_words = [word.lower() for word in words\n",
    "                  if word not in stopwords.words() and word.isalpha()]"
   ]
  },
  {
   "cell_type": "markdown",
   "id": "db63f157",
   "metadata": {},
   "source": [
    "Construct word frequencies and list the most commonly used words in reviews"
   ]
  },
  {
   "cell_type": "code",
   "execution_count": null,
   "id": "96da8cae",
   "metadata": {},
   "outputs": [],
   "source": [
    "word_frequencies = FreqDist(lowercase_words)\n",
    "most_frequent_words = FreqDist(lowercase_words).most_common(20)\n",
    "pp = pprint.PrettyPrinter(indent=4)\n",
    "pp.pprint(most_frequent_words)"
   ]
  },
  {
   "cell_type": "markdown",
   "id": "59ba464b",
   "metadata": {},
   "source": [
    "After excluding words like 'hotel', 'room', 'stay', we observe that 'great', 'staff', 'clean' are some of the most frequently used words in reviews, indicating that are more reviews with positive words than they are reviews with negative words. "
   ]
  },
  {
   "cell_type": "code",
   "execution_count": null,
   "id": "6abc69c8",
   "metadata": {},
   "outputs": [],
   "source": [
    "wordcloud = WordCloud(stopwords = STOPWORDS, background_color = 'white',width = 3000,height = 3000).generate(text)\n",
    "\n",
    "plt.imshow(wordcloud)\n",
    "plt.axis('off')\n",
    "plt.show()"
   ]
  },
  {
   "cell_type": "markdown",
   "id": "b36b91e1",
   "metadata": {},
   "source": [
    "From this we see that many reviews mention \"clean\" and \"staff\", suggesting that cleanliness and the behavior of hotel staff are something that matter to customers and may influence their rating of the hotel."
   ]
  },
  {
   "cell_type": "markdown",
   "id": "2c92556b",
   "metadata": {},
   "source": [
    "We also see some mentions of \"breakfast\", \"location\", \"front desk\", etc. These are also some features that customer pay attention to."
   ]
  },
  {
   "cell_type": "markdown",
   "id": "750d7d58",
   "metadata": {},
   "source": [
    "<h3> Considering good reviews and bad reviews </h3>"
   ]
  },
  {
   "cell_type": "markdown",
   "id": "16d6c11a",
   "metadata": {},
   "source": [
    "Would the word clouds be any different for the very good reviews (rating 5.0) and the very bad reviews (rating 0.0)?"
   ]
  },
  {
   "cell_type": "code",
   "execution_count": null,
   "id": "d3b35c3c",
   "metadata": {},
   "outputs": [],
   "source": [
    "good_reviews = df[df['rating'] == 5.0]['review']\n",
    "\n",
    "good_text = clean_text(good_reviews)\n",
    "    \n",
    "wordcloud = WordCloud(stopwords = STOPWORDS, background_color = 'white',width = 3000,height = 3000).generate(good_text)\n",
    "\n",
    "plt.imshow(wordcloud)\n",
    "plt.axis('off')\n",
    "plt.show()"
   ]
  },
  {
   "cell_type": "code",
   "execution_count": null,
   "id": "46f59e68",
   "metadata": {},
   "outputs": [],
   "source": [
    "bad_reviews = df[df['rating'] == 1.0]['review']\n",
    "\n",
    "bad_text = clean_text(bad_reviews)\n",
    "    \n",
    "wordcloud = WordCloud(stopwords = STOPWORDS, background_color = 'white',width = 3000,height = 3000).generate(bad_text)\n",
    "\n",
    "plt.imshow(wordcloud)\n",
    "plt.axis('off')\n",
    "plt.show()"
   ]
  },
  {
   "cell_type": "code",
   "execution_count": null,
   "id": "3dbc4cfd",
   "metadata": {},
   "outputs": [],
   "source": [
    "five_star_reviews = df[df['rating'] == 5.0]['review']\n",
    "good_reviews = df[(df.rating >=4.0) & (df['rating'] < 5.0)]['review']\n",
    "moderate_reviews = df[(df.rating >=3.0) & (df['rating'] < 4.0)]['review']\n",
    "bad_reviews = df[(df.rating > 1.0) & (df['rating'] < 3.0)]['review']\n",
    "one_star_reviews = df[df['rating'] == 1.0]['review']\n",
    "\n",
    "five_star_text = clean_text(five_star_reviews)\n",
    "good_text = clean_text(good_reviews)\n",
    "moderate_text = clean_text(moderate_reviews)\n",
    "bad_text = clean_text(bad_reviews)\n",
    "one_star_text = clean_text(one_star_reviews)\n",
    "\n",
    "\n",
    "all_reviews = [('Five-Star Reviews $(R = 5)$', five_star_text), \n",
    "               ('Good Reviews $(4 \\leq R < 5)$', good_text), \n",
    "               ('Moderate Reviews $(3 \\leq R < 4)$',moderate_text),\n",
    "               ('Bad Reviews $(1< R < 3)$', bad_text),\n",
    "              ('One-Star Reviews $(R = 1)$',one_star_text)]\n",
    "\n",
    "COL_NUM = 2\n",
    "ROW_NUM = 3\n",
    "fig, axes = plt.subplots(ROW_NUM, COL_NUM, figsize=(13,13))\n",
    "fig.delaxes(axes[2,1]) # deletes the 6th plot instance (since we are computing an odd number of plots)\n",
    "\n",
    "for i in range(0,len(all_reviews)):\n",
    "#     hotel_reviews = df[df['name'] == hotel_name]['review']\n",
    "    hotel_reviews = clean_text(all_reviews[i][1])\n",
    "    ax = axes[i//2, i%2] \n",
    "    ax.set_title(all_reviews[i][0], fontsize=15, fontweight='bold')\n",
    "    wordcloud = WordCloud(stopwords=STOPWORDS,background_color='white',width=1200,height=1000,max_words=20).generate(hotel_reviews)\n",
    "    ax.imshow(wordcloud)\n",
    "    ax.axis('off')"
   ]
  },
  {
   "cell_type": "markdown",
   "id": "4be72244",
   "metadata": {},
   "source": [
    "Based on the word cloud plots, it appears that for reviews with ratings above 3, many of the most frequently used words are similar (e.g., clean, good, and staff). On the other hand, for reviews with ratings below 3 stars do not to appear to have many frequently used words in common, besides 'one'. In fact, many reviews with ratings between 1 and 3 appear to include words that would otherwise be positive such as 'clean', 'good', and 'nice'. However, the contextual use around these words would need to be evaluated further to make any meaningful conclusions about this."
   ]
  },
  {
   "cell_type": "markdown",
   "id": "837a3827",
   "metadata": {},
   "source": [
    "We can see that the good reviews mention a lot of \"clean\" and \"staff\", other than the obvious \"great\". There are also a lot of mentions of \"friendly\", \"helpful\", \"comfortable\", \"convenient\", \"location\", which all hint that the good hotels are the one that are clean and comfortable, with friendly and helpful staff, and at a convenient location."
   ]
  },
  {
   "cell_type": "markdown",
   "id": "13f6235e",
   "metadata": {},
   "source": [
    "On the other hand, the bad reviews are the one about hotels that are \"dirty\", \"booked\", or even \"smelled\"."
   ]
  },
  {
   "cell_type": "markdown",
   "id": "1dcbebe0",
   "metadata": {},
   "source": [
    "We can verify these by looking at specific reviews for top hotels and bottom hotels."
   ]
  },
  {
   "cell_type": "markdown",
   "id": "2ef34027",
   "metadata": {},
   "source": [
    "<h3> Considering reviews for top hotels and bottom hotels </h3>"
   ]
  },
  {
   "cell_type": "markdown",
   "id": "fd99890b",
   "metadata": {},
   "source": [
    "To ensure we have enough reviews to generate wordclouds, we consider the 4 best and worst hotels where each hotel has at least 5 reviews"
   ]
  },
  {
   "cell_type": "code",
   "execution_count": null,
   "id": "ca760d8c",
   "metadata": {},
   "outputs": [],
   "source": [
    "top_hotels_avg_rating = avg_rating[avg_rating['num_rating'] > 5].sort_values(by = 'rating', ascending = False).head(4)\n",
    "top_hotels_avg_rating.reset_index(level=0, inplace=True)\n",
    "#top_hotels = df[df['name'].isin(top_hotels_avg_rating['name'])]\n",
    "\n",
    "top_hotels = []\n",
    "\n",
    "for hotel_name in top_hotels_avg_rating['name']:\n",
    "    hotel_reviews = df[df['name'] == hotel_name]['review']\n",
    "    hotel_text = clean_text(hotel_reviews)\n",
    "    \n",
    "    top_hotels.append((hotel_name, hotel_text))\n",
    "    \n",
    "#Set up side by side clouds\n",
    "COL_NUM = 2\n",
    "ROW_NUM = 2\n",
    "fig, axes = plt.subplots(ROW_NUM, COL_NUM, figsize=(12,12))\n",
    "\n",
    "for i in range(0,len(top_hotels)):\n",
    "    text_string = top_hotels[i][1]\n",
    "    \n",
    "    ax = axes[i//2, i%2] \n",
    "    ax.set_title(top_hotels[i][0])\n",
    "    wordcloud = WordCloud(stopwords = STOPWORDS,background_color='white',width=1200,height=1000,max_words=30).generate(text_string)\n",
    "    ax.imshow(wordcloud)\n",
    "    ax.axis('off')\n",
    "    \n",
    "plt.show()"
   ]
  },
  {
   "cell_type": "code",
   "execution_count": null,
   "id": "0ce4e680",
   "metadata": {},
   "outputs": [],
   "source": [
    "bottom_hotels_avg_rating = avg_rating[avg_rating['num_rating'] > 5].sort_values(by = 'rating').head(4)\n",
    "bottom_hotels_avg_rating.reset_index(level=0, inplace=True)\n",
    "#bottom_hotels = df[df['name'].isin(bottom_hotels_avg_rating['name'])]\n",
    "\n",
    "bottom_hotels = []\n",
    "\n",
    "for hotel_name in bottom_hotels_avg_rating['name']:\n",
    "    hotel_reviews = df[df['name'] == hotel_name]['review']\n",
    "    hotel_text = clean_text(hotel_reviews)\n",
    "    \n",
    "    bottom_hotels.append((hotel_name, hotel_text))\n",
    "    \n",
    "#Set up side by side clouds\n",
    "COL_NUM = 2\n",
    "ROW_NUM = 2\n",
    "fig, axes = plt.subplots(ROW_NUM, COL_NUM, figsize=(12,12))\n",
    "\n",
    "for i in range(0,len(bottom_hotels)):\n",
    "    text_string = bottom_hotels[i][1]\n",
    "    \n",
    "    ax = axes[i//2, i%2] \n",
    "    ax.set_title(bottom_hotels[i][0])\n",
    "    wordcloud = WordCloud(stopwords = STOPWORDS,background_color='white',width=1200,height=1000,max_words=30).generate(text_string)\n",
    "    ax.imshow(wordcloud)\n",
    "    ax.axis('off')\n",
    "    \n",
    "plt.show()"
   ]
  },
  {
   "cell_type": "markdown",
   "id": "02f29d5f",
   "metadata": {},
   "source": [
    "<h3> Data Filtering, Exclusions, and Segmentation Analysis </h3>"
   ]
  },
  {
   "cell_type": "code",
   "execution_count": null,
   "id": "2b51e6e6",
   "metadata": {},
   "outputs": [],
   "source": [
    "df_int = df.copy()\n",
    "df_int.rating = df_int.rating.astype(int)"
   ]
  },
  {
   "cell_type": "code",
   "execution_count": null,
   "id": "65cb0819",
   "metadata": {},
   "outputs": [],
   "source": [
    "%matplotlib inline\n",
    "import matplotlib.pyplot as plt\n",
    "import seaborn as sns\n",
    "plt.style.use('seaborn')"
   ]
  },
  {
   "cell_type": "code",
   "execution_count": null,
   "id": "c03ee82e",
   "metadata": {},
   "outputs": [],
   "source": [
    "plt.scatter(x = df_int.longitude, y=df_int.latitude, marker='.')"
   ]
  },
  {
   "cell_type": "code",
   "execution_count": null,
   "id": "cb48dfb2",
   "metadata": {},
   "outputs": [],
   "source": [
    "sns.set(rc={\"figure.figsize\":(17, 9)}, font_scale=1.5) \n",
    "p=sns.scatterplot(data=df_int, x='longitude', y='latitude', hue='rating',\n",
    "                markers='.', legend='full',palette='crest')\n",
    "\n",
    "p.set_title('Hotel Locations (lat, long)', fontsize = 25)\n",
    "p.set_xlabel(\"Longitude\", fontsize = 16)\n",
    "p.set_ylabel(\"Latitude\", fontsize = 16)\n",
    "plt.legend(fontsize='medium', title='Rating Scale', shadow='True', frameon='True')"
   ]
  },
  {
   "cell_type": "markdown",
   "id": "8e28b3e5",
   "metadata": {},
   "source": [
    "Most of the reviews appear to be in the U.S.. We also see that the ratings appear to be evenly distributed with respect to location."
   ]
  },
  {
   "cell_type": "code",
   "execution_count": null,
   "id": "2eae4590",
   "metadata": {},
   "outputs": [],
   "source": [
    "df.country.unique()"
   ]
  },
  {
   "cell_type": "markdown",
   "id": "7bb5bff3",
   "metadata": {},
   "source": [
    "Despite the plot showing that there are reviews outside of the U.S., the country column indicates that all reviews are in the U.S.. It's not clear if this will have any impact on model performance."
   ]
  },
  {
   "cell_type": "code",
   "execution_count": null,
   "id": "625d5e5c",
   "metadata": {},
   "outputs": [],
   "source": [
    "df_US = df[((df['latitude']<=50.0) & (df['latitude']>=24.0)) & \n",
    "         ((df['longitude']<=-65.0) & (df['longitude']>=-122.0))]"
   ]
  },
  {
   "cell_type": "code",
   "execution_count": null,
   "id": "31f40373",
   "metadata": {},
   "outputs": [],
   "source": [
    "print('There are',len(df) - len(df_US),'reviews outside the U.S.')"
   ]
  },
  {
   "cell_type": "markdown",
   "id": "a34fb8ba",
   "metadata": {},
   "source": []
  },
  {
   "cell_type": "markdown",
   "id": "fd31e819",
   "metadata": {},
   "source": [
    "Filtering out all locations outside of the U.S."
   ]
  },
  {
   "cell_type": "code",
   "execution_count": null,
   "id": "8bf854b2",
   "metadata": {},
   "outputs": [],
   "source": [
    "df = df[((df['latitude']<=50.0) & (df['latitude']>=24.0)) & \n",
    "         ((df['longitude']<=-65.0) & (df['longitude']>=-122.0))]"
   ]
  },
  {
   "cell_type": "code",
   "execution_count": null,
   "id": "7f876176",
   "metadata": {},
   "outputs": [],
   "source": [
    "df_new = df.copy()\n",
    "df_new.rating = df_new.rating.astype(int)"
   ]
  },
  {
   "cell_type": "markdown",
   "id": "ddb4da83",
   "metadata": {},
   "source": [
    "Plot another scatter plot, but on the truncated dataset (constrained to only those hotel reviews within the U.S.)."
   ]
  },
  {
   "cell_type": "code",
   "execution_count": null,
   "id": "699f0255",
   "metadata": {},
   "outputs": [],
   "source": [
    "sns.set(rc={\"figure.figsize\":(17, 9)}, font_scale=1.5) \n",
    "p=sns.scatterplot(data=df_new, x='longitude', y='latitude', hue='rating',\n",
    "                markers='.', legend='full',palette='crest')\n",
    "\n",
    "p.set_title('Hotel Locations (lat, long)', fontsize = 25)\n",
    "p.set_xlabel(\"Longitude\", fontsize = 16)\n",
    "p.set_ylabel(\"Latitude\", fontsize = 16)\n",
    "plt.legend(fontsize='medium', title='Rating Scale', shadow='True', frameon='True')"
   ]
  },
  {
   "cell_type": "code",
   "execution_count": null,
   "id": "d5535b9a",
   "metadata": {},
   "outputs": [],
   "source": []
  },
  {
   "cell_type": "markdown",
   "id": "9e42f322",
   "metadata": {},
   "source": [
    "<h1> Predicting reviews rating from reviews text and title </h1>"
   ]
  },
  {
   "cell_type": "markdown",
   "id": "e76a716c",
   "metadata": {},
   "source": [
    "<h2> Features Engineering using TD-IDF and Prepare training and testing datasets </h2>"
   ]
  },
  {
   "cell_type": "code",
   "execution_count": null,
   "id": "537ec1c9",
   "metadata": {},
   "outputs": [],
   "source": [
    "from sklearn.model_selection import train_test_split\n",
    "\n",
    "train, test = train_test_split(df, test_size = 0.3, random_state = 28)"
   ]
  },
  {
   "cell_type": "code",
   "execution_count": null,
   "id": "d032cc8b",
   "metadata": {},
   "outputs": [],
   "source": [
    "from sklearn.feature_extraction.text import TfidfVectorizer\n",
    "\n",
    "vectorizer = TfidfVectorizer()\n",
    "X_train = vectorizer.fit_transform(train['review'])\n",
    "#X_train.A"
   ]
  },
  {
   "cell_type": "code",
   "execution_count": null,
   "id": "b82efcec",
   "metadata": {},
   "outputs": [],
   "source": [
    "y_train = train['rating']\n",
    "#y_train"
   ]
  },
  {
   "cell_type": "code",
   "execution_count": null,
   "id": "57ef3390",
   "metadata": {},
   "outputs": [],
   "source": [
    "X_test = vectorizer.transform(test['review'])\n",
    "y_test = test['rating']\n",
    "#X_test.A"
   ]
  },
  {
   "cell_type": "markdown",
   "id": "b1d6e72b",
   "metadata": {},
   "source": [
    "<h2> Model Development </h2>"
   ]
  },
  {
   "cell_type": "markdown",
   "id": "6fee4d9b",
   "metadata": {},
   "source": [
    "<li> Train various regression models\n",
    "<li> Transform non-integer ratings to integers\n",
    "<li> Train multiclassification models using integer ratings\n",
    "<li> Group ratings into two categories, 'Good' and 'Bad', which will be denoted by a 1 and 0, respectively.\n",
    "<li> Train binary classification models on binary-{0,1} dependent variable"
   ]
  },
  {
   "cell_type": "markdown",
   "id": "15e4d9a5",
   "metadata": {},
   "source": [
    "Notice above in our EDA that many user ratings are not integers. Based on this, we will initially train a set of regression models and evaluate their performance and then train multi- and binary classifiers after transforming the ratings variable."
   ]
  },
  {
   "cell_type": "code",
   "execution_count": null,
   "id": "74812997",
   "metadata": {},
   "outputs": [],
   "source": [
    "def fit_model(model):\n",
    "    model.fit(X_train, y_train)\n",
    "    y_pred = model.predict(X_test)\n",
    "    \n",
    "    from sklearn.metrics import mean_squared_error, r2_score, explained_variance_score\n",
    "    \n",
    "    model_r2 = r2_score(y_test, y_pred)\n",
    "    model_mse = mean_squared_error(y_test, y_pred)\n",
    "    model_evs = explained_variance_score(y_test, y_pred)\n",
    "    \n",
    "    return model_r2, model_mse, model_evs"
   ]
  },
  {
   "cell_type": "markdown",
   "id": "1e74935a",
   "metadata": {},
   "source": [
    "<h3> Using Linear Regression </h3>"
   ]
  },
  {
   "cell_type": "code",
   "execution_count": null,
   "id": "a52cefef",
   "metadata": {},
   "outputs": [],
   "source": [
    "from sklearn import linear_model\n",
    "\n",
    "lin_reg = linear_model.LinearRegression() # an empty model"
   ]
  },
  {
   "cell_type": "code",
   "execution_count": null,
   "id": "015de2d5",
   "metadata": {},
   "outputs": [],
   "source": [
    "lin_r2, lin_mse, lin_evs = fit_model(lin_reg)"
   ]
  },
  {
   "cell_type": "markdown",
   "id": "56aa6fea",
   "metadata": {},
   "source": [
    "<h3> Using Decision Tree </h3>"
   ]
  },
  {
   "cell_type": "code",
   "execution_count": null,
   "id": "7b661b89",
   "metadata": {},
   "outputs": [],
   "source": [
    "from sklearn.tree import DecisionTreeRegressor\n",
    "\n",
    "dct_reg = DecisionTreeRegressor(max_depth = 5)"
   ]
  },
  {
   "cell_type": "code",
   "execution_count": null,
   "id": "c343c106",
   "metadata": {},
   "outputs": [],
   "source": [
    "dct_r2, dct_mse, dct_evs = fit_model(dct_reg)"
   ]
  },
  {
   "cell_type": "markdown",
   "id": "3172c9d7",
   "metadata": {},
   "source": [
    "<h3> Using Random Forest </h3>"
   ]
  },
  {
   "cell_type": "code",
   "execution_count": null,
   "id": "21511d3a",
   "metadata": {},
   "outputs": [],
   "source": [
    "from sklearn.ensemble import RandomForestRegressor\n",
    "\n",
    "rf_reg = RandomForestRegressor(max_depth = 5, random_state = 0)"
   ]
  },
  {
   "cell_type": "code",
   "execution_count": null,
   "id": "af418f56",
   "metadata": {},
   "outputs": [],
   "source": [
    "rf_r2, rf_mse, rf_evs = fit_model(rf_reg)"
   ]
  },
  {
   "cell_type": "markdown",
   "id": "4c9da6aa",
   "metadata": {},
   "source": [
    "<h3> Using Nearest Neighbors </h3>"
   ]
  },
  {
   "cell_type": "code",
   "execution_count": null,
   "id": "a92df397",
   "metadata": {},
   "outputs": [],
   "source": [
    "from sklearn.neighbors import KNeighborsRegressor\n",
    "\n",
    "knn_reg = KNeighborsRegressor(n_neighbors = 2)"
   ]
  },
  {
   "cell_type": "code",
   "execution_count": null,
   "id": "e38ead3f",
   "metadata": {},
   "outputs": [],
   "source": [
    "knn_r2, knn_mse, knn_evs = fit_model(knn_reg)"
   ]
  },
  {
   "cell_type": "markdown",
   "id": "02ad827c",
   "metadata": {},
   "source": [
    "<h3> Using Multi-layer Perceptron </h3>"
   ]
  },
  {
   "cell_type": "code",
   "execution_count": null,
   "id": "ba7ee605",
   "metadata": {},
   "outputs": [],
   "source": [
    "from sklearn.neural_network import MLPRegressor\n",
    "\n",
    "mlp_reg = MLPRegressor(random_state = 1, max_iter = 500)"
   ]
  },
  {
   "cell_type": "code",
   "execution_count": null,
   "id": "f74aa92e",
   "metadata": {},
   "outputs": [],
   "source": [
    "mlp_r2, mlp_mse, mlp_evs = fit_model(mlp_reg)"
   ]
  },
  {
   "cell_type": "markdown",
   "id": "b65055e3",
   "metadata": {},
   "source": [
    "<h3> Using Support Vector Machines </h3>"
   ]
  },
  {
   "cell_type": "code",
   "execution_count": null,
   "id": "ada5782c",
   "metadata": {},
   "outputs": [],
   "source": [
    "from sklearn.svm import LinearSVR\n",
    "\n",
    "svm_reg = LinearSVR()"
   ]
  },
  {
   "cell_type": "code",
   "execution_count": null,
   "id": "064010b1",
   "metadata": {},
   "outputs": [],
   "source": [
    "svm_r2, svm_mse, svm_evs = fit_model(svm_reg)"
   ]
  },
  {
   "cell_type": "markdown",
   "id": "c50152b5",
   "metadata": {},
   "source": [
    "<h4> Compare Model Performance of Regresion models</h4>"
   ]
  },
  {
   "cell_type": "code",
   "execution_count": null,
   "id": "fb78a544",
   "metadata": {},
   "outputs": [],
   "source": [
    "all_models = [lin_reg, dct_reg, rf_reg, knn_reg, mlp_reg, svm_reg]\n",
    "data = []\n",
    "\n",
    "for model in all_models:\n",
    "    model_r2, model_mse, model_evs = fit_model(model)\n",
    "    data.append({'R-quared' : model_r2, 'Mean squared error' : model_mse, 'Explained variance score': model_evs})\n",
    "    \n",
    "performance = pd.DataFrame(data)\n",
    "performance"
   ]
  },
  {
   "cell_type": "markdown",
   "id": "af1864b6",
   "metadata": {},
   "source": [
    "<h2> Multiclass classification model development </h2>"
   ]
  },
  {
   "cell_type": "code",
   "execution_count": null,
   "id": "96f67638",
   "metadata": {},
   "outputs": [],
   "source": [
    "df_mult = df\n",
    "df_mult.rating = df_mult.rating.astype(int)"
   ]
  },
  {
   "cell_type": "code",
   "execution_count": null,
   "id": "26f0f171",
   "metadata": {},
   "outputs": [],
   "source": [
    "from sklearn.model_selection import train_test_split\n",
    "from sklearn.feature_extraction.text import TfidfVectorizer\n",
    "train2, test2 = train_test_split(df_mult, test_size = 0.3, random_state = 123)\n",
    "\n",
    "tfidf_1gram_vec = TfidfVectorizer(min_df=20, ngram_range=(1,1), stop_words='english')\n",
    "x_train2 = tfidf_1gram_vec.fit_transform(train2['review'])\n",
    "y_train2 = train2['rating']\n",
    "feature_names = tfidf_1gram_vec.get_feature_names()\n",
    "\n",
    "x_test2 = vectorizer.fit_transform(test2['review'])\n",
    "y_test2 = test2['rating']\n",
    "feature_names"
   ]
  },
  {
   "cell_type": "code",
   "execution_count": null,
   "id": "cfecd06d",
   "metadata": {},
   "outputs": [],
   "source": [
    "from sklearn.ensemble import RandomForestClassifier\n",
    "from sklearn.model_selection import GridSearchCV\n",
    "parameters = {\n",
    "     'n_estimators':(10, 30, 50), # the number of trees\n",
    "     'max_depth':(4,5,6,8,10,15), # the maximum depth of each decision tree (you don't want it to be too deep since then nodes would have fewer observations)\n",
    "     'min_samples_split': (2, 4, 8), # at each intermediate node (non-leaf node), the minimum number of examples/observations in that node. If the number of datapoints is fewer than this h-param, then it won't do the split.\n",
    "     'min_samples_leaf': (4,8,12,16) # the minimum sample size (# of obs) at each leaf node\n",
    "}\n",
    "\n",
    "# model = GridSearchCV(RandomForestClassifier(),parameters,cv=3,iid=False)\n",
    "model = GridSearchCV(RandomForestClassifier(),parameters,cv=3)\n",
    "model.fit(x_train2, np.ravel(y_train2))\n",
    "model.best_score_, model.best_params_   # prints the best score achieved and the best hyperparameters"
   ]
  },
  {
   "cell_type": "code",
   "execution_count": null,
   "id": "9b3d5e6b",
   "metadata": {},
   "outputs": [],
   "source": [
    "model = RandomForestClassifier(max_depth=15,min_samples_leaf=12,\n",
    "                               min_samples_split=8,n_estimators=10)\n",
    "model.fit(x_train2,np.ravel(y_train2))"
   ]
  },
  {
   "cell_type": "code",
   "execution_count": null,
   "id": "983190e2",
   "metadata": {},
   "outputs": [],
   "source": [
    "import matplotlib.pyplot as plt\n",
    "%matplotlib inline\n",
    "importances = model.feature_importances_   # returns an array of importance values\n",
    "indices = np.argsort(importances)      # the argsort function returns the array of indices of the sorted array (in increasing or decreasing order)\n",
    "plt.figure(figsize=(12,12))            \n",
    "plt.title('Feature Importances')\n",
    "plt.barh(range(len(indices)), importances[indices], color='b', align='center')\n",
    "# plt.yticks(range(len(indices)),feature_names)\n",
    "plt.yticks(range(len(indices)))\n",
    "plt.xlabel('Relative Importance')"
   ]
  },
  {
   "cell_type": "code",
   "execution_count": null,
   "id": "7bfd6670",
   "metadata": {},
   "outputs": [],
   "source": [
    "sorted(importances, reverse=True)[:30]"
   ]
  },
  {
   "cell_type": "code",
   "execution_count": null,
   "id": "961bb510",
   "metadata": {},
   "outputs": [],
   "source": [
    "model.score(x_test2,y_test2)"
   ]
  },
  {
   "cell_type": "code",
   "execution_count": null,
   "id": "df3b9329",
   "metadata": {},
   "outputs": [],
   "source": []
  },
  {
   "cell_type": "code",
   "execution_count": null,
   "id": "276f6b89",
   "metadata": {},
   "outputs": [],
   "source": []
  },
  {
   "cell_type": "code",
   "execution_count": null,
   "id": "4f195520",
   "metadata": {},
   "outputs": [],
   "source": [
    "# from sklearn.feature_extraction.text import CountVectorizer\n",
    "\n",
    "# cv = CountVectorizer(stop_words='english')\n",
    "# data_cv = cv.fit_transform(text)\n",
    "# data_dtm = pd.DataFrame(data_cv.toarray(), columns=cv.get_feature_names())"
   ]
  },
  {
   "cell_type": "markdown",
   "id": "e1281a32",
   "metadata": {},
   "source": [
    "<h3> Binary Classification </h3>"
   ]
  },
  {
   "cell_type": "markdown",
   "id": "b01345f9",
   "metadata": {},
   "source": [
    "Group ratings into binary categories for binary classification. For ratings less than or equal to 3, the corresponding target response is 0; otherwise, the target response is 1."
   ]
  },
  {
   "cell_type": "code",
   "execution_count": null,
   "id": "5c181dba",
   "metadata": {},
   "outputs": [],
   "source": [
    "from sklearn.feature_extraction.text import TfidfVectorizer\n",
    "from sklearn.model_selection import train_test_split\n",
    "from sklearn.tree import DecisionTreeClassifier\n",
    "from sklearn.ensemble import RandomForestClassifier\n",
    "from sklearn.ensemble import BaggingClassifier\n",
    "from sklearn.tree import DecisionTreeClassifier\n",
    "from sklearn.linear_model import LogisticRegression\n",
    "from sklearn.neural_network import MLPClassifier\n",
    "\n",
    "import sklearn.metrics\n",
    "from sklearn.metrics import accuracy_score\n",
    "from sklearn.metrics import confusion_matrix\n",
    "from sklearn.metrics import roc_curve, auc, roc_auc_score\n",
    "import pylab as pl\n",
    "from sklearn.model_selection import GridSearchCV"
   ]
  },
  {
   "cell_type": "code",
   "execution_count": null,
   "id": "47ac746a",
   "metadata": {},
   "outputs": [],
   "source": [
    "binary_target = []\n",
    "for rating in df['rating']:\n",
    "    if rating <=3:\n",
    "        binary_target.append(0)\n",
    "    else:\n",
    "        binary_target.append(1)\n",
    "df['binary_target'] = binary_target"
   ]
  },
  {
   "cell_type": "code",
   "execution_count": null,
   "id": "5646cf8b",
   "metadata": {},
   "outputs": [],
   "source": [
    "df['binary_target']"
   ]
  },
  {
   "cell_type": "code",
   "execution_count": null,
   "id": "de8a5022",
   "metadata": {},
   "outputs": [],
   "source": [
    "vectorizer = TfidfVectorizer(stop_words='english')\n",
    "X_train,X_test,Y_train,Y_test = train_test_split(vectorizer.fit_transform(df['text']).toarray(),\n",
    "                                                 df['binary_target'].values,test_size = 0.2,\n",
    "                                                 random_state=123)"
   ]
  },
  {
   "cell_type": "code",
   "execution_count": null,
   "id": "3cbcc81c",
   "metadata": {},
   "outputs": [],
   "source": [
    "dt_clf = DecisionTreeClassifier(random_state=123)\n",
    "dt_clf.fit(X_train,Y_train)\n",
    "print(\"Train Accuracy : {:.2f} %\".format(accuracy_score(dt_clf.predict(X_train),Y_train)*100))\n",
    "print(\"Test Accuracy  : {:.2f} %\".format(accuracy_score(dt_clf.predict(X_test),Y_test)*100))"
   ]
  },
  {
   "cell_type": "code",
   "execution_count": null,
   "id": "95030a01",
   "metadata": {},
   "outputs": [],
   "source": [
    "%matplotlib inline\n",
    "fpr, tpr, thresholds = roc_curve(Y_test,dt_clf.predict(X_test))\n",
    "fig, ax = plt.subplots(figsize=(8,6))\n",
    "ax.plot(fpr, tpr, label='ROC curve (area = %0.2f)' % roc_auc_score(Y_test, dt_clf.predict(X_test)), color='blue')\n",
    "ax.plot([0, 1],[0, 1], linestyle='--', color='red', label='Random')\n",
    "ax.fill_between(fpr, 0, tpr, color='lightgray', alpha=0.3)\n",
    "ax.set_xlim([0.0, 1.0])\n",
    "ax.set_ylim([0.0, 1.0])\n",
    "ax.set_xlabel('False Positive Rate', fontsize=16)\n",
    "ax.set_ylabel('True Positive Rate', fontsize=16)\n",
    "ax.set_title('Decision Tree ROC Curve')\n",
    "ax.legend(loc=\"lower right\", prop={'family':'sans-serif','size':14.5}, shadow=True)"
   ]
  },
  {
   "cell_type": "code",
   "execution_count": null,
   "id": "0f48873d",
   "metadata": {},
   "outputs": [],
   "source": [
    "rf_clf = RandomForestClassifier(n_estimators=100)\n",
    "rf_clf.fit(X_train,Y_train)\n",
    "print(\"Train Accuracy : {:.2f} %\".format(accuracy_score(rf_clf.predict(X_train),Y_train)*100))\n",
    "print(\"Test Accuracy  : {:.2f} %\".format(accuracy_score(rf_clf.predict(X_test),Y_test)*100))"
   ]
  },
  {
   "cell_type": "code",
   "execution_count": null,
   "id": "fe681b9e",
   "metadata": {},
   "outputs": [],
   "source": [
    "%matplotlib inline\n",
    "fpr, tpr, thresholds = roc_curve(Y_test,rf_clf.predict(X_test))\n",
    "fig1, ax1 = plt.subplots(figsize=(8,6))\n",
    "ax1.plot(fpr, tpr, label='ROC curve (area = %0.2f)' % roc_auc_score(Y_test, rf_clf.predict(X_test)), color='blue')\n",
    "ax1.plot([0, 1],[0, 1], linestyle='--', color='red', label='Random')\n",
    "ax1.fill_between(fpr, 0, tpr, color='lightgray', alpha=0.3)\n",
    "ax1.set_xlim([0.0, 1.0])\n",
    "ax1.set_ylim([0.0, 1.0])\n",
    "ax1.set_xlabel('False Positive Rate', fontsize=16)\n",
    "ax1.set_ylabel('True Positive Rate', fontsize=16)\n",
    "ax1.set_title('Random Forest ROC Curve')\n",
    "ax1.legend(loc=\"lower right\", prop={'family':'sans-serif','size':14.5}, shadow=True)"
   ]
  },
  {
   "cell_type": "code",
   "execution_count": null,
   "id": "b1d90f43",
   "metadata": {},
   "outputs": [],
   "source": [
    "bag_clf = BaggingClassifier(n_estimators=100)\n",
    "bag_clf.fit(X_train,Y_train)\n",
    "print(\"Train Accuracy : {:.2f} %\".format(accuracy_score(bag_clf.predict(X_train),Y_train)*100))\n",
    "print(\"Test Accuracy  : {:.2f} %\".format(accuracy_score(bag_clf.predict(X_test),Y_test)*100))"
   ]
  },
  {
   "cell_type": "code",
   "execution_count": null,
   "id": "9731dc38",
   "metadata": {},
   "outputs": [],
   "source": [
    "%matplotlib inline\n",
    "fpr, tpr, thresholds = roc_curve(Y_test,bag_clf.predict(X_test))\n",
    "fig2, ax2 = plt.subplots(figsize=(8,6))\n",
    "ax2.plot(fpr, tpr, label='ROC curve (area = %0.2f)' % roc_auc_score(Y_test, bag_clf.predict(X_test)), color='blue')\n",
    "ax2.plot([0, 1],[0, 1], linestyle='--', color='red', label='Random')\n",
    "ax2.fill_between(fpr, 0, tpr, color='lightgray', alpha=0.3)\n",
    "ax2.set_xlim([0.0, 1.0])\n",
    "ax2.set_ylim([0.0, 1.0])\n",
    "ax2.set_xlabel('False Positive Rate', fontsize=16)\n",
    "ax2.set_ylabel('True Positive Rate', fontsize=16)\n",
    "ax2.set_title('Bagging Classifier ROC Curve')\n",
    "ax2.legend(loc=\"lower right\", prop={'family':'sans-serif','size':14.5}, shadow=True)"
   ]
  },
  {
   "cell_type": "code",
   "execution_count": null,
   "id": "94d65cdf",
   "metadata": {},
   "outputs": [],
   "source": [
    "lgr_clf = LogisticRegression(solver='liblinear',random_state=123)\n",
    "lgr_clf.fit(X_train,Y_train)\n",
    "print(\"Train Accuracy : {:.2f} %\".format(accuracy_score(lgr_clf.predict(X_train),Y_train)*100))\n",
    "print(\"Test Accuracy  : {:.2f} %\".format(accuracy_score(lgr_clf.predict(X_test),Y_test)*100))"
   ]
  },
  {
   "cell_type": "code",
   "execution_count": null,
   "id": "94e42e21",
   "metadata": {},
   "outputs": [],
   "source": [
    "%matplotlib inline\n",
    "fpr, tpr, thresholds = roc_curve(Y_test,lgr_clf.predict(X_test))\n",
    "fig3, ax3 = plt.subplots(figsize=(8,6))\n",
    "ax3.plot(fpr, tpr, label='ROC curve (area = %0.2f)' % roc_auc_score(Y_test, lgr_clf.predict(X_test)), color='blue')\n",
    "ax3.plot([0, 1],[0, 1], linestyle='--', color='red', label='Random')\n",
    "ax3.fill_between(fpr, 0, tpr, color='lightgray', alpha=0.3)\n",
    "ax3.set_xlim([0.0, 1.0])\n",
    "ax3.set_ylim([0.0, 1.0])\n",
    "ax3.set_xlabel('False Positive Rate', fontsize=16)\n",
    "ax3.set_ylabel('True Positive Rate', fontsize=16)\n",
    "ax3.set_title('Logistic Regression ROC Curve')\n",
    "ax3.legend(loc=\"lower right\", prop={'family':'sans-serif','size':14.5}, shadow=True)"
   ]
  },
  {
   "cell_type": "code",
   "execution_count": null,
   "id": "e40ce488",
   "metadata": {},
   "outputs": [],
   "source": [
    "import xgboost as xgb\n",
    "x_dmatrix = xgb.DMatrix(X_train, Y_train)\n",
    "params={\"objective\":\"binary:logistic\",'max_depth':6, 'num_class':4}"
   ]
  },
  {
   "cell_type": "code",
   "execution_count": null,
   "id": "1ef25df8",
   "metadata": {},
   "outputs": [],
   "source": [
    "cv_results = xgb.cv(params, x_dmatrix, nfold=4, num_boost_round=20, metrics=\"merror\", as_pandas=True)\n",
    "cv_results"
   ]
  },
  {
   "cell_type": "code",
   "execution_count": null,
   "id": "83a87739",
   "metadata": {},
   "outputs": [],
   "source": []
  },
  {
   "cell_type": "code",
   "execution_count": null,
   "id": "3dbd53b1",
   "metadata": {},
   "outputs": [],
   "source": [
    "import json\n",
    "import geojsonio\n",
    "import folium\n",
    "\n",
    "\n",
    "def createGeoJsonObject(df):\n",
    "    points_dict = dict()\n",
    "    points_dict['type'] = 'FeatureCollection'\n",
    "    points_dict_features = list()\n",
    "    points_dict['features'] = points_dict_features\n",
    "    \n",
    "    # Iterate through all the (lat,long) pairs\n",
    "    for idx, row in df.iterrows():\n",
    "        \n",
    "        item = dict()\n",
    "        item['type'] = 'Feature'\n",
    "        \n",
    "        # Assign point ids\n",
    "        item['properties'] = {'point_id' : idx}\n",
    "        \n",
    "        # Assign point coordinates\n",
    "        geometry = dict()\n",
    "        geometry['type'] = 'Point'\n",
    "        \n",
    "        lat = row['latitude']\n",
    "        long = row['longitude']\n",
    "        \n",
    "        geometry['coordinates'] = [long, lat]\n",
    "        \n",
    "        item['geometry'] = geometry\n",
    "        \n",
    "        points_dict_features.append(item)\n",
    "        \n",
    "    return points_dict"
   ]
  },
  {
   "cell_type": "code",
   "execution_count": null,
   "id": "0fa25109",
   "metadata": {},
   "outputs": [],
   "source": [
    "hotels_json = createGeoJsonObject(df)"
   ]
  },
  {
   "cell_type": "code",
   "execution_count": null,
   "id": "e353e987",
   "metadata": {},
   "outputs": [],
   "source": [
    "m = folium.Map(location = [12.376187, 45.421611],zoom_start = 10)\n",
    "m.choropleth(geo_data = hotels_json, data = sizes,\n",
    "             columns =['Pick-up Zone', 'Number of Pickups'],\n",
    "             key_on = 'feature.properties.point_id',\n",
    "             fill_color = 'RdYlGn', fill_opacity = 0.7, line_opacity = 0.8,\n",
    "             legend_name = 'Distribution of Incidents')\n",
    "folium.LayerControl().add_to(m)\n",
    "\n",
    "m"
   ]
  },
  {
   "cell_type": "code",
   "execution_count": null,
   "id": "ae1ee118",
   "metadata": {},
   "outputs": [],
   "source": []
  }
 ],
 "metadata": {
  "kernelspec": {
   "display_name": "Python 3",
   "language": "python",
   "name": "python3"
  },
  "language_info": {
   "codemirror_mode": {
    "name": "ipython",
    "version": 3
   },
   "file_extension": ".py",
   "mimetype": "text/x-python",
   "name": "python",
   "nbconvert_exporter": "python",
   "pygments_lexer": "ipython3",
   "version": "3.8.8"
  }
 },
 "nbformat": 4,
 "nbformat_minor": 5
}
